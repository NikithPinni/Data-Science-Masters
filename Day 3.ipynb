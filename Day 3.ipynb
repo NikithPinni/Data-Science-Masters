{
 "cells": [
  {
   "cell_type": "code",
   "execution_count": null,
   "id": "265ac7e9-e4c7-40c9-8314-5b90f78e1a45",
   "metadata": {},
   "outputs": [],
   "source": [
    "#Logical Operators"
   ]
  },
  {
   "cell_type": "code",
   "execution_count": 1,
   "id": "561aba0d-4152-4469-8081-1a5e6929fae0",
   "metadata": {},
   "outputs": [
    {
     "data": {
      "text/plain": [
       "True"
      ]
     },
     "execution_count": 1,
     "metadata": {},
     "output_type": "execute_result"
    }
   ],
   "source": [
    "True and True"
   ]
  },
  {
   "cell_type": "code",
   "execution_count": 2,
   "id": "890e9484-71bb-494c-a210-aa15309c907d",
   "metadata": {},
   "outputs": [
    {
     "data": {
      "text/plain": [
       "False"
      ]
     },
     "execution_count": 2,
     "metadata": {},
     "output_type": "execute_result"
    }
   ],
   "source": [
    "False and True"
   ]
  },
  {
   "cell_type": "code",
   "execution_count": 3,
   "id": "c715d71a-a96e-4b2c-a861-8af4afe63ff4",
   "metadata": {},
   "outputs": [
    {
     "data": {
      "text/plain": [
       "True"
      ]
     },
     "execution_count": 3,
     "metadata": {},
     "output_type": "execute_result"
    }
   ],
   "source": [
    "False or True"
   ]
  },
  {
   "cell_type": "code",
   "execution_count": 4,
   "id": "b99ae472-9d84-4211-8504-630c0e4b3273",
   "metadata": {},
   "outputs": [
    {
     "data": {
      "text/plain": [
       "True"
      ]
     },
     "execution_count": 4,
     "metadata": {},
     "output_type": "execute_result"
    }
   ],
   "source": [
    "bool(8)"
   ]
  },
  {
   "cell_type": "code",
   "execution_count": 6,
   "id": "447147f8-da99-4b29-b884-6131eff5d6ae",
   "metadata": {},
   "outputs": [
    {
     "data": {
      "text/plain": [
       "False"
      ]
     },
     "execution_count": 6,
     "metadata": {},
     "output_type": "execute_result"
    }
   ],
   "source": [
    "not bool(8) #No need of bracket"
   ]
  },
  {
   "cell_type": "code",
   "execution_count": 7,
   "id": "cea9f051-e37b-4443-a064-df46f1e15535",
   "metadata": {},
   "outputs": [
    {
     "data": {
      "text/plain": [
       "False"
      ]
     },
     "execution_count": 7,
     "metadata": {},
     "output_type": "execute_result"
    }
   ],
   "source": [
    "not 8"
   ]
  },
  {
   "cell_type": "code",
   "execution_count": 8,
   "id": "e7ea5560-8f39-409f-9329-f074fb6736ed",
   "metadata": {},
   "outputs": [
    {
     "data": {
      "text/plain": [
       "1"
      ]
     },
     "execution_count": 8,
     "metadata": {},
     "output_type": "execute_result"
    }
   ],
   "source": [
    "True * True"
   ]
  },
  {
   "cell_type": "code",
   "execution_count": 9,
   "id": "9bcbb4a0-f9c6-420c-81de-dd20e871e0e2",
   "metadata": {},
   "outputs": [
    {
     "data": {
      "text/plain": [
       "True"
      ]
     },
     "execution_count": 9,
     "metadata": {},
     "output_type": "execute_result"
    }
   ],
   "source": [
    "not False * True"
   ]
  },
  {
   "cell_type": "code",
   "execution_count": null,
   "id": "9c17d766-795b-4c18-a686-6147e4469584",
   "metadata": {},
   "outputs": [],
   "source": []
  },
  {
   "cell_type": "code",
   "execution_count": 10,
   "id": "e205761a-dee3-4452-9a16-77f41ea5b9f7",
   "metadata": {},
   "outputs": [
    {
     "ename": "SyntaxError",
     "evalue": "invalid syntax (487084230.py, line 1)",
     "output_type": "error",
     "traceback": [
      "\u001b[0;36m  Cell \u001b[0;32mIn[10], line 1\u001b[0;36m\u001b[0m\n\u001b[0;31m    not False * not False\u001b[0m\n\u001b[0m                ^\u001b[0m\n\u001b[0;31mSyntaxError\u001b[0m\u001b[0;31m:\u001b[0m invalid syntax\n"
     ]
    }
   ],
   "source": [
    "not False * not False \n",
    "#you can't use not for the second operand but you can use not for the first operand as shown"
   ]
  },
  {
   "cell_type": "code",
   "execution_count": 14,
   "id": "d02bba67-8c59-4eed-b3d7-31984391b1ee",
   "metadata": {},
   "outputs": [
    {
     "data": {
      "text/plain": [
       "True"
      ]
     },
     "execution_count": 14,
     "metadata": {},
     "output_type": "execute_result"
    }
   ],
   "source": [
    "not False * (not False) \n",
    "#For rectifying the above error you should use ()"
   ]
  },
  {
   "cell_type": "code",
   "execution_count": 11,
   "id": "40b3a5c4-3851-4ce0-afd7-4d24d69ba98a",
   "metadata": {},
   "outputs": [
    {
     "data": {
      "text/plain": [
       "True"
      ]
     },
     "execution_count": 11,
     "metadata": {},
     "output_type": "execute_result"
    }
   ],
   "source": [
    "not False * True #output is boolean type"
   ]
  },
  {
   "cell_type": "code",
   "execution_count": 12,
   "id": "99f6e778-0d56-4a87-9af2-9055d359e73f",
   "metadata": {},
   "outputs": [
    {
     "data": {
      "text/plain": [
       "1"
      ]
     },
     "execution_count": 12,
     "metadata": {},
     "output_type": "execute_result"
    }
   ],
   "source": [
    "True * True #output is a integer type"
   ]
  },
  {
   "cell_type": "code",
   "execution_count": 13,
   "id": "2cbcf76d-d50a-4329-9ba8-28858e554039",
   "metadata": {},
   "outputs": [
    {
     "data": {
      "text/plain": [
       "1"
      ]
     },
     "execution_count": 13,
     "metadata": {},
     "output_type": "execute_result"
    }
   ],
   "source": [
    "(not False) * True #output is integer type if you apply ()"
   ]
  },
  {
   "cell_type": "code",
   "execution_count": 17,
   "id": "26da7f97-bbb6-494e-898e-bb04f604ab07",
   "metadata": {},
   "outputs": [
    {
     "data": {
      "text/plain": [
       "True"
      ]
     },
     "execution_count": 17,
     "metadata": {},
     "output_type": "execute_result"
    }
   ],
   "source": [
    "not False * True  \n",
    "#output is a bool type"
   ]
  },
  {
   "cell_type": "code",
   "execution_count": 18,
   "id": "17ca2655-34ae-458a-ad70-6cdb9761a58c",
   "metadata": {},
   "outputs": [
    {
     "data": {
      "text/plain": [
       "1"
      ]
     },
     "execution_count": 18,
     "metadata": {},
     "output_type": "execute_result"
    }
   ],
   "source": [
    "(not False) * True #output is integer type if you apply ()"
   ]
  },
  {
   "cell_type": "code",
   "execution_count": 20,
   "id": "4fb9ba65-6005-47c9-805a-031f2d96c41c",
   "metadata": {},
   "outputs": [
    {
     "data": {
      "text/plain": [
       "1"
      ]
     },
     "execution_count": 20,
     "metadata": {},
     "output_type": "execute_result"
    }
   ],
   "source": []
  },
  {
   "cell_type": "code",
   "execution_count": 21,
   "id": "c9aa1ed5-970d-4fd9-a250-29d1c10a36de",
   "metadata": {},
   "outputs": [
    {
     "data": {
      "text/plain": [
       "True"
      ]
     },
     "execution_count": 21,
     "metadata": {},
     "output_type": "execute_result"
    }
   ],
   "source": [
    "not 0"
   ]
  },
  {
   "cell_type": "code",
   "execution_count": 22,
   "id": "51a1e3b5-fe49-4135-bc5a-ebf3d4ee6d9b",
   "metadata": {},
   "outputs": [
    {
     "data": {
      "text/plain": [
       "0"
      ]
     },
     "execution_count": 22,
     "metadata": {},
     "output_type": "execute_result"
    }
   ],
   "source": [
    "False * True"
   ]
  },
  {
   "cell_type": "code",
   "execution_count": 23,
   "id": "ef44d2a0-055f-49f9-a32a-def01cc384bc",
   "metadata": {},
   "outputs": [
    {
     "data": {
      "text/plain": [
       "True"
      ]
     },
     "execution_count": 23,
     "metadata": {},
     "output_type": "execute_result"
    }
   ],
   "source": [
    "False or True"
   ]
  },
  {
   "cell_type": "code",
   "execution_count": 25,
   "id": "d578c297-3218-413e-a0fa-e4cce0231aa2",
   "metadata": {},
   "outputs": [
    {
     "data": {
      "text/plain": [
       "True"
      ]
     },
     "execution_count": 25,
     "metadata": {},
     "output_type": "execute_result"
    }
   ],
   "source": [
    "not False * True == True #diff outputs for same operation on LHS"
   ]
  },
  {
   "cell_type": "code",
   "execution_count": 26,
   "id": "e3de76a7-f062-4554-8558-a14445f66a3e",
   "metadata": {},
   "outputs": [
    {
     "data": {
      "text/plain": [
       "False"
      ]
     },
     "execution_count": 26,
     "metadata": {},
     "output_type": "execute_result"
    }
   ],
   "source": [
    "not False * True == False #diff outputs for same operation on LHS"
   ]
  },
  {
   "cell_type": "code",
   "execution_count": 27,
   "id": "9e712834-cd28-4aa0-98ac-be898ef02329",
   "metadata": {},
   "outputs": [],
   "source": [
    "#Equality Operators"
   ]
  },
  {
   "cell_type": "code",
   "execution_count": 29,
   "id": "d53aa8d0-4053-4687-9eb7-2a519bf20d73",
   "metadata": {},
   "outputs": [
    {
     "name": "stdout",
     "output_type": "stream",
     "text": [
      "[1, 2, 3]\n",
      "[1, 2, 3]\n",
      "140107410770432\n",
      "140107410770304\n"
     ]
    },
    {
     "data": {
      "text/plain": [
       "False"
      ]
     },
     "execution_count": 29,
     "metadata": {},
     "output_type": "execute_result"
    }
   ],
   "source": [
    "#is Operator\n",
    "lst_a = [1,2,3]\n",
    "lst_b = [1,2,3]\n",
    "print(lst_a)\n",
    "print(lst_b)\n",
    "print(id(lst_a))\n",
    "print(id(lst_b))\n",
    "lst_a is lst_b"
   ]
  },
  {
   "cell_type": "code",
   "execution_count": 30,
   "id": "f0d8b93a-8415-485c-b9f3-ad35f0f8fa3f",
   "metadata": {},
   "outputs": [
    {
     "name": "stdout",
     "output_type": "stream",
     "text": [
      "[1, 2, 3]\n",
      "[1, 2, 3]\n",
      "140107410769664\n",
      "140107410769664\n"
     ]
    },
    {
     "data": {
      "text/plain": [
       "True"
      ]
     },
     "execution_count": 30,
     "metadata": {},
     "output_type": "execute_result"
    }
   ],
   "source": [
    "lst_a = [1,2,3]\n",
    "lst_b = lst_a \n",
    "print(lst_a)\n",
    "print(lst_b)\n",
    "print(id(lst_a))\n",
    "print(id(lst_b))\n",
    "lst_a is lst_b"
   ]
  },
  {
   "cell_type": "code",
   "execution_count": 31,
   "id": "f224f264-674c-49af-93b4-7e30c63ed9eb",
   "metadata": {},
   "outputs": [],
   "source": [
    "# \"is not\" is inverse of \"is\" operator"
   ]
  },
  {
   "cell_type": "code",
   "execution_count": 32,
   "id": "3b1b7106-856a-4aa3-96df-a44542630ca4",
   "metadata": {},
   "outputs": [
    {
     "name": "stdout",
     "output_type": "stream",
     "text": [
      "[1, 2, 3]\n",
      "[1, 2, 3]\n",
      "140107410770496\n",
      "140107410694656\n"
     ]
    },
    {
     "data": {
      "text/plain": [
       "True"
      ]
     },
     "execution_count": 32,
     "metadata": {},
     "output_type": "execute_result"
    }
   ],
   "source": [
    "#is not Operator\n",
    "lst_a = [1,2,3]\n",
    "lst_b = [1,2,3]\n",
    "print(lst_a)\n",
    "print(lst_b)\n",
    "print(id(lst_a))\n",
    "print(id(lst_b))\n",
    "lst_a is not lst_b"
   ]
  },
  {
   "cell_type": "code",
   "execution_count": 33,
   "id": "039f9d75-a761-4c94-8bf3-d0876e402243",
   "metadata": {},
   "outputs": [
    {
     "data": {
      "text/plain": [
       "True"
      ]
     },
     "execution_count": 33,
     "metadata": {},
     "output_type": "execute_result"
    }
   ],
   "source": [
    "lst_a = [1,2,3]\n",
    "lst_b = [1,2,3]\n",
    "lst_a == lst_b"
   ]
  },
  {
   "cell_type": "code",
   "execution_count": 34,
   "id": "61339601-a91d-47ab-bfae-545c4ee325de",
   "metadata": {},
   "outputs": [
    {
     "data": {
      "text/plain": [
       "False"
      ]
     },
     "execution_count": 34,
     "metadata": {},
     "output_type": "execute_result"
    }
   ],
   "source": [
    "lst_a = [1,2,3]\n",
    "lst_b = [1,2,3,4]\n",
    "lst_a == lst_b"
   ]
  },
  {
   "cell_type": "code",
   "execution_count": 36,
   "id": "0ad850de-a659-4178-9cbd-e14e82b9fc45",
   "metadata": {},
   "outputs": [
    {
     "name": "stdout",
     "output_type": "stream",
     "text": [
      "140107410761008\n",
      "140107410761008\n"
     ]
    },
    {
     "data": {
      "text/plain": [
       "True"
      ]
     },
     "execution_count": 36,
     "metadata": {},
     "output_type": "execute_result"
    }
   ],
   "source": [
    "str1 = \"Nik\"\n",
    "str2 = \"Nik\"\n",
    "print(id(str1))\n",
    "print(id(str2))\n",
    "str1 is str2\n"
   ]
  },
  {
   "cell_type": "code",
   "execution_count": 43,
   "id": "45f076ae-2d20-4cdf-9630-fb3380e0d65f",
   "metadata": {},
   "outputs": [
    {
     "name": "stdout",
     "output_type": "stream",
     "text": [
      "140107612930416\n",
      "140107612930416\n"
     ]
    },
    {
     "data": {
      "text/plain": [
       "True"
      ]
     },
     "execution_count": 43,
     "metadata": {},
     "output_type": "execute_result"
    }
   ],
   "source": [
    "a = 5\n",
    "b = 5\n",
    "print(id(a))\n",
    "print(id(b))\n",
    "a is b\n"
   ]
  },
  {
   "cell_type": "code",
   "execution_count": 42,
   "id": "bdbba53e-9376-4112-9e4a-0b875303c424",
   "metadata": {},
   "outputs": [
    {
     "name": "stdout",
     "output_type": "stream",
     "text": [
      "140107612930416\n",
      "140107612930480\n"
     ]
    },
    {
     "data": {
      "text/plain": [
       "False"
      ]
     },
     "execution_count": 42,
     "metadata": {},
     "output_type": "execute_result"
    }
   ],
   "source": [
    "a = 5\n",
    "b = 7 \n",
    "print(id(a))\n",
    "print(id(b))\n",
    "a is b\n"
   ]
  },
  {
   "cell_type": "code",
   "execution_count": 44,
   "id": "6394432d-6c43-40be-aa9b-c87cb497c9b7",
   "metadata": {},
   "outputs": [],
   "source": [
    "#For String and Single Variable declarations the memeory address is same if the value is same "
   ]
  },
  {
   "cell_type": "code",
   "execution_count": 45,
   "id": "113379ae-4a84-4cc5-a453-c78ed3a32422",
   "metadata": {},
   "outputs": [],
   "source": [
    "#Mutability"
   ]
  },
  {
   "cell_type": "code",
   "execution_count": 46,
   "id": "9cf84284-d974-4dfb-8358-575713ddcaf9",
   "metadata": {},
   "outputs": [],
   "source": [
    "str1 = \"Nikith\""
   ]
  },
  {
   "cell_type": "code",
   "execution_count": 48,
   "id": "3e2678e8-8242-45b9-bb89-6daa5ebed10c",
   "metadata": {},
   "outputs": [
    {
     "ename": "TypeError",
     "evalue": "'str' object does not support item assignment",
     "output_type": "error",
     "traceback": [
      "\u001b[0;31m---------------------------------------------------------------------------\u001b[0m",
      "\u001b[0;31mTypeError\u001b[0m                                 Traceback (most recent call last)",
      "Cell \u001b[0;32mIn[48], line 1\u001b[0m\n\u001b[0;32m----> 1\u001b[0m \u001b[43mstr1\u001b[49m\u001b[43m[\u001b[49m\u001b[38;5;241;43m1\u001b[39;49m\u001b[43m]\u001b[49m\u001b[38;5;241m=\u001b[39m\u001b[38;5;124m'\u001b[39m\u001b[38;5;124mH\u001b[39m\u001b[38;5;124m'\u001b[39m\n",
      "\u001b[0;31mTypeError\u001b[0m: 'str' object does not support item assignment"
     ]
    }
   ],
   "source": [
    "str1[1]='H'"
   ]
  },
  {
   "cell_type": "code",
   "execution_count": 52,
   "id": "e196fe41-7b68-4595-82d7-f0d4090f410c",
   "metadata": {},
   "outputs": [
    {
     "name": "stdout",
     "output_type": "stream",
     "text": [
      "[1, 2, 3]\n"
     ]
    },
    {
     "data": {
      "text/plain": [
       "[1, 5, 3]"
      ]
     },
     "execution_count": 52,
     "metadata": {},
     "output_type": "execute_result"
    }
   ],
   "source": [
    "lst_a = [1,2,3]\n",
    "print(lst_a)\n",
    "lst_a[1] = 5\n",
    "lst_a\n",
    "#Lists are mutable"
   ]
  },
  {
   "cell_type": "code",
   "execution_count": null,
   "id": "26ab67b9-bd23-4680-a4b5-5b5928ca782f",
   "metadata": {},
   "outputs": [],
   "source": [
    "#Comparision Operators "
   ]
  },
  {
   "cell_type": "code",
   "execution_count": 54,
   "id": "ee6c09ed-4103-4dd6-9e59-95ca188494e3",
   "metadata": {},
   "outputs": [
    {
     "name": "stdout",
     "output_type": "stream",
     "text": [
      "Result = True\n"
     ]
    }
   ],
   "source": [
    "a = 5\n",
    "b = 10\n",
    "print(f\"Result = {a < b}\")"
   ]
  },
  {
   "cell_type": "code",
   "execution_count": 55,
   "id": "90ff963b-8ec8-464c-a202-bd3bd53859a6",
   "metadata": {},
   "outputs": [
    {
     "name": "stdout",
     "output_type": "stream",
     "text": [
      "Result = False\n"
     ]
    }
   ],
   "source": [
    "a = 5\n",
    "b = 10\n",
    "print(f\"Result = {a > b}\")"
   ]
  },
  {
   "cell_type": "code",
   "execution_count": 56,
   "id": "b8172079-1080-4c00-a13d-16e99be35f7b",
   "metadata": {},
   "outputs": [
    {
     "name": "stdout",
     "output_type": "stream",
     "text": [
      "Result = False\n"
     ]
    }
   ],
   "source": [
    "a = 5\n",
    "b = 10\n",
    "print(f\"Result = {a == b}\")"
   ]
  },
  {
   "cell_type": "code",
   "execution_count": 57,
   "id": "5c58128f-aaa4-4b28-8bd8-7a536715f62d",
   "metadata": {},
   "outputs": [
    {
     "name": "stdout",
     "output_type": "stream",
     "text": [
      "Result = True\n"
     ]
    }
   ],
   "source": [
    "a = 10\n",
    "b = 10\n",
    "print(f\"Result = {a == b}\")"
   ]
  },
  {
   "cell_type": "code",
   "execution_count": 58,
   "id": "143758f8-03fc-4a12-9cca-26162dd528ad",
   "metadata": {},
   "outputs": [
    {
     "data": {
      "text/plain": [
       "4.166666666666667"
      ]
     },
     "execution_count": 58,
     "metadata": {},
     "output_type": "execute_result"
    }
   ],
   "source": [
    "25/6"
   ]
  },
  {
   "cell_type": "code",
   "execution_count": 59,
   "id": "be2e7d67-8bee-41d1-afbf-5d456d1a028b",
   "metadata": {},
   "outputs": [
    {
     "data": {
      "text/plain": [
       "4"
      ]
     },
     "execution_count": 59,
     "metadata": {},
     "output_type": "execute_result"
    }
   ],
   "source": [
    "25//6"
   ]
  },
  {
   "cell_type": "code",
   "execution_count": 60,
   "id": "26137a96-eacd-4f0d-9e0a-aa432a20e197",
   "metadata": {},
   "outputs": [],
   "source": [
    "##BitWise Operators"
   ]
  },
  {
   "cell_type": "code",
   "execution_count": 61,
   "id": "569e6577-f05d-468f-8e2e-9f9d0267018f",
   "metadata": {},
   "outputs": [
    {
     "data": {
      "text/plain": [
       "'0b1010'"
      ]
     },
     "execution_count": 61,
     "metadata": {},
     "output_type": "execute_result"
    }
   ],
   "source": [
    "var = 10\n",
    "bin(var)"
   ]
  },
  {
   "cell_type": "code",
   "execution_count": 62,
   "id": "e79c1ca0-6a0c-4d3e-b2b2-24ee70009475",
   "metadata": {},
   "outputs": [
    {
     "data": {
      "text/plain": [
       "-11"
      ]
     },
     "execution_count": 62,
     "metadata": {},
     "output_type": "execute_result"
    }
   ],
   "source": [
    "~var"
   ]
  },
  {
   "cell_type": "code",
   "execution_count": 64,
   "id": "64d92dcb-0262-4cf1-9a90-650d6a8744a1",
   "metadata": {},
   "outputs": [
    {
     "data": {
      "text/plain": [
       "False"
      ]
     },
     "execution_count": 64,
     "metadata": {},
     "output_type": "execute_result"
    }
   ],
   "source": [
    "False & True"
   ]
  },
  {
   "cell_type": "code",
   "execution_count": 65,
   "id": "8e6ae74e-4b61-4738-b9df-943356a589af",
   "metadata": {},
   "outputs": [
    {
     "data": {
      "text/plain": [
       "True"
      ]
     },
     "execution_count": 65,
     "metadata": {},
     "output_type": "execute_result"
    }
   ],
   "source": [
    "True | False"
   ]
  },
  {
   "cell_type": "code",
   "execution_count": 69,
   "id": "2a43a981-3fed-493d-b787-c403e548e0b0",
   "metadata": {},
   "outputs": [
    {
     "data": {
      "text/plain": [
       "10"
      ]
     },
     "execution_count": 69,
     "metadata": {},
     "output_type": "execute_result"
    }
   ],
   "source": [
    "var = 10\n",
    "var\n"
   ]
  },
  {
   "cell_type": "code",
   "execution_count": 71,
   "id": "376c46ec-9138-40d4-b41c-a5d1f94da199",
   "metadata": {},
   "outputs": [
    {
     "data": {
      "text/plain": [
       "20"
      ]
     },
     "execution_count": 71,
     "metadata": {},
     "output_type": "execute_result"
    }
   ],
   "source": [
    "var << 1"
   ]
  },
  {
   "cell_type": "code",
   "execution_count": 72,
   "id": "e4c51fd7-c6b6-44a1-8f4e-49deb133bb55",
   "metadata": {},
   "outputs": [
    {
     "data": {
      "text/plain": [
       "'0b10100'"
      ]
     },
     "execution_count": 72,
     "metadata": {},
     "output_type": "execute_result"
    }
   ],
   "source": [
    "bin(20)"
   ]
  },
  {
   "cell_type": "code",
   "execution_count": null,
   "id": "c20bd46e-7d5d-4726-bfde-2b4893f42a57",
   "metadata": {},
   "outputs": [],
   "source": []
  },
  {
   "cell_type": "code",
   "execution_count": 70,
   "id": "71e192c9-e834-4c2e-a08e-668c5a014c9e",
   "metadata": {},
   "outputs": [
    {
     "data": {
      "text/plain": [
       "5"
      ]
     },
     "execution_count": 70,
     "metadata": {},
     "output_type": "execute_result"
    }
   ],
   "source": [
    "var >> 1"
   ]
  },
  {
   "cell_type": "code",
   "execution_count": null,
   "id": "12638443-94d5-40ca-926b-1ade62a7ca9d",
   "metadata": {},
   "outputs": [],
   "source": []
  },
  {
   "cell_type": "code",
   "execution_count": 73,
   "id": "73fe8281-e967-44ea-9dae-836f926b1c6b",
   "metadata": {},
   "outputs": [],
   "source": [
    "#Check all binary operators in google"
   ]
  },
  {
   "cell_type": "markdown",
   "id": "f9475a1c-d661-40ec-a337-04840c161e23",
   "metadata": {},
   "source": [
    "# Strings"
   ]
  },
  {
   "cell_type": "code",
   "execution_count": 77,
   "id": "687db1ac-45df-4c20-bb9f-0261bf10a11a",
   "metadata": {},
   "outputs": [
    {
     "data": {
      "text/plain": [
       "'Nikith'"
      ]
     },
     "execution_count": 77,
     "metadata": {},
     "output_type": "execute_result"
    }
   ],
   "source": [
    "str1 = \"Nikith\"\n",
    "str1"
   ]
  },
  {
   "cell_type": "code",
   "execution_count": 78,
   "id": "ed92d57e-293a-46fe-97f8-19054f6b0f81",
   "metadata": {},
   "outputs": [
    {
     "data": {
      "text/plain": [
       "'Nikith'"
      ]
     },
     "execution_count": 78,
     "metadata": {},
     "output_type": "execute_result"
    }
   ],
   "source": [
    "str1 = 'Nikith'\n",
    "str1\n",
    "#you can use both single and double quotes to declare strings"
   ]
  },
  {
   "cell_type": "code",
   "execution_count": 79,
   "id": "097fff66-a37d-4b90-9190-4b40c22b270d",
   "metadata": {},
   "outputs": [
    {
     "data": {
      "text/plain": [
       "'N'"
      ]
     },
     "execution_count": 79,
     "metadata": {},
     "output_type": "execute_result"
    }
   ],
   "source": [
    "str1[0]"
   ]
  },
  {
   "cell_type": "code",
   "execution_count": 80,
   "id": "47aebad4-dcf3-412c-a459-8f4326f6adff",
   "metadata": {},
   "outputs": [
    {
     "ename": "TypeError",
     "evalue": "'str' object does not support item assignment",
     "output_type": "error",
     "traceback": [
      "\u001b[0;31m---------------------------------------------------------------------------\u001b[0m",
      "\u001b[0;31mTypeError\u001b[0m                                 Traceback (most recent call last)",
      "Cell \u001b[0;32mIn[80], line 1\u001b[0m\n\u001b[0;32m----> 1\u001b[0m \u001b[43mstr1\u001b[49m\u001b[43m[\u001b[49m\u001b[38;5;241;43m0\u001b[39;49m\u001b[43m]\u001b[49m \u001b[38;5;241m=\u001b[39m \u001b[38;5;124m'\u001b[39m\u001b[38;5;124mW\u001b[39m\u001b[38;5;124m'\u001b[39m\n",
      "\u001b[0;31mTypeError\u001b[0m: 'str' object does not support item assignment"
     ]
    }
   ],
   "source": [
    "str1[0] = 'W' #strings are immutable"
   ]
  },
  {
   "cell_type": "code",
   "execution_count": 81,
   "id": "eeb625f8-a1e5-40b9-8b04-a6439f3c5448",
   "metadata": {},
   "outputs": [
    {
     "data": {
      "text/plain": [
       "['__add__',\n",
       " '__class__',\n",
       " '__contains__',\n",
       " '__delattr__',\n",
       " '__dir__',\n",
       " '__doc__',\n",
       " '__eq__',\n",
       " '__format__',\n",
       " '__ge__',\n",
       " '__getattribute__',\n",
       " '__getitem__',\n",
       " '__getnewargs__',\n",
       " '__gt__',\n",
       " '__hash__',\n",
       " '__init__',\n",
       " '__init_subclass__',\n",
       " '__iter__',\n",
       " '__le__',\n",
       " '__len__',\n",
       " '__lt__',\n",
       " '__mod__',\n",
       " '__mul__',\n",
       " '__ne__',\n",
       " '__new__',\n",
       " '__reduce__',\n",
       " '__reduce_ex__',\n",
       " '__repr__',\n",
       " '__rmod__',\n",
       " '__rmul__',\n",
       " '__setattr__',\n",
       " '__sizeof__',\n",
       " '__str__',\n",
       " '__subclasshook__',\n",
       " 'capitalize',\n",
       " 'casefold',\n",
       " 'center',\n",
       " 'count',\n",
       " 'encode',\n",
       " 'endswith',\n",
       " 'expandtabs',\n",
       " 'find',\n",
       " 'format',\n",
       " 'format_map',\n",
       " 'index',\n",
       " 'isalnum',\n",
       " 'isalpha',\n",
       " 'isascii',\n",
       " 'isdecimal',\n",
       " 'isdigit',\n",
       " 'isidentifier',\n",
       " 'islower',\n",
       " 'isnumeric',\n",
       " 'isprintable',\n",
       " 'isspace',\n",
       " 'istitle',\n",
       " 'isupper',\n",
       " 'join',\n",
       " 'ljust',\n",
       " 'lower',\n",
       " 'lstrip',\n",
       " 'maketrans',\n",
       " 'partition',\n",
       " 'removeprefix',\n",
       " 'removesuffix',\n",
       " 'replace',\n",
       " 'rfind',\n",
       " 'rindex',\n",
       " 'rjust',\n",
       " 'rpartition',\n",
       " 'rsplit',\n",
       " 'rstrip',\n",
       " 'split',\n",
       " 'splitlines',\n",
       " 'startswith',\n",
       " 'strip',\n",
       " 'swapcase',\n",
       " 'title',\n",
       " 'translate',\n",
       " 'upper',\n",
       " 'zfill']"
      ]
     },
     "execution_count": 81,
     "metadata": {},
     "output_type": "execute_result"
    }
   ],
   "source": [
    "dir(str1) #use dir() for finding inbuilt functions"
   ]
  },
  {
   "cell_type": "code",
   "execution_count": 82,
   "id": "677e4e5d-f236-4af0-a697-388232aa4416",
   "metadata": {},
   "outputs": [],
   "source": [
    "string =  \"Welcome to physics wallah\""
   ]
  },
  {
   "cell_type": "code",
   "execution_count": 83,
   "id": "c2be1efb-38e9-4126-9302-d84e5fb421b6",
   "metadata": {},
   "outputs": [
    {
     "data": {
      "text/plain": [
       "'Welcome to physics wallah'"
      ]
     },
     "execution_count": 83,
     "metadata": {},
     "output_type": "execute_result"
    }
   ],
   "source": [
    "string"
   ]
  },
  {
   "cell_type": "code",
   "execution_count": 84,
   "id": "13277922-4f8f-4a6a-a3ef-4ce70b0da46b",
   "metadata": {},
   "outputs": [
    {
     "data": {
      "text/plain": [
       "'t'"
      ]
     },
     "execution_count": 84,
     "metadata": {},
     "output_type": "execute_result"
    }
   ],
   "source": [
    "string[8]"
   ]
  },
  {
   "cell_type": "code",
   "execution_count": 85,
   "id": "302030e3-bea1-44a6-8bad-4141edea84fe",
   "metadata": {},
   "outputs": [
    {
     "data": {
      "text/plain": [
       "'to physics wallah'"
      ]
     },
     "execution_count": 85,
     "metadata": {},
     "output_type": "execute_result"
    }
   ],
   "source": [
    "#Slicing operation\n",
    "string[8:]\n",
    "# Displays till the end"
   ]
  },
  {
   "cell_type": "code",
   "execution_count": 86,
   "id": "f6001da4-d58e-4545-9c48-af32dcec70eb",
   "metadata": {},
   "outputs": [
    {
     "data": {
      "text/plain": [
       "'to physic'"
      ]
     },
     "execution_count": 86,
     "metadata": {},
     "output_type": "execute_result"
    }
   ],
   "source": [
    "string[8:17]\n",
    "#from index 8 to 17-1=(16th index)"
   ]
  },
  {
   "cell_type": "code",
   "execution_count": 87,
   "id": "225c3bf6-919f-44f2-9b27-e25d9a2c0b6d",
   "metadata": {},
   "outputs": [
    {
     "data": {
      "text/plain": [
       "'h'"
      ]
     },
     "execution_count": 87,
     "metadata": {},
     "output_type": "execute_result"
    }
   ],
   "source": [
    "string[-1]\n",
    "#last letter"
   ]
  },
  {
   "cell_type": "code",
   "execution_count": 89,
   "id": "15cfa959-5b71-4451-b951-daee3aae566c",
   "metadata": {},
   "outputs": [
    {
     "data": {
      "text/plain": [
       "'wallah'"
      ]
     },
     "execution_count": 89,
     "metadata": {},
     "output_type": "execute_result"
    }
   ],
   "source": [
    "string[-6:]"
   ]
  },
  {
   "cell_type": "code",
   "execution_count": 92,
   "id": "d8aae5ed-f43b-4790-b05d-f865b4c843fa",
   "metadata": {},
   "outputs": [
    {
     "data": {
      "text/plain": [
       "''"
      ]
     },
     "execution_count": 92,
     "metadata": {},
     "output_type": "execute_result"
    }
   ],
   "source": [
    "string[-6:-9] #no output "
   ]
  },
  {
   "cell_type": "code",
   "execution_count": null,
   "id": "28584010-59ec-4d4d-8363-d250e9f683fa",
   "metadata": {},
   "outputs": [],
   "source": [
    "# Note: Slicing Operation always travels from LHS to RHS even though we use negative indexing"
   ]
  },
  {
   "cell_type": "code",
   "execution_count": 105,
   "id": "dd86b0c1-9ca4-43b0-abb3-de620a590624",
   "metadata": {},
   "outputs": [
    {
     "data": {
      "text/plain": [
       "'Welcome to physics wallah'"
      ]
     },
     "execution_count": 105,
     "metadata": {},
     "output_type": "execute_result"
    }
   ],
   "source": [
    "string[-6:-2]\n",
    "string"
   ]
  },
  {
   "cell_type": "code",
   "execution_count": 108,
   "id": "9a7e43ee-db41-4b26-8fa8-dd8f76942aa8",
   "metadata": {},
   "outputs": [
    {
     "data": {
      "text/plain": [
       "'wallah'"
      ]
     },
     "execution_count": 108,
     "metadata": {},
     "output_type": "execute_result"
    }
   ],
   "source": [
    "string[-6:25] #works"
   ]
  },
  {
   "cell_type": "code",
   "execution_count": 106,
   "id": "54d67ba8-408d-4770-ad18-89d57bcc8006",
   "metadata": {},
   "outputs": [
    {
     "data": {
      "text/plain": [
       "25"
      ]
     },
     "execution_count": 106,
     "metadata": {},
     "output_type": "execute_result"
    }
   ],
   "source": [
    "len(string)"
   ]
  },
  {
   "cell_type": "code",
   "execution_count": 98,
   "id": "4c03ee1a-9dfe-4793-8c53-33c9645a0d54",
   "metadata": {},
   "outputs": [
    {
     "data": {
      "text/plain": [
       "''"
      ]
     },
     "execution_count": 98,
     "metadata": {},
     "output_type": "execute_result"
    }
   ],
   "source": [
    "string[7:5] #no output,only travels from LHS to RHS"
   ]
  },
  {
   "cell_type": "code",
   "execution_count": 99,
   "id": "2766895d-b3ed-40b1-a8b5-adfd1e63af4e",
   "metadata": {},
   "outputs": [
    {
     "data": {
      "text/plain": [
       "'Welcome to physics wallah'"
      ]
     },
     "execution_count": 99,
     "metadata": {},
     "output_type": "execute_result"
    }
   ],
   "source": [
    "string[:] #prints everything"
   ]
  },
  {
   "cell_type": "code",
   "execution_count": 101,
   "id": "95b2b68d-3f29-4573-a4ad-e414169acda1",
   "metadata": {},
   "outputs": [
    {
     "data": {
      "text/plain": [
       "'me to physics wallah'"
      ]
     },
     "execution_count": 101,
     "metadata": {},
     "output_type": "execute_result"
    }
   ],
   "source": [
    "string[5:]"
   ]
  },
  {
   "cell_type": "code",
   "execution_count": 102,
   "id": "8dff7c72-bd77-4ccb-87f2-fd0882c60639",
   "metadata": {},
   "outputs": [
    {
     "data": {
      "text/plain": [
       "'Welco'"
      ]
     },
     "execution_count": 102,
     "metadata": {},
     "output_type": "execute_result"
    }
   ],
   "source": [
    "string[:5]"
   ]
  },
  {
   "cell_type": "code",
   "execution_count": 103,
   "id": "f3dc7ae5-fc6f-4459-85e8-89fce2c8ab39",
   "metadata": {},
   "outputs": [
    {
     "data": {
      "text/plain": [
       "'h'"
      ]
     },
     "execution_count": 103,
     "metadata": {},
     "output_type": "execute_result"
    }
   ],
   "source": [
    "string[-1:] #prints last char in the string"
   ]
  },
  {
   "cell_type": "code",
   "execution_count": 104,
   "id": "478a0f3b-cd4b-46e4-8ddf-f837e27c866b",
   "metadata": {},
   "outputs": [
    {
     "data": {
      "text/plain": [
       "'Welcome to physics walla'"
      ]
     },
     "execution_count": 104,
     "metadata": {},
     "output_type": "execute_result"
    }
   ],
   "source": [
    "string[:-1]"
   ]
  },
  {
   "cell_type": "code",
   "execution_count": 109,
   "id": "af02e07b-2563-4f8b-be3d-0d06171bc97a",
   "metadata": {},
   "outputs": [
    {
     "data": {
      "text/plain": [
       "'Welcome to physics wallah'"
      ]
     },
     "execution_count": 109,
     "metadata": {},
     "output_type": "execute_result"
    }
   ],
   "source": [
    "string[::] #shows everything"
   ]
  },
  {
   "cell_type": "code",
   "execution_count": 110,
   "id": "0f614ca2-0284-4f66-bbbe-669e871ef2d8",
   "metadata": {},
   "outputs": [
    {
     "data": {
      "text/plain": [
       "'hallaw scisyhp ot emocleW'"
      ]
     },
     "execution_count": 110,
     "metadata": {},
     "output_type": "execute_result"
    }
   ],
   "source": [
    "string[::-1] #shows everything in reverse order"
   ]
  },
  {
   "cell_type": "code",
   "execution_count": 113,
   "id": "baca73c2-ab30-44ef-964a-7561e78d8dea",
   "metadata": {},
   "outputs": [
    {
     "data": {
      "text/plain": [
       "'hallaw scisyhp ot emocleW'"
      ]
     },
     "execution_count": 113,
     "metadata": {},
     "output_type": "execute_result"
    }
   ],
   "source": [
    "string[::-1]"
   ]
  },
  {
   "cell_type": "code",
   "execution_count": 112,
   "id": "a5654bd4-1772-4c0a-bc75-d0e23040d1d2",
   "metadata": {},
   "outputs": [
    {
     "data": {
      "text/plain": [
       "'hla csh teolW'"
      ]
     },
     "execution_count": 112,
     "metadata": {},
     "output_type": "execute_result"
    }
   ],
   "source": [
    "string[::-2]"
   ]
  },
  {
   "cell_type": "code",
   "execution_count": 114,
   "id": "540423dd-8d6a-4440-8bae-e8bddd301ebe",
   "metadata": {},
   "outputs": [
    {
     "data": {
      "text/plain": [
       "'hl ihoecW'"
      ]
     },
     "execution_count": 114,
     "metadata": {},
     "output_type": "execute_result"
    }
   ],
   "source": [
    "string[::-3] #explanation in notes,takes first element and every 3rd element from reverse order"
   ]
  },
  {
   "cell_type": "code",
   "execution_count": 4,
   "id": "c20472e9-7d5f-40b2-a86f-8744f6249dc6",
   "metadata": {},
   "outputs": [
    {
     "data": {
      "text/plain": [
       "'Wc piwa'"
      ]
     },
     "execution_count": 4,
     "metadata": {},
     "output_type": "execute_result"
    }
   ],
   "source": [
    "string = \"Welocome to physics wallah\"\n",
    "string[::4]"
   ]
  },
  {
   "cell_type": "code",
   "execution_count": 5,
   "id": "04ffa68c-5a2d-43d7-9715-38cea21b32e0",
   "metadata": {},
   "outputs": [
    {
     "data": {
      "text/plain": [
       "'Welocome to physics wallah'"
      ]
     },
     "execution_count": 5,
     "metadata": {},
     "output_type": "execute_result"
    }
   ],
   "source": [
    "string[::1] #prints everything"
   ]
  },
  {
   "cell_type": "code",
   "execution_count": 6,
   "id": "07c09b8b-6364-4461-abf8-01aecfd5ddfa",
   "metadata": {},
   "outputs": [
    {
     "ename": "ValueError",
     "evalue": "slice step cannot be zero",
     "output_type": "error",
     "traceback": [
      "\u001b[0;31m---------------------------------------------------------------------------\u001b[0m",
      "\u001b[0;31mValueError\u001b[0m                                Traceback (most recent call last)",
      "Cell \u001b[0;32mIn[6], line 1\u001b[0m\n\u001b[0;32m----> 1\u001b[0m \u001b[43mstring\u001b[49m\u001b[43m[\u001b[49m\u001b[43m:\u001b[49m\u001b[43m:\u001b[49m\u001b[38;5;241;43m0\u001b[39;49m\u001b[43m]\u001b[49m\n",
      "\u001b[0;31mValueError\u001b[0m: slice step cannot be zero"
     ]
    }
   ],
   "source": [
    "string[::0] #throws error"
   ]
  },
  {
   "cell_type": "code",
   "execution_count": 7,
   "id": "f0f89ba4-ec66-4400-96fd-472e96bdad0e",
   "metadata": {},
   "outputs": [
    {
     "data": {
      "text/plain": [
       "'hallaw scisyhp ot emocoleW'"
      ]
     },
     "execution_count": 7,
     "metadata": {},
     "output_type": "execute_result"
    }
   ],
   "source": [
    "string[::-1] #prints everything in reverse order"
   ]
  },
  {
   "cell_type": "code",
   "execution_count": 8,
   "id": "c6857f6f-1dd9-4892-985b-e187c0133a2e",
   "metadata": {},
   "outputs": [],
   "source": [
    "name = \"Nikith\""
   ]
  },
  {
   "cell_type": "code",
   "execution_count": 9,
   "id": "3d6480ed-beda-4d1b-b176-7e23bebe72bc",
   "metadata": {},
   "outputs": [
    {
     "data": {
      "text/plain": [
       "'Nikith'"
      ]
     },
     "execution_count": 9,
     "metadata": {},
     "output_type": "execute_result"
    }
   ],
   "source": [
    "name"
   ]
  },
  {
   "cell_type": "code",
   "execution_count": 11,
   "id": "f650e463-cf90-4a9b-85f7-01074503a1f7",
   "metadata": {},
   "outputs": [
    {
     "data": {
      "text/plain": [
       "'htikiN'"
      ]
     },
     "execution_count": 11,
     "metadata": {},
     "output_type": "execute_result"
    }
   ],
   "source": [
    "name[5::-1] #reverse order printing upto 3 elements"
   ]
  },
  {
   "cell_type": "code",
   "execution_count": 12,
   "id": "a1163be6-23ee-4f48-b3da-a494c4e7ea62",
   "metadata": {},
   "outputs": [
    {
     "data": {
      "text/plain": [
       "'kiN'"
      ]
     },
     "execution_count": 12,
     "metadata": {},
     "output_type": "execute_result"
    }
   ],
   "source": [
    "name[2::-1] #reverse order printing upto 3 elements"
   ]
  },
  {
   "cell_type": "code",
   "execution_count": 20,
   "id": "290a2a86-1f86-4918-90e6-3e69a1abc069",
   "metadata": {},
   "outputs": [
    {
     "data": {
      "text/plain": [
       "'tik'"
      ]
     },
     "execution_count": 20,
     "metadata": {},
     "output_type": "execute_result"
    }
   ],
   "source": [
    "name[4:1:-1] #starting from 4th index upto 1st index(excluded) will be displayed in reverse order"
   ]
  },
  {
   "cell_type": "code",
   "execution_count": 15,
   "id": "ebbde901-5441-409a-bd12-b0b32e2f46e1",
   "metadata": {},
   "outputs": [
    {
     "data": {
      "text/plain": [
       "'Nikith'"
      ]
     },
     "execution_count": 15,
     "metadata": {},
     "output_type": "execute_result"
    }
   ],
   "source": [
    "name"
   ]
  },
  {
   "cell_type": "code",
   "execution_count": 21,
   "id": "b40b79a7-741f-43e5-904c-e2a806cb3dfe",
   "metadata": {},
   "outputs": [],
   "source": [
    "course = \"Data Science Masters\"\n",
    "#I want Science in forward and backward directions using slicing techniques"
   ]
  },
  {
   "cell_type": "code",
   "execution_count": 24,
   "id": "67b92f81-82e2-4bae-b38b-3ee36f4f9e27",
   "metadata": {},
   "outputs": [
    {
     "data": {
      "text/plain": [
       "'Science'"
      ]
     },
     "execution_count": 24,
     "metadata": {},
     "output_type": "execute_result"
    }
   ],
   "source": [
    "course[5:12] #consume the technique"
   ]
  },
  {
   "cell_type": "code",
   "execution_count": 27,
   "id": "772936b5-4381-4e2c-a599-709439c9fb46",
   "metadata": {},
   "outputs": [
    {
     "data": {
      "text/plain": [
       "'ecneicS'"
      ]
     },
     "execution_count": 27,
     "metadata": {},
     "output_type": "execute_result"
    }
   ],
   "source": [
    "course[11:4:-1] #consume the technique"
   ]
  },
  {
   "cell_type": "code",
   "execution_count": 28,
   "id": "dc18f617-da32-4f5b-976a-519150bda6b9",
   "metadata": {},
   "outputs": [],
   "source": [
    "#Concatenation"
   ]
  },
  {
   "cell_type": "code",
   "execution_count": 29,
   "id": "34651686-0b88-4bd9-830e-69bd866ca5dc",
   "metadata": {},
   "outputs": [
    {
     "data": {
      "text/plain": [
       "'Nikith Pinni'"
      ]
     },
     "execution_count": 29,
     "metadata": {},
     "output_type": "execute_result"
    }
   ],
   "source": [
    "name + \" Pinni\""
   ]
  },
  {
   "cell_type": "code",
   "execution_count": 30,
   "id": "1ce7fcbd-0818-4ce3-bbcd-a76b784473ca",
   "metadata": {},
   "outputs": [
    {
     "name": "stdout",
     "output_type": "stream",
     "text": [
      "Nikith Pinni\n"
     ]
    }
   ],
   "source": [
    "print(\"Nikith \"+\"Pinni\")"
   ]
  },
  {
   "cell_type": "code",
   "execution_count": 31,
   "id": "190971f9-092b-4f70-aeeb-5b733cf297a2",
   "metadata": {},
   "outputs": [
    {
     "data": {
      "text/plain": [
       "'NikithNikithNikithNikithNikith'"
      ]
     },
     "execution_count": 31,
     "metadata": {},
     "output_type": "execute_result"
    }
   ],
   "source": [
    "name * 5 #prints 5 times"
   ]
  },
  {
   "cell_type": "code",
   "execution_count": 32,
   "id": "1550292d-36a5-46bf-97a5-efe908a6ed53",
   "metadata": {},
   "outputs": [
    {
     "data": {
      "text/plain": [
       "6"
      ]
     },
     "execution_count": 32,
     "metadata": {},
     "output_type": "execute_result"
    }
   ],
   "source": [
    "len(name)"
   ]
  },
  {
   "cell_type": "code",
   "execution_count": 35,
   "id": "0f0efc09-5206-44b3-9efa-8a476b2d91f7",
   "metadata": {},
   "outputs": [
    {
     "data": {
      "text/plain": [
       "4"
      ]
     },
     "execution_count": 35,
     "metadata": {},
     "output_type": "execute_result"
    }
   ],
   "source": [
    "name.find(\"t\")\n",
    "#returns index of that specific letter in the string"
   ]
  },
  {
   "cell_type": "code",
   "execution_count": 36,
   "id": "9c903285-fb5d-494c-88fa-4715f9fbfcc8",
   "metadata": {},
   "outputs": [
    {
     "data": {
      "text/plain": [
       "1"
      ]
     },
     "execution_count": 36,
     "metadata": {},
     "output_type": "execute_result"
    }
   ],
   "source": [
    "name.find(\"i\")\n",
    "#Nikith"
   ]
  },
  {
   "cell_type": "code",
   "execution_count": 37,
   "id": "ea0854cc-fdbb-4961-9be8-92f8b8aef1e2",
   "metadata": {},
   "outputs": [],
   "source": [
    "#giving range of indicies for the find function"
   ]
  },
  {
   "cell_type": "code",
   "execution_count": 40,
   "id": "02563ba7-6c59-447e-8508-6b374837d418",
   "metadata": {},
   "outputs": [
    {
     "data": {
      "text/plain": [
       "1"
      ]
     },
     "execution_count": 40,
     "metadata": {},
     "output_type": "execute_result"
    }
   ],
   "source": [
    "name.find(\"i\",1,2)"
   ]
  },
  {
   "cell_type": "code",
   "execution_count": 41,
   "id": "45febd8f-db9b-4ecd-9797-4d08040452ba",
   "metadata": {},
   "outputs": [
    {
     "data": {
      "text/plain": [
       "3"
      ]
     },
     "execution_count": 41,
     "metadata": {},
     "output_type": "execute_result"
    }
   ],
   "source": [
    "name.find(\"i\",2,5)"
   ]
  },
  {
   "cell_type": "code",
   "execution_count": 43,
   "id": "8b0452f7-1f5e-430d-b0b9-a7490b1851dd",
   "metadata": {},
   "outputs": [
    {
     "data": {
      "text/plain": [
       "-1"
      ]
     },
     "execution_count": 43,
     "metadata": {},
     "output_type": "execute_result"
    }
   ],
   "source": [
    "name.find(\"y\")"
   ]
  },
  {
   "cell_type": "code",
   "execution_count": 44,
   "id": "6c70ad34-24a5-4623-a234-26daeb741c3d",
   "metadata": {},
   "outputs": [
    {
     "data": {
      "text/plain": [
       "2"
      ]
     },
     "execution_count": 44,
     "metadata": {},
     "output_type": "execute_result"
    }
   ],
   "source": [
    "name.count(\"i\") #gives no.of i's in name"
   ]
  },
  {
   "cell_type": "code",
   "execution_count": 45,
   "id": "1b89646f-4ed7-47bf-a5a5-cf5736e456ba",
   "metadata": {},
   "outputs": [
    {
     "data": {
      "text/plain": [
       "1"
      ]
     },
     "execution_count": 45,
     "metadata": {},
     "output_type": "execute_result"
    }
   ],
   "source": [
    "name.count(\"t\")"
   ]
  },
  {
   "cell_type": "code",
   "execution_count": 50,
   "id": "6000c0a9-e31b-4468-a241-22e0bd8b3859",
   "metadata": {},
   "outputs": [
    {
     "data": {
      "text/plain": [
       "2"
      ]
     },
     "execution_count": 50,
     "metadata": {},
     "output_type": "execute_result"
    }
   ],
   "source": [
    "\"Nikith Pinni Kumar\".count(\" \")"
   ]
  },
  {
   "cell_type": "code",
   "execution_count": 53,
   "id": "34802b03-bd38-4fb9-92c3-a1de5100f258",
   "metadata": {},
   "outputs": [
    {
     "data": {
      "text/plain": [
       "7"
      ]
     },
     "execution_count": 53,
     "metadata": {},
     "output_type": "execute_result"
    }
   ],
   "source": [
    "name.count('') #prints no.of chars in string + 1 "
   ]
  },
  {
   "cell_type": "code",
   "execution_count": 62,
   "id": "fe8f93b6-6d38-4ecf-9545-f8f44b0c693e",
   "metadata": {},
   "outputs": [
    {
     "data": {
      "text/plain": [
       "3"
      ]
     },
     "execution_count": 62,
     "metadata": {},
     "output_type": "execute_result"
    }
   ],
   "source": [
    "\"Nikith KumarrrrPinni Kumar Kumar\".count(\"Kumar\")"
   ]
  },
  {
   "cell_type": "code",
   "execution_count": 64,
   "id": "e74cfab1-2738-4ff6-84dd-eecb76d959d4",
   "metadata": {},
   "outputs": [
    {
     "data": {
      "text/plain": [
       "13"
      ]
     },
     "execution_count": 64,
     "metadata": {},
     "output_type": "execute_result"
    }
   ],
   "source": [
    "\"Nikith Pinni Kumar Kumar\".find(\"Kumar\")"
   ]
  },
  {
   "cell_type": "code",
   "execution_count": 65,
   "id": "aad7df3e-0442-48bd-8a9f-ab608b7728d5",
   "metadata": {},
   "outputs": [],
   "source": [
    "#String split function"
   ]
  },
  {
   "cell_type": "code",
   "execution_count": 66,
   "id": "33032a57-5143-4ef6-ac73-dd1eeac01257",
   "metadata": {},
   "outputs": [],
   "source": [
    "course = \"Data Science Masters\""
   ]
  },
  {
   "cell_type": "code",
   "execution_count": 67,
   "id": "785a335f-d33b-4635-87e2-09f1f11e203b",
   "metadata": {},
   "outputs": [
    {
     "data": {
      "text/plain": [
       "['Data', 'Science', 'Masters']"
      ]
     },
     "execution_count": 67,
     "metadata": {},
     "output_type": "execute_result"
    }
   ],
   "source": [
    "course.split(\" \")"
   ]
  },
  {
   "cell_type": "code",
   "execution_count": 69,
   "id": "782044bb-e9b9-4eaf-b950-93ea276d3ef9",
   "metadata": {},
   "outputs": [
    {
     "data": {
      "text/plain": [
       "['Data ', 'cience Master', ' ', 'ky']"
      ]
     },
     "execution_count": 69,
     "metadata": {},
     "output_type": "execute_result"
    }
   ],
   "source": [
    "\"Data Science MasterS Sky\".split(\"S\") #Splits wrto \"S\""
   ]
  },
  {
   "cell_type": "code",
   "execution_count": 71,
   "id": "f8e3d38c-e2b4-4b32-8aa3-f0d58f2516c0",
   "metadata": {},
   "outputs": [
    {
     "data": {
      "text/plain": [
       "['Data ', 'cience Masters']"
      ]
     },
     "execution_count": 71,
     "metadata": {},
     "output_type": "execute_result"
    }
   ],
   "source": [
    "\"Data Science Masters\".split(\"S\")"
   ]
  },
  {
   "cell_type": "code",
   "execution_count": 74,
   "id": "fb085659-059f-48a3-947f-f24cd7873205",
   "metadata": {},
   "outputs": [
    {
     "data": {
      "text/plain": [
       "('Data ', 'S', 'cience Sky Masters')"
      ]
     },
     "execution_count": 74,
     "metadata": {},
     "output_type": "execute_result"
    }
   ],
   "source": [
    "\"Data Science Sky Masters\".partition(\"S\") #Only for the first character"
   ]
  },
  {
   "cell_type": "code",
   "execution_count": 75,
   "id": "c6e025c3-7fd2-457a-b4bd-5f56030b0943",
   "metadata": {},
   "outputs": [],
   "source": [
    "#String upper case and lower case"
   ]
  },
  {
   "cell_type": "code",
   "execution_count": 76,
   "id": "7ec1bdf0-f683-449d-ac37-a4ca125c918f",
   "metadata": {},
   "outputs": [
    {
     "data": {
      "text/plain": [
       "'DATA SCIENCE MASTERS'"
      ]
     },
     "execution_count": 76,
     "metadata": {},
     "output_type": "execute_result"
    }
   ],
   "source": [
    "course.upper()"
   ]
  },
  {
   "cell_type": "code",
   "execution_count": 77,
   "id": "3b73bdb7-4815-4a15-a746-2cd6215ac661",
   "metadata": {},
   "outputs": [
    {
     "data": {
      "text/plain": [
       "'data science masters'"
      ]
     },
     "execution_count": 77,
     "metadata": {},
     "output_type": "execute_result"
    }
   ],
   "source": [
    "course.lower()"
   ]
  },
  {
   "cell_type": "code",
   "execution_count": 78,
   "id": "ba8514dc-79d8-4468-90e1-2b375d5415c3",
   "metadata": {},
   "outputs": [
    {
     "data": {
      "text/plain": [
       "'dATA sCIENCE mASTERS'"
      ]
     },
     "execution_count": 78,
     "metadata": {},
     "output_type": "execute_result"
    }
   ],
   "source": [
    "course.swapcase() #converts uppercase into lowercase and viceversa "
   ]
  },
  {
   "cell_type": "code",
   "execution_count": 81,
   "id": "59827352-7879-43a3-af64-5e71d71e6c47",
   "metadata": {},
   "outputs": [
    {
     "data": {
      "text/plain": [
       "'Data Science Masters'"
      ]
     },
     "execution_count": 81,
     "metadata": {},
     "output_type": "execute_result"
    }
   ],
   "source": [
    "\"data science masters\".title() #concerts the first letter of every word into uppercase"
   ]
  },
  {
   "cell_type": "code",
   "execution_count": null,
   "id": "5df757da-3c36-4bf5-8ea0-aeed4f9111a1",
   "metadata": {},
   "outputs": [],
   "source": []
  }
 ],
 "metadata": {
  "kernelspec": {
   "display_name": "Python 3 (ipykernel)",
   "language": "python",
   "name": "python3"
  },
  "language_info": {
   "codemirror_mode": {
    "name": "ipython",
    "version": 3
   },
   "file_extension": ".py",
   "mimetype": "text/x-python",
   "name": "python",
   "nbconvert_exporter": "python",
   "pygments_lexer": "ipython3",
   "version": "3.10.8"
  }
 },
 "nbformat": 4,
 "nbformat_minor": 5
}
