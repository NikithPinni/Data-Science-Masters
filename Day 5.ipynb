{
 "cells": [
  {
   "cell_type": "code",
   "execution_count": null,
   "id": "6ac61cef-ebff-423c-89ff-9e2b21dea487",
   "metadata": {},
   "outputs": [],
   "source": [
    "#Tuples"
   ]
  },
  {
   "cell_type": "code",
   "execution_count": 1,
   "id": "d2fc2ea0-de04-4239-89fe-7db66ebc9053",
   "metadata": {},
   "outputs": [
    {
     "data": {
      "text/plain": [
       "tuple"
      ]
     },
     "execution_count": 1,
     "metadata": {},
     "output_type": "execute_result"
    }
   ],
   "source": [
    "t = ()\n",
    "type(t)"
   ]
  },
  {
   "cell_type": "code",
   "execution_count": 3,
   "id": "88b6dd3c-20d7-4375-ad9b-92073aecae72",
   "metadata": {},
   "outputs": [
    {
     "data": {
      "text/plain": [
       "tuple"
      ]
     },
     "execution_count": 3,
     "metadata": {},
     "output_type": "execute_result"
    }
   ],
   "source": [
    "t1 = (1,2,3,4,4.5,4+6j,\"Nik\",True)\n",
    "type(t1)"
   ]
  },
  {
   "cell_type": "code",
   "execution_count": 4,
   "id": "ce3189c2-a297-4833-91a0-22cba07c8c01",
   "metadata": {},
   "outputs": [
    {
     "data": {
      "text/plain": [
       "list"
      ]
     },
     "execution_count": 4,
     "metadata": {},
     "output_type": "execute_result"
    }
   ],
   "source": [
    "l = [1,2,3,4]\n",
    "type(l)"
   ]
  },
  {
   "cell_type": "code",
   "execution_count": 5,
   "id": "27891952-e805-408a-987b-7e91d0097924",
   "metadata": {},
   "outputs": [
    {
     "data": {
      "text/plain": [
       "(1, 2, 3, 4, 4.5, (4+6j), 'Nik', True)"
      ]
     },
     "execution_count": 5,
     "metadata": {},
     "output_type": "execute_result"
    }
   ],
   "source": [
    "t1"
   ]
  },
  {
   "cell_type": "code",
   "execution_count": 6,
   "id": "4eefa14a-c200-4ca7-a0e0-7e657f720396",
   "metadata": {},
   "outputs": [
    {
     "data": {
      "text/plain": [
       "1"
      ]
     },
     "execution_count": 6,
     "metadata": {},
     "output_type": "execute_result"
    }
   ],
   "source": [
    "t1[0]"
   ]
  },
  {
   "cell_type": "code",
   "execution_count": 7,
   "id": "45008860-18cf-4c7a-8b0e-0ee955f36cb9",
   "metadata": {},
   "outputs": [
    {
     "data": {
      "text/plain": [
       "(4+6j)"
      ]
     },
     "execution_count": 7,
     "metadata": {},
     "output_type": "execute_result"
    }
   ],
   "source": [
    "t1[5]"
   ]
  },
  {
   "cell_type": "code",
   "execution_count": 8,
   "id": "68ac36df-6265-4dc0-8e9c-dd179a90e59e",
   "metadata": {},
   "outputs": [
    {
     "data": {
      "text/plain": [
       "'Nik'"
      ]
     },
     "execution_count": 8,
     "metadata": {},
     "output_type": "execute_result"
    }
   ],
   "source": [
    "t1[6]"
   ]
  },
  {
   "cell_type": "code",
   "execution_count": 9,
   "id": "4e537c5c-7985-48b6-a5f1-8186be97e567",
   "metadata": {},
   "outputs": [
    {
     "data": {
      "text/plain": [
       "(True, 'Nik', (4+6j), 4.5, 4, 3, 2, 1)"
      ]
     },
     "execution_count": 9,
     "metadata": {},
     "output_type": "execute_result"
    }
   ],
   "source": [
    "t1[::-1] #Slicing operations in tuples-->Reverse Order"
   ]
  },
  {
   "cell_type": "code",
   "execution_count": 22,
   "id": "f2362acc-efb1-4e5b-a86b-b3f5f20363c3",
   "metadata": {},
   "outputs": [],
   "source": [
    "\n",
    "t1 = t1[::-1]"
   ]
  },
  {
   "cell_type": "code",
   "execution_count": 11,
   "id": "8dc56548-9d6f-410a-a991-8c7cc2a03e5e",
   "metadata": {},
   "outputs": [
    {
     "data": {
      "text/plain": [
       "(True, 'Nik', (4+6j), 4.5, 4, 3, 2, 1)"
      ]
     },
     "execution_count": 11,
     "metadata": {},
     "output_type": "execute_result"
    }
   ],
   "source": [
    "t1"
   ]
  },
  {
   "cell_type": "code",
   "execution_count": 23,
   "id": "a4f70d07-0aa9-4948-918d-fe99e9ed4c69",
   "metadata": {},
   "outputs": [
    {
     "data": {
      "text/plain": [
       "(True, 'Nik', (4+6j), 4.5, 4, 3, 2, 1)"
      ]
     },
     "execution_count": 23,
     "metadata": {},
     "output_type": "execute_result"
    }
   ],
   "source": [
    "t1"
   ]
  },
  {
   "cell_type": "code",
   "execution_count": 24,
   "id": "87414c08-50d9-4670-a3fd-c0d4bd1d8128",
   "metadata": {},
   "outputs": [
    {
     "data": {
      "text/plain": [
       "(True, 'Nik', (4+6j))"
      ]
     },
     "execution_count": 24,
     "metadata": {},
     "output_type": "execute_result"
    }
   ],
   "source": [
    "t1[0:3]"
   ]
  },
  {
   "cell_type": "code",
   "execution_count": null,
   "id": "af4dc3d6-c285-4fb9-a210-99059ade4bec",
   "metadata": {},
   "outputs": [],
   "source": [
    "#indexing and slicing operations are same in lists and tuples"
   ]
  },
  {
   "cell_type": "code",
   "execution_count": 28,
   "id": "546e6d8a-1b14-4e33-a6ca-b8a1f2731ee0",
   "metadata": {},
   "outputs": [
    {
     "data": {
      "text/plain": [
       "1"
      ]
     },
     "execution_count": 28,
     "metadata": {},
     "output_type": "execute_result"
    }
   ],
   "source": [
    "t1.count(4) #No.of times \"4\" has appeared in tuple"
   ]
  },
  {
   "cell_type": "code",
   "execution_count": 29,
   "id": "7f223870-50c0-41fc-87c1-9bd1e7977b29",
   "metadata": {},
   "outputs": [
    {
     "data": {
      "text/plain": [
       "0"
      ]
     },
     "execution_count": 29,
     "metadata": {},
     "output_type": "execute_result"
    }
   ],
   "source": [
    "t1.count(\"abc\")"
   ]
  },
  {
   "cell_type": "code",
   "execution_count": 31,
   "id": "454fa4e8-2320-46db-89cc-e2f59eab09c4",
   "metadata": {},
   "outputs": [
    {
     "data": {
      "text/plain": [
       "5"
      ]
     },
     "execution_count": 31,
     "metadata": {},
     "output_type": "execute_result"
    }
   ],
   "source": [
    "t1.index(3) #returns the very first occurence of the value"
   ]
  },
  {
   "cell_type": "code",
   "execution_count": 32,
   "id": "ae9753d5-8e81-4e57-b8d9-31195f9f0d66",
   "metadata": {},
   "outputs": [
    {
     "data": {
      "text/plain": [
       "0"
      ]
     },
     "execution_count": 32,
     "metadata": {},
     "output_type": "execute_result"
    }
   ],
   "source": [
    "#Exception\n",
    "#Internally,the system will store \"True\" as 1,Since the \"True\" is in 0th index answer is 0\n",
    "t1.index(1) "
   ]
  },
  {
   "cell_type": "code",
   "execution_count": 33,
   "id": "80f11d6c-ad9f-49fd-95c7-28d7b26d7d2c",
   "metadata": {},
   "outputs": [
    {
     "data": {
      "text/plain": [
       "2"
      ]
     },
     "execution_count": 33,
     "metadata": {},
     "output_type": "execute_result"
    }
   ],
   "source": [
    "t1.count(True) #Excsption as the above code snippet"
   ]
  },
  {
   "cell_type": "code",
   "execution_count": 34,
   "id": "33e76f49-15b2-4b63-93ac-b08e7bd13777",
   "metadata": {},
   "outputs": [
    {
     "data": {
      "text/plain": [
       "2"
      ]
     },
     "execution_count": 34,
     "metadata": {},
     "output_type": "execute_result"
    }
   ],
   "source": [
    "t1.count(1)"
   ]
  },
  {
   "cell_type": "code",
   "execution_count": 35,
   "id": "d4e14ce7-9495-4c90-8a08-5aa5f41c4c82",
   "metadata": {},
   "outputs": [
    {
     "data": {
      "text/plain": [
       "[1, 2, 3, 4]"
      ]
     },
     "execution_count": 35,
     "metadata": {},
     "output_type": "execute_result"
    }
   ],
   "source": [
    "lst = [1,2,3,4]\n",
    "lst"
   ]
  },
  {
   "cell_type": "code",
   "execution_count": 36,
   "id": "2c6409f6-8b43-4641-92e2-65293f00088d",
   "metadata": {},
   "outputs": [
    {
     "data": {
      "text/plain": [
       "True"
      ]
     },
     "execution_count": 36,
     "metadata": {},
     "output_type": "execute_result"
    }
   ],
   "source": [
    "t1[0]"
   ]
  },
  {
   "cell_type": "code",
   "execution_count": 37,
   "id": "c226ea84-f6a5-41b5-8b4b-8983b87d56d4",
   "metadata": {},
   "outputs": [
    {
     "data": {
      "text/plain": [
       "(True, 'Nik', (4+6j), 4.5, 4, 3, 2, 1)"
      ]
     },
     "execution_count": 37,
     "metadata": {},
     "output_type": "execute_result"
    }
   ],
   "source": [
    "t1"
   ]
  },
  {
   "cell_type": "code",
   "execution_count": 38,
   "id": "42243d55-534c-464c-a983-de2b8798767f",
   "metadata": {},
   "outputs": [
    {
     "data": {
      "text/plain": [
       "[1, 2, 3, 4]"
      ]
     },
     "execution_count": 38,
     "metadata": {},
     "output_type": "execute_result"
    }
   ],
   "source": [
    "lst"
   ]
  },
  {
   "cell_type": "code",
   "execution_count": null,
   "id": "c2ec4cff-3aa0-4543-9acb-767cec6c52c3",
   "metadata": {},
   "outputs": [],
   "source": [
    "#Lists are mutable but tuples are immutable"
   ]
  },
  {
   "cell_type": "code",
   "execution_count": 39,
   "id": "a70febae-5c6d-4b2b-a306-f3d30972d19f",
   "metadata": {},
   "outputs": [
    {
     "ename": "TypeError",
     "evalue": "'tuple' object does not support item assignment",
     "output_type": "error",
     "traceback": [
      "\u001b[0;31m---------------------------------------------------------------------------\u001b[0m",
      "\u001b[0;31mTypeError\u001b[0m                                 Traceback (most recent call last)",
      "Cell \u001b[0;32mIn[39], line 1\u001b[0m\n\u001b[0;32m----> 1\u001b[0m \u001b[43mt1\u001b[49m\u001b[43m[\u001b[49m\u001b[38;5;241;43m5\u001b[39;49m\u001b[43m]\u001b[49m \u001b[38;5;241m=\u001b[39m \u001b[38;5;241m100\u001b[39m\n",
      "\u001b[0;31mTypeError\u001b[0m: 'tuple' object does not support item assignment"
     ]
    }
   ],
   "source": [
    "t1[5] = 100 #tuples are immutable"
   ]
  },
  {
   "cell_type": "code",
   "execution_count": 40,
   "id": "878668b8-dbd6-4495-930c-18720a10f0ab",
   "metadata": {},
   "outputs": [
    {
     "data": {
      "text/plain": [
       "[1, 2, 100, 4]"
      ]
     },
     "execution_count": 40,
     "metadata": {},
     "output_type": "execute_result"
    }
   ],
   "source": [
    "lst[2] = 100 #lists are mutable\n",
    "lst"
   ]
  },
  {
   "cell_type": "code",
   "execution_count": 42,
   "id": "acfb9331-9c49-4a7c-8bd0-c2b37d17c33e",
   "metadata": {},
   "outputs": [
    {
     "ename": "TypeError",
     "evalue": "'str' object does not support item assignment",
     "output_type": "error",
     "traceback": [
      "\u001b[0;31m---------------------------------------------------------------------------\u001b[0m",
      "\u001b[0;31mTypeError\u001b[0m                                 Traceback (most recent call last)",
      "Cell \u001b[0;32mIn[42], line 2\u001b[0m\n\u001b[1;32m      1\u001b[0m s \u001b[38;5;241m=\u001b[39m \u001b[38;5;124m\"\u001b[39m\u001b[38;5;124mNikith\u001b[39m\u001b[38;5;124m\"\u001b[39m\n\u001b[0;32m----> 2\u001b[0m \u001b[43ms\u001b[49m\u001b[43m[\u001b[49m\u001b[38;5;241;43m2\u001b[39;49m\u001b[43m]\u001b[49m \u001b[38;5;241m=\u001b[39m \u001b[38;5;124m\"\u001b[39m\u001b[38;5;124mo\u001b[39m\u001b[38;5;124m\"\u001b[39m\n\u001b[1;32m      3\u001b[0m s\n",
      "\u001b[0;31mTypeError\u001b[0m: 'str' object does not support item assignment"
     ]
    }
   ],
   "source": [
    "s = \"Nikith\"\n",
    "s[2] = \"o\"\n",
    "s"
   ]
  },
  {
   "cell_type": "code",
   "execution_count": 44,
   "id": "e9c18366-eb3a-4b12-b2e2-dfd6b3681e5c",
   "metadata": {},
   "outputs": [
    {
     "data": {
      "text/plain": [
       "(True, 'Nik', (4+6j), 4.5, 4, 3, 2, 1)"
      ]
     },
     "execution_count": 44,
     "metadata": {},
     "output_type": "execute_result"
    }
   ],
   "source": [
    "t1"
   ]
  },
  {
   "cell_type": "code",
   "execution_count": 45,
   "id": "3baaa32d-3689-40b6-b202-d661bd1f4ea0",
   "metadata": {},
   "outputs": [
    {
     "name": "stdout",
     "output_type": "stream",
     "text": [
      "True\tNik\t(4+6j)\t4.5\t4\t3\t2\t1\t"
     ]
    }
   ],
   "source": [
    "for i in t1:\n",
    "    print(i,end=\"\\t\")"
   ]
  },
  {
   "cell_type": "code",
   "execution_count": 46,
   "id": "a7aa51d6-f3da-4be1-bbc9-4a461c6e5789",
   "metadata": {},
   "outputs": [
    {
     "data": {
      "text/plain": [
       "(True, 'Nik', (4+6j), 4.5, 4, 3, 2, 1)"
      ]
     },
     "execution_count": 46,
     "metadata": {},
     "output_type": "execute_result"
    }
   ],
   "source": [
    "t1"
   ]
  },
  {
   "cell_type": "code",
   "execution_count": 47,
   "id": "47018a23-b3a4-49ec-b1f0-57b89bba9be2",
   "metadata": {},
   "outputs": [
    {
     "data": {
      "text/plain": [
       "(True,\n",
       " 'Nik',\n",
       " (4+6j),\n",
       " 4.5,\n",
       " 4,\n",
       " 3,\n",
       " 2,\n",
       " 1,\n",
       " True,\n",
       " 'Nik',\n",
       " (4+6j),\n",
       " 4.5,\n",
       " 4,\n",
       " 3,\n",
       " 2,\n",
       " 1,\n",
       " True,\n",
       " 'Nik',\n",
       " (4+6j),\n",
       " 4.5,\n",
       " 4,\n",
       " 3,\n",
       " 2,\n",
       " 1)"
      ]
     },
     "execution_count": 47,
     "metadata": {},
     "output_type": "execute_result"
    }
   ],
   "source": [
    "t1 * 3"
   ]
  },
  {
   "cell_type": "code",
   "execution_count": 48,
   "id": "263a1fcd-0ac5-43a1-a085-6141fb1c7585",
   "metadata": {},
   "outputs": [
    {
     "ename": "TypeError",
     "evalue": "'>' not supported between instances of 'str' and 'bool'",
     "output_type": "error",
     "traceback": [
      "\u001b[0;31m---------------------------------------------------------------------------\u001b[0m",
      "\u001b[0;31mTypeError\u001b[0m                                 Traceback (most recent call last)",
      "Cell \u001b[0;32mIn[48], line 1\u001b[0m\n\u001b[0;32m----> 1\u001b[0m \u001b[38;5;28;43mmax\u001b[39;49m\u001b[43m(\u001b[49m\u001b[43mt1\u001b[49m\u001b[43m)\u001b[49m\n",
      "\u001b[0;31mTypeError\u001b[0m: '>' not supported between instances of 'str' and 'bool'"
     ]
    }
   ],
   "source": [
    "max(t1) #cant use max() function bcoz elements tuple t1 are of different datatype"
   ]
  },
  {
   "cell_type": "code",
   "execution_count": 59,
   "id": "8b637b6f-1c03-4002-a934-a28b101f4184",
   "metadata": {},
   "outputs": [],
   "source": [
    "t2 = (1,2,3,4,5)"
   ]
  },
  {
   "cell_type": "code",
   "execution_count": 60,
   "id": "2d1dd951-1f5d-4788-a136-21ab497e4d8c",
   "metadata": {},
   "outputs": [
    {
     "data": {
      "text/plain": [
       "(1, 2, 3, 4, 5)"
      ]
     },
     "execution_count": 60,
     "metadata": {},
     "output_type": "execute_result"
    }
   ],
   "source": [
    "t2"
   ]
  },
  {
   "cell_type": "code",
   "execution_count": 61,
   "id": "fde531dc-1fd0-46f0-9db5-df1f2ed17bf2",
   "metadata": {},
   "outputs": [
    {
     "data": {
      "text/plain": [
       "5"
      ]
     },
     "execution_count": 61,
     "metadata": {},
     "output_type": "execute_result"
    }
   ],
   "source": [
    "max(t2)"
   ]
  },
  {
   "cell_type": "code",
   "execution_count": 62,
   "id": "683ef698-fc86-4d5c-b967-5090b140f64e",
   "metadata": {},
   "outputs": [
    {
     "data": {
      "text/plain": [
       "1"
      ]
     },
     "execution_count": 62,
     "metadata": {},
     "output_type": "execute_result"
    }
   ],
   "source": [
    "min(t2)"
   ]
  },
  {
   "cell_type": "code",
   "execution_count": 63,
   "id": "7400a83b-96db-4ec7-8d9c-d26412a1d331",
   "metadata": {},
   "outputs": [
    {
     "data": {
      "text/plain": [
       "(1, 2, 3, 4, 5, 1, 2, 3, 4, 5, 1, 2, 3, 4, 5)"
      ]
     },
     "execution_count": 63,
     "metadata": {},
     "output_type": "execute_result"
    }
   ],
   "source": [
    "t2 * 3"
   ]
  },
  {
   "cell_type": "code",
   "execution_count": null,
   "id": "303937d6-c400-44e2-8865-9cfd19fc9062",
   "metadata": {},
   "outputs": [],
   "source": [
    "#Tuples are used like for password storage so that no one can change "
   ]
  },
  {
   "cell_type": "code",
   "execution_count": 64,
   "id": "59755ecb-2d81-41c2-af8b-031fd127aaf3",
   "metadata": {},
   "outputs": [],
   "source": [
    "t1 = (1,2,3,4)\n",
    "t2 = (5,6,7,8)\n",
    "t3 = (t1,t2)"
   ]
  },
  {
   "cell_type": "code",
   "execution_count": 66,
   "id": "ee73188a-6ee1-425a-94be-b7d9ef1b4077",
   "metadata": {},
   "outputs": [
    {
     "name": "stdout",
     "output_type": "stream",
     "text": [
      "(1, 2, 3, 4)\n",
      "(5, 6, 7, 8)\n",
      "((1, 2, 3, 4), (5, 6, 7, 8))\n"
     ]
    }
   ],
   "source": [
    "print(t1)\n",
    "print(t2)\n",
    "print(t3)"
   ]
  },
  {
   "cell_type": "code",
   "execution_count": 68,
   "id": "d4c99b67-a26c-4c1b-9511-a9feea671950",
   "metadata": {},
   "outputs": [
    {
     "name": "stdout",
     "output_type": "stream",
     "text": [
      "[1, 2, 3, 4]\n",
      "[5, 6, 7, 8]\n",
      "[[1, 2, 3, 4], [5, 6, 7, 8]]\n"
     ]
    }
   ],
   "source": [
    "l1 = [1,2,3,4]\n",
    "l2 = [5,6,7,8]\n",
    "l3 = [t1,t2]\n",
    "print(l1)\n",
    "print(l2)\n",
    "print(l3)"
   ]
  },
  {
   "cell_type": "code",
   "execution_count": null,
   "id": "8f67909b-c4bb-4baf-849a-c0e85cca78bd",
   "metadata": {},
   "outputs": [],
   "source": [
    "#we can put list inside the tuple and viceversa"
   ]
  },
  {
   "cell_type": "code",
   "execution_count": 69,
   "id": "e073563d-2d0d-4b50-9ac2-46ad9cc2be0c",
   "metadata": {},
   "outputs": [
    {
     "data": {
      "text/plain": [
       "[['list', 1, 2, 3, 4], ('Tuple', 5, 6, 7, 8)]"
      ]
     },
     "execution_count": 69,
     "metadata": {},
     "output_type": "execute_result"
    }
   ],
   "source": [
    "lst = [[\"list\",1,2,3,4],(\"Tuple\",5,6,7,8)]\n",
    "lst"
   ]
  },
  {
   "cell_type": "code",
   "execution_count": 70,
   "id": "95f89e36-d8dc-44d9-820c-49c77ff52699",
   "metadata": {},
   "outputs": [
    {
     "data": {
      "text/plain": [
       "(['list', 1, 2, 3, 4], ('Tuple', 5, 6, 7, 8))"
      ]
     },
     "execution_count": 70,
     "metadata": {},
     "output_type": "execute_result"
    }
   ],
   "source": [
    "tup = ([\"list\",1,2,3,4],(\"Tuple\",5,6,7,8))\n",
    "tup"
   ]
  },
  {
   "cell_type": "code",
   "execution_count": null,
   "id": "c3b9250d-62dc-4ee3-85bc-7c499ba22b55",
   "metadata": {},
   "outputs": [],
   "source": [
    "#deleting tuples"
   ]
  },
  {
   "cell_type": "code",
   "execution_count": 71,
   "id": "880b4aa0-0f57-4c2a-ac72-7aec2f884261",
   "metadata": {},
   "outputs": [
    {
     "data": {
      "text/plain": [
       "(1, 2, 3, 4, 5)"
      ]
     },
     "execution_count": 71,
     "metadata": {},
     "output_type": "execute_result"
    }
   ],
   "source": [
    "t5 = (1,2,3,4,5)\n",
    "t5"
   ]
  },
  {
   "cell_type": "code",
   "execution_count": 72,
   "id": "80b9d372-9d4b-4ed9-b1f6-374b5ac98829",
   "metadata": {},
   "outputs": [
    {
     "data": {
      "text/plain": [
       "(1, 2, 3, 4, 5)"
      ]
     },
     "execution_count": 72,
     "metadata": {},
     "output_type": "execute_result"
    }
   ],
   "source": [
    "t5"
   ]
  },
  {
   "cell_type": "code",
   "execution_count": 73,
   "id": "2925cb82-b752-4c9b-9367-b3285510f2c5",
   "metadata": {},
   "outputs": [],
   "source": [
    "del t5 #deleting tuple t5"
   ]
  },
  {
   "cell_type": "code",
   "execution_count": 74,
   "id": "46ca0083-fd4f-4a36-9456-76c4928a6048",
   "metadata": {},
   "outputs": [
    {
     "ename": "NameError",
     "evalue": "name 't5' is not defined",
     "output_type": "error",
     "traceback": [
      "\u001b[0;31m---------------------------------------------------------------------------\u001b[0m",
      "\u001b[0;31mNameError\u001b[0m                                 Traceback (most recent call last)",
      "Cell \u001b[0;32mIn[74], line 1\u001b[0m\n\u001b[0;32m----> 1\u001b[0m \u001b[43mt5\u001b[49m\n",
      "\u001b[0;31mNameError\u001b[0m: name 't5' is not defined"
     ]
    }
   ],
   "source": [
    "t5"
   ]
  },
  {
   "cell_type": "code",
   "execution_count": 79,
   "id": "156a0290-3ee8-4f82-a818-a60f32f42c33",
   "metadata": {},
   "outputs": [],
   "source": [
    "t4 = (1,2,3,4)"
   ]
  },
  {
   "cell_type": "code",
   "execution_count": 80,
   "id": "5d528001-e4ff-4caf-9b2e-10669975aff0",
   "metadata": {},
   "outputs": [
    {
     "data": {
      "text/plain": [
       "4"
      ]
     },
     "execution_count": 80,
     "metadata": {},
     "output_type": "execute_result"
    }
   ],
   "source": [
    "len(t4) #finding the length of tuple"
   ]
  },
  {
   "cell_type": "code",
   "execution_count": 81,
   "id": "0f4c65f2-562a-4121-8a24-1923353fb19e",
   "metadata": {},
   "outputs": [
    {
     "data": {
      "text/plain": [
       "(True, 1, 2, 3, 'Niki', (5+2j))"
      ]
     },
     "execution_count": 81,
     "metadata": {},
     "output_type": "execute_result"
    }
   ],
   "source": [
    "t1 = (True,1,2,3,\"Niki\",5+2j)\n",
    "t1"
   ]
  },
  {
   "cell_type": "code",
   "execution_count": 82,
   "id": "d89c4eaa-6dc5-4f95-85ed-563eea535593",
   "metadata": {},
   "outputs": [
    {
     "data": {
      "text/plain": [
       "True"
      ]
     },
     "execution_count": 82,
     "metadata": {},
     "output_type": "execute_result"
    }
   ],
   "source": [
    "\"Niki\" in t1 #boolean function of checking whether an element is in tuple or not"
   ]
  },
  {
   "cell_type": "code",
   "execution_count": 83,
   "id": "b3fab6c2-151f-448b-9bfe-17c8c503ae7d",
   "metadata": {},
   "outputs": [
    {
     "data": {
      "text/plain": [
       "False"
      ]
     },
     "execution_count": 83,
     "metadata": {},
     "output_type": "execute_result"
    }
   ],
   "source": [
    "\"Sar\" in t1"
   ]
  },
  {
   "cell_type": "code",
   "execution_count": 84,
   "id": "870d037e-f51e-4ea8-b502-4272d2944d96",
   "metadata": {},
   "outputs": [
    {
     "data": {
      "text/plain": [
       "True"
      ]
     },
     "execution_count": 84,
     "metadata": {},
     "output_type": "execute_result"
    }
   ],
   "source": [
    "True in t1"
   ]
  },
  {
   "cell_type": "code",
   "execution_count": 85,
   "id": "127410b6-1bb3-40cc-83ad-f0fe31ef07b3",
   "metadata": {},
   "outputs": [
    {
     "data": {
      "text/plain": [
       "False"
      ]
     },
     "execution_count": 85,
     "metadata": {},
     "output_type": "execute_result"
    }
   ],
   "source": [
    "False in t1"
   ]
  },
  {
   "cell_type": "markdown",
   "id": "e6ecc133-d198-419a-b902-9f2e4a4f9a09",
   "metadata": {},
   "source": [
    "#SETS"
   ]
  },
  {
   "cell_type": "code",
   "execution_count": 86,
   "id": "9bd4b086-dbc6-4f77-b1c6-65ffbfeb24f8",
   "metadata": {},
   "outputs": [
    {
     "data": {
      "text/plain": [
       "dict"
      ]
     },
     "execution_count": 86,
     "metadata": {},
     "output_type": "execute_result"
    }
   ],
   "source": [
    "s1 = {}\n",
    "type(s1)"
   ]
  },
  {
   "cell_type": "code",
   "execution_count": 87,
   "id": "bc68e986-ff45-4c49-b4a4-6c2f700ae48d",
   "metadata": {},
   "outputs": [
    {
     "data": {
      "text/plain": [
       "set"
      ]
     },
     "execution_count": 87,
     "metadata": {},
     "output_type": "execute_result"
    }
   ],
   "source": [
    "s2 = {1,2,3,4}\n",
    "type(s2)"
   ]
  },
  {
   "cell_type": "code",
   "execution_count": 92,
   "id": "23d215d0-f1cc-4937-8dea-0dda77e306b5",
   "metadata": {},
   "outputs": [
    {
     "data": {
      "text/plain": [
       "{0, 1, 2, 4, 5, 6, 8, 9, 85, 789, 987}"
      ]
     },
     "execution_count": 92,
     "metadata": {},
     "output_type": "execute_result"
    }
   ],
   "source": [
    "s2 = {1,2,2,5,5,6,4,4,4,0,8,9,85,789,987,789}\n",
    "s2\n",
    "#sets will remove duplicates,sorted"
   ]
  },
  {
   "cell_type": "code",
   "execution_count": 91,
   "id": "ed7617e6-5874-4ad9-bfec-929e6b231af3",
   "metadata": {},
   "outputs": [
    {
     "data": {
      "text/plain": [
       "{'Kin', 'Nik'}"
      ]
     },
     "execution_count": 91,
     "metadata": {},
     "output_type": "execute_result"
    }
   ],
   "source": [
    "s3 = {\"Nik\",\"Nik\",\"Kin\"}\n",
    "s3"
   ]
  },
  {
   "cell_type": "code",
   "execution_count": null,
   "id": "efa7436d-ab92-49e0-94bd-199589128d32",
   "metadata": {},
   "outputs": [],
   "source": [
    "# converting sets into list and tuple and viceversa"
   ]
  },
  {
   "cell_type": "code",
   "execution_count": 93,
   "id": "3c6d9361-04d6-44d7-952f-dad5e24c4aa9",
   "metadata": {},
   "outputs": [
    {
     "data": {
      "text/plain": [
       "[0, 1, 2, 4, 5, 6, 8, 9, 85, 789, 987]"
      ]
     },
     "execution_count": 93,
     "metadata": {},
     "output_type": "execute_result"
    }
   ],
   "source": [
    "list(s2)"
   ]
  },
  {
   "cell_type": "code",
   "execution_count": 94,
   "id": "90342167-da19-4adc-b252-854d5cb7b1d9",
   "metadata": {},
   "outputs": [
    {
     "data": {
      "text/plain": [
       "(0, 1, 2, 4, 5, 6, 8, 9, 85, 789, 987)"
      ]
     },
     "execution_count": 94,
     "metadata": {},
     "output_type": "execute_result"
    }
   ],
   "source": [
    "tuple(s2)"
   ]
  },
  {
   "cell_type": "code",
   "execution_count": 95,
   "id": "4910b049-9ebf-4411-a6f3-3dc7830c2b21",
   "metadata": {},
   "outputs": [
    {
     "data": {
      "text/plain": [
       "[1, 2, 3, 4.5]"
      ]
     },
     "execution_count": 95,
     "metadata": {},
     "output_type": "execute_result"
    }
   ],
   "source": [
    "lst = [1,2,3,4.5]\n",
    "lst"
   ]
  },
  {
   "cell_type": "code",
   "execution_count": 96,
   "id": "6d963c5e-8617-4197-a429-098d656c8d6e",
   "metadata": {},
   "outputs": [
    {
     "data": {
      "text/plain": [
       "{1, 2, 3, 4.5}"
      ]
     },
     "execution_count": 96,
     "metadata": {},
     "output_type": "execute_result"
    }
   ],
   "source": [
    "set(lst)"
   ]
  },
  {
   "cell_type": "code",
   "execution_count": 101,
   "id": "33f38dd2-0d21-4e15-921a-30c9ba31f47d",
   "metadata": {},
   "outputs": [],
   "source": [
    "lst = [55,1,2,2,2,5,5,6,6,6,10,23]\n",
    "#we can remove duplicates from list by converting it into set"
   ]
  },
  {
   "cell_type": "code",
   "execution_count": 102,
   "id": "8b4f577b-e13b-41fc-8318-c2ee1961f8f5",
   "metadata": {},
   "outputs": [
    {
     "data": {
      "text/plain": [
       "[55, 1, 2, 2, 2, 5, 5, 6, 6, 6, 10, 23]"
      ]
     },
     "execution_count": 102,
     "metadata": {},
     "output_type": "execute_result"
    }
   ],
   "source": [
    "lst"
   ]
  },
  {
   "cell_type": "code",
   "execution_count": 103,
   "id": "2fb718dd-eaaf-4ae1-a22b-35a39df795f6",
   "metadata": {},
   "outputs": [
    {
     "data": {
      "text/plain": [
       "{1, 2, 5, 6, 10, 23, 55}"
      ]
     },
     "execution_count": 103,
     "metadata": {},
     "output_type": "execute_result"
    }
   ],
   "source": [
    "set(lst)"
   ]
  },
  {
   "cell_type": "code",
   "execution_count": null,
   "id": "684a658a-09b2-4210-9d95-94e034b32b20",
   "metadata": {},
   "outputs": [],
   "source": [
    "#you cant store list inside a set"
   ]
  },
  {
   "cell_type": "code",
   "execution_count": 104,
   "id": "0f3a5f62-2b75-497e-a221-ed1e8a985da2",
   "metadata": {},
   "outputs": [
    {
     "ename": "TypeError",
     "evalue": "unhashable type: 'list'",
     "output_type": "error",
     "traceback": [
      "\u001b[0;31m---------------------------------------------------------------------------\u001b[0m",
      "\u001b[0;31mTypeError\u001b[0m                                 Traceback (most recent call last)",
      "Cell \u001b[0;32mIn[104], line 1\u001b[0m\n\u001b[0;32m----> 1\u001b[0m s \u001b[38;5;241m=\u001b[39m {\u001b[38;5;241m1\u001b[39m,\u001b[38;5;241m2\u001b[39m,\u001b[38;5;241m3\u001b[39m,\u001b[38;5;241m4\u001b[39m,[\u001b[38;5;241m5\u001b[39m,\u001b[38;5;241m6\u001b[39m,\u001b[38;5;241m7\u001b[39m,\u001b[38;5;241m8\u001b[39m]}\n",
      "\u001b[0;31mTypeError\u001b[0m: unhashable type: 'list'"
     ]
    }
   ],
   "source": [
    "s = {1,2,3,4,[5,6,7,8]}"
   ]
  },
  {
   "cell_type": "code",
   "execution_count": null,
   "id": "2db94c6d-596b-4851-b4fd-7fb353b01a59",
   "metadata": {},
   "outputs": [],
   "source": [
    "#we can store tuples in a set"
   ]
  },
  {
   "cell_type": "code",
   "execution_count": 109,
   "id": "006b07b5-d7ee-4dcf-9ec8-1b61902f1902",
   "metadata": {},
   "outputs": [],
   "source": [
    "s4 = {(10,11,12,13),1,2,3,4,(5,6,7,8)}"
   ]
  },
  {
   "cell_type": "code",
   "execution_count": 110,
   "id": "a3d3e1c1-bf21-4dff-b4ec-43f89fb41e23",
   "metadata": {},
   "outputs": [
    {
     "data": {
      "text/plain": [
       "{(10, 11, 12, 13), (5, 6, 7, 8), 1, 2, 3, 4}"
      ]
     },
     "execution_count": 110,
     "metadata": {},
     "output_type": "execute_result"
    }
   ],
   "source": [
    "s4"
   ]
  },
  {
   "cell_type": "code",
   "execution_count": 107,
   "id": "80ba03a9-3e39-46b0-82e7-7d8fb40c4930",
   "metadata": {},
   "outputs": [
    {
     "data": {
      "text/plain": [
       "{'Nikith'}"
      ]
     },
     "execution_count": 107,
     "metadata": {},
     "output_type": "execute_result"
    }
   ],
   "source": [
    "#Python is a case sensitive language\n",
    "s5 = {\"Nikith\",\"Nikith\"}\n",
    "s5"
   ]
  },
  {
   "cell_type": "code",
   "execution_count": 108,
   "id": "0662ea7a-a455-4e63-8864-834912019ad9",
   "metadata": {},
   "outputs": [
    {
     "data": {
      "text/plain": [
       "{'Nikith', 'nikith'}"
      ]
     },
     "execution_count": 108,
     "metadata": {},
     "output_type": "execute_result"
    }
   ],
   "source": [
    "s5 = {\"Nikith\",\"nikith\"}\n",
    "s5"
   ]
  },
  {
   "cell_type": "code",
   "execution_count": 115,
   "id": "9f83b073-4de5-418c-9f36-82813ebc9fc6",
   "metadata": {},
   "outputs": [
    {
     "ename": "TypeError",
     "evalue": "'set' object is not subscriptable",
     "output_type": "error",
     "traceback": [
      "\u001b[0;31m---------------------------------------------------------------------------\u001b[0m",
      "\u001b[0;31mTypeError\u001b[0m                                 Traceback (most recent call last)",
      "Cell \u001b[0;32mIn[115], line 2\u001b[0m\n\u001b[1;32m      1\u001b[0m s7 \u001b[38;5;241m=\u001b[39m {\u001b[38;5;241m1\u001b[39m,\u001b[38;5;241m2\u001b[39m,\u001b[38;5;241m3\u001b[39m,\u001b[38;5;241m4\u001b[39m,\u001b[38;5;241m5\u001b[39m,\u001b[38;5;241m6\u001b[39m,\u001b[38;5;124m\"\u001b[39m\u001b[38;5;124mNik\u001b[39m\u001b[38;5;124m\"\u001b[39m}\n\u001b[0;32m----> 2\u001b[0m \u001b[43ms7\u001b[49m\u001b[43m[\u001b[49m\u001b[38;5;241;43m0\u001b[39;49m\u001b[43m]\u001b[49m\n\u001b[1;32m      3\u001b[0m \u001b[38;5;66;03m#The concept of indexing is not available in sets,because of hash indices\u001b[39;00m\n",
      "\u001b[0;31mTypeError\u001b[0m: 'set' object is not subscriptable"
     ]
    }
   ],
   "source": [
    "s7 = {1,2,3,4,5,6,\"Nik\"}\n",
    "s7[0]\n",
    "#The concept of indexing is not available in sets,because of hash indices"
   ]
  },
  {
   "cell_type": "code",
   "execution_count": 117,
   "id": "9aa94d6e-0877-47f8-9d5c-49481901f8f0",
   "metadata": {},
   "outputs": [
    {
     "name": "stdout",
     "output_type": "stream",
     "text": [
      "1\t2\t3\t4\t5\t6\tNik\t"
     ]
    }
   ],
   "source": [
    "for i in s7:\n",
    "    print(i,end=\"\\t\")\n",
    "    #iterating through sets is possible"
   ]
  },
  {
   "cell_type": "code",
   "execution_count": 118,
   "id": "006fc0af-c28d-4983-a0d1-9c7372b10684",
   "metadata": {},
   "outputs": [
    {
     "data": {
      "text/plain": [
       "{1, 10, 2, 3, 4, 5, 6, 'Nik'}"
      ]
     },
     "execution_count": 118,
     "metadata": {},
     "output_type": "execute_result"
    }
   ],
   "source": [
    "s7.add(10)\n",
    "s7"
   ]
  },
  {
   "cell_type": "code",
   "execution_count": null,
   "id": "d1d86208-f448-49c9-9430-96cf0d18c258",
   "metadata": {},
   "outputs": [],
   "source": [
    "s7.add(5) #5 is already available so it wont add again"
   ]
  },
  {
   "cell_type": "code",
   "execution_count": 119,
   "id": "74a63bdc-d926-4b65-a232-b0c81cf5718a",
   "metadata": {},
   "outputs": [
    {
     "data": {
      "text/plain": [
       "{1, 10, 2, 3, 4, 5, 6, 'Nik'}"
      ]
     },
     "execution_count": 119,
     "metadata": {},
     "output_type": "execute_result"
    }
   ],
   "source": [
    "s7"
   ]
  },
  {
   "cell_type": "code",
   "execution_count": 120,
   "id": "51633952-1efe-498d-9d88-86c05ffe6fa0",
   "metadata": {},
   "outputs": [
    {
     "data": {
      "text/plain": [
       "8"
      ]
     },
     "execution_count": 120,
     "metadata": {},
     "output_type": "execute_result"
    }
   ],
   "source": [
    "len(s7)"
   ]
  },
  {
   "cell_type": "code",
   "execution_count": 121,
   "id": "001008d8-4fa2-42f7-8335-599b878c3c21",
   "metadata": {},
   "outputs": [
    {
     "data": {
      "text/plain": [
       "1"
      ]
     },
     "execution_count": 121,
     "metadata": {},
     "output_type": "execute_result"
    }
   ],
   "source": [
    "s7.pop()"
   ]
  },
  {
   "cell_type": "code",
   "execution_count": 122,
   "id": "154cd419-7cdd-481b-a09d-0ca42ab44cd3",
   "metadata": {},
   "outputs": [
    {
     "data": {
      "text/plain": [
       "{10, 2, 3, 4, 5, 6, 'Nik'}"
      ]
     },
     "execution_count": 122,
     "metadata": {},
     "output_type": "execute_result"
    }
   ],
   "source": [
    "s7\n"
   ]
  },
  {
   "cell_type": "code",
   "execution_count": 123,
   "id": "304f74bd-6303-427e-86ff-29ad450692e2",
   "metadata": {},
   "outputs": [
    {
     "data": {
      "text/plain": [
       "2"
      ]
     },
     "execution_count": 123,
     "metadata": {},
     "output_type": "execute_result"
    }
   ],
   "source": [
    "s7.pop()"
   ]
  },
  {
   "cell_type": "code",
   "execution_count": null,
   "id": "0f3b75aa-4823-42dd-a155-1fdd6aa8b111",
   "metadata": {},
   "outputs": [],
   "source": [
    "\"\"\"pop() and add() functions in sets wont operate on general indexing order,these functions will\n",
    "operate on internal hashing indexing\"\"\""
   ]
  },
  {
   "cell_type": "code",
   "execution_count": 124,
   "id": "fff15843-1578-4a01-b976-64e2f1fad9ed",
   "metadata": {},
   "outputs": [
    {
     "data": {
      "text/plain": [
       "{10, 3, 4, 5, 6, 'Nik'}"
      ]
     },
     "execution_count": 124,
     "metadata": {},
     "output_type": "execute_result"
    }
   ],
   "source": [
    "s7"
   ]
  },
  {
   "cell_type": "code",
   "execution_count": 125,
   "id": "6bfc7a8e-063d-416d-8c8d-59d75b5bbb2f",
   "metadata": {},
   "outputs": [],
   "source": [
    "s7.clear()"
   ]
  },
  {
   "cell_type": "code",
   "execution_count": 126,
   "id": "a91143d4-3788-42a6-a149-0057bdcccfdb",
   "metadata": {},
   "outputs": [
    {
     "data": {
      "text/plain": [
       "set()"
      ]
     },
     "execution_count": 126,
     "metadata": {},
     "output_type": "execute_result"
    }
   ],
   "source": [
    "s7 #Gives empty set"
   ]
  },
  {
   "cell_type": "code",
   "execution_count": 131,
   "id": "a8ba9440-aed9-40ef-a855-7a7a52ee4e55",
   "metadata": {},
   "outputs": [
    {
     "data": {
      "text/plain": [
       "{5}"
      ]
     },
     "execution_count": 131,
     "metadata": {},
     "output_type": "execute_result"
    }
   ],
   "source": [
    "s8 = {1,2,3,4}\n",
    "s9 = {1,2,3,5}\n",
    "s9.difference(s8)"
   ]
  },
  {
   "cell_type": "code",
   "execution_count": 130,
   "id": "65db324a-6753-4af6-9a87-49edac30bef3",
   "metadata": {},
   "outputs": [
    {
     "data": {
      "text/plain": [
       "{4}"
      ]
     },
     "execution_count": 130,
     "metadata": {},
     "output_type": "execute_result"
    }
   ],
   "source": [
    "s8.difference(s9)\n"
   ]
  },
  {
   "cell_type": "markdown",
   "id": "74ba68cb-bc1d-4f9e-a9c7-27c334d5c75d",
   "metadata": {},
   "source": [
    "#Dictionaries"
   ]
  },
  {
   "cell_type": "code",
   "execution_count": 1,
   "id": "dfbc8943-9884-41ac-9da1-58dd634bf54e",
   "metadata": {},
   "outputs": [
    {
     "data": {
      "text/plain": [
       "dict"
      ]
     },
     "execution_count": 1,
     "metadata": {},
     "output_type": "execute_result"
    }
   ],
   "source": [
    "d = {}\n",
    "type(d)"
   ]
  },
  {
   "cell_type": "code",
   "execution_count": null,
   "id": "a6c743a0-bedc-49e3-ab51-a01e83604fd7",
   "metadata": {},
   "outputs": [],
   "source": [
    "#Dictionary in python will have key and a value "
   ]
  },
  {
   "cell_type": "code",
   "execution_count": 2,
   "id": "00e41693-2842-414e-a504-079c7bace31c",
   "metadata": {},
   "outputs": [],
   "source": [
    "d1 = {\"Name\" : \"Nikith\" , \"Email\" : \"np@gmail.com\" , \"Phno\" : 800}"
   ]
  },
  {
   "cell_type": "code",
   "execution_count": 3,
   "id": "ad8fc069-60f0-433f-bd3f-2fe8d60d8e4d",
   "metadata": {},
   "outputs": [
    {
     "data": {
      "text/plain": [
       "{'Name': 'Nikith', 'Email': 'np@gmail.com', 'Phno': 800}"
      ]
     },
     "execution_count": 3,
     "metadata": {},
     "output_type": "execute_result"
    }
   ],
   "source": [
    "d1"
   ]
  },
  {
   "cell_type": "code",
   "execution_count": 4,
   "id": "2000d179-0c8c-461f-965a-51927ef51a35",
   "metadata": {},
   "outputs": [],
   "source": [
    "d2 = {\"Name\" : \"Nik\",\"Name\" : \"Nikith\"}"
   ]
  },
  {
   "cell_type": "code",
   "execution_count": 5,
   "id": "6dd4313f-b7fa-44e2-a47b-97ac8e85f1a4",
   "metadata": {},
   "outputs": [
    {
     "data": {
      "text/plain": [
       "{'Name': 'Nikith'}"
      ]
     },
     "execution_count": 5,
     "metadata": {},
     "output_type": "execute_result"
    }
   ],
   "source": [
    "d2 #the key in the dictionary will be updated with the new value as shown"
   ]
  },
  {
   "cell_type": "code",
   "execution_count": 6,
   "id": "1a284ef7-47cc-4039-b3a2-4b79ad997826",
   "metadata": {},
   "outputs": [],
   "source": [
    "d3 = {2323 : \"abc\"}"
   ]
  },
  {
   "cell_type": "code",
   "execution_count": 7,
   "id": "bdb6e039-0f83-447e-8176-aff1ea17ff42",
   "metadata": {},
   "outputs": [
    {
     "data": {
      "text/plain": [
       "{2323: 'abc'}"
      ]
     },
     "execution_count": 7,
     "metadata": {},
     "output_type": "execute_result"
    }
   ],
   "source": [
    "d3"
   ]
  },
  {
   "cell_type": "code",
   "execution_count": 9,
   "id": "1663b589-e60f-4cbc-af03-d2ec98b84465",
   "metadata": {},
   "outputs": [
    {
     "data": {
      "text/plain": [
       "{23.45: 'Nik'}"
      ]
     },
     "execution_count": 9,
     "metadata": {},
     "output_type": "execute_result"
    }
   ],
   "source": [
    "d4 = {23.45 : \"Nik\"}\n",
    "d4"
   ]
  },
  {
   "cell_type": "code",
   "execution_count": 10,
   "id": "370129c7-7e2f-4fd2-a840-89c1c67dca66",
   "metadata": {},
   "outputs": [
    {
     "data": {
      "text/plain": [
       "{True: 'Name'}"
      ]
     },
     "execution_count": 10,
     "metadata": {},
     "output_type": "execute_result"
    }
   ],
   "source": [
    "d5 = {True : \"Name\"}\n",
    "d5"
   ]
  },
  {
   "cell_type": "code",
   "execution_count": 11,
   "id": "84d688f6-9a59-4248-840a-5a1a3ba86029",
   "metadata": {},
   "outputs": [
    {
     "ename": "SyntaxError",
     "evalue": "incomplete input (36680248.py, line 1)",
     "output_type": "error",
     "traceback": [
      "\u001b[0;36m  Cell \u001b[0;32mIn[11], line 1\u001b[0;36m\u001b[0m\n\u001b[0;31m    d6 = {# : \"abc\"}\u001b[0m\n\u001b[0m                    ^\u001b[0m\n\u001b[0;31mSyntaxError\u001b[0m\u001b[0;31m:\u001b[0m incomplete input\n"
     ]
    }
   ],
   "source": [
    "d6 = {# : \"abc\"}"
   ]
  },
  {
   "cell_type": "code",
   "execution_count": 12,
   "id": "7c6991af-73da-4350-b96d-d56ab143bddd",
   "metadata": {},
   "outputs": [
    {
     "ename": "SyntaxError",
     "evalue": "invalid syntax (254142442.py, line 1)",
     "output_type": "error",
     "traceback": [
      "\u001b[0;36m  Cell \u001b[0;32mIn[12], line 1\u001b[0;36m\u001b[0m\n\u001b[0;31m    d6 = {@ : \"abc\"}\u001b[0m\n\u001b[0m          ^\u001b[0m\n\u001b[0;31mSyntaxError\u001b[0m\u001b[0;31m:\u001b[0m invalid syntax\n"
     ]
    }
   ],
   "source": [
    "d6 = {@ : \"abc\"}"
   ]
  },
  {
   "cell_type": "code",
   "execution_count": null,
   "id": "24246968-cffa-4bb1-936f-6550f467e2a8",
   "metadata": {},
   "outputs": [],
   "source": [
    "\"\"\"in the dictionary key cant be the special character as shown,but we can take that special \n",
    "character as a string\"\"\""
   ]
  },
  {
   "cell_type": "code",
   "execution_count": 13,
   "id": "95d48304-ddc1-43c2-b929-b70f58c65fba",
   "metadata": {},
   "outputs": [
    {
     "ename": "TypeError",
     "evalue": "unhashable type: 'list'",
     "output_type": "error",
     "traceback": [
      "\u001b[0;31m---------------------------------------------------------------------------\u001b[0m",
      "\u001b[0;31mTypeError\u001b[0m                                 Traceback (most recent call last)",
      "Cell \u001b[0;32mIn[13], line 1\u001b[0m\n\u001b[0;32m----> 1\u001b[0m d7 \u001b[38;5;241m=\u001b[39m {[\u001b[38;5;241m1\u001b[39m,\u001b[38;5;241m2\u001b[39m,\u001b[38;5;241m3\u001b[39m] : \u001b[38;5;124m\"\u001b[39m\u001b[38;5;124mabc\u001b[39m\u001b[38;5;124m\"\u001b[39m}\n",
      "\u001b[0;31mTypeError\u001b[0m: unhashable type: 'list'"
     ]
    }
   ],
   "source": [
    "d7 = {[1,2,3] : \"abc\"}"
   ]
  },
  {
   "cell_type": "code",
   "execution_count": null,
   "id": "6f3763a7-9cb3-4cb9-8f0b-07e04fdc1ebb",
   "metadata": {},
   "outputs": [],
   "source": [
    "# in the list list cannot be passed as key but tuple can be passed as a key "
   ]
  },
  {
   "cell_type": "code",
   "execution_count": 15,
   "id": "83e9eca7-5ff1-4648-a17b-e8067d52c136",
   "metadata": {},
   "outputs": [
    {
     "data": {
      "text/plain": [
       "{(1, 2, 3): 'Nikith'}"
      ]
     },
     "execution_count": 15,
     "metadata": {},
     "output_type": "execute_result"
    }
   ],
   "source": [
    "d7 = {(1,2,3) : \"Nikith\"}\n",
    "d7"
   ]
  },
  {
   "cell_type": "code",
   "execution_count": 16,
   "id": "21e0a7da-042a-4c47-b1bc-5f48bfe8044f",
   "metadata": {},
   "outputs": [
    {
     "ename": "TypeError",
     "evalue": "unhashable type: 'set'",
     "output_type": "error",
     "traceback": [
      "\u001b[0;31m---------------------------------------------------------------------------\u001b[0m",
      "\u001b[0;31mTypeError\u001b[0m                                 Traceback (most recent call last)",
      "Cell \u001b[0;32mIn[16], line 1\u001b[0m\n\u001b[0;32m----> 1\u001b[0m d8 \u001b[38;5;241m=\u001b[39m {{\u001b[38;5;241m1\u001b[39m,\u001b[38;5;241m2\u001b[39m,\u001b[38;5;241m3\u001b[39m} : \u001b[38;5;124m\"\u001b[39m\u001b[38;5;124mNik\u001b[39m\u001b[38;5;124m\"\u001b[39m}\n\u001b[1;32m      2\u001b[0m d8\n",
      "\u001b[0;31mTypeError\u001b[0m: unhashable type: 'set'"
     ]
    }
   ],
   "source": [
    "d8 = {{1,2,3} : \"Nik\"} #set cannot be as a key in the dictionary\n",
    "d8"
   ]
  },
  {
   "cell_type": "code",
   "execution_count": 17,
   "id": "046d0059-dff7-48cc-9c80-3ebac9e702ea",
   "metadata": {},
   "outputs": [
    {
     "ename": "TypeError",
     "evalue": "unhashable type: 'dict'",
     "output_type": "error",
     "traceback": [
      "\u001b[0;31m---------------------------------------------------------------------------\u001b[0m",
      "\u001b[0;31mTypeError\u001b[0m                                 Traceback (most recent call last)",
      "Cell \u001b[0;32mIn[17], line 1\u001b[0m\n\u001b[0;32m----> 1\u001b[0m d9 \u001b[38;5;241m=\u001b[39m {{\u001b[38;5;124m\"\u001b[39m\u001b[38;5;124mKey\u001b[39m\u001b[38;5;124m\"\u001b[39m : \u001b[38;5;124m\"\u001b[39m\u001b[38;5;124mValue\u001b[39m\u001b[38;5;124m\"\u001b[39m} : \u001b[38;5;241m123\u001b[39m}\n",
      "\u001b[0;31mTypeError\u001b[0m: unhashable type: 'dict'"
     ]
    }
   ],
   "source": [
    "d9 = {{\"Key\" : \"Value\"} : 123} #even the dict cant be as a key in dict"
   ]
  },
  {
   "cell_type": "code",
   "execution_count": 19,
   "id": "191ca757-f09d-4530-a7d2-01497e81c50c",
   "metadata": {},
   "outputs": [
    {
     "data": {
      "text/plain": [
       "{'course_name': ['Data Science Masters',\n",
       "  'Web development',\n",
       "  'Java with dsa and system design']}"
      ]
     },
     "execution_count": 19,
     "metadata": {},
     "output_type": "execute_result"
    }
   ],
   "source": [
    "d10 = {\"course_name\" : [\"Data Science Masters\",\"Web development\",\"Java with dsa and system design\"]}\n",
    "d10"
   ]
  },
  {
   "cell_type": "code",
   "execution_count": null,
   "id": "b0758f9b-1565-4684-a258-d0b56bd87d6a",
   "metadata": {},
   "outputs": [],
   "source": [
    "#The list,tuples,dictionaries,sets can be as a value in the dict"
   ]
  },
  {
   "cell_type": "code",
   "execution_count": 20,
   "id": "306d007d-6c08-4b91-9868-e4db9541df36",
   "metadata": {},
   "outputs": [
    {
     "data": {
      "text/plain": [
       "{'key': (1, 2, 3, 4)}"
      ]
     },
     "execution_count": 20,
     "metadata": {},
     "output_type": "execute_result"
    }
   ],
   "source": [
    "d11 = {\"key\" : (1,2,3,4)}\n",
    "d11"
   ]
  },
  {
   "cell_type": "code",
   "execution_count": 21,
   "id": "ac9fccd9-bf83-428d-8eb9-a94c164b7dfb",
   "metadata": {},
   "outputs": [
    {
     "data": {
      "text/plain": [
       "{'key': {1, 2, 3, 4}}"
      ]
     },
     "execution_count": 21,
     "metadata": {},
     "output_type": "execute_result"
    }
   ],
   "source": [
    "d12 = {\"key\" : {1,2,3,4}}\n",
    "d12"
   ]
  },
  {
   "cell_type": "code",
   "execution_count": 41,
   "id": "8e1f6d9d-648a-4e13-9cae-8009781bc4e0",
   "metadata": {},
   "outputs": [
    {
     "data": {
      "text/plain": [
       "{'key1': {'key2': 'Value'}}"
      ]
     },
     "execution_count": 41,
     "metadata": {},
     "output_type": "execute_result"
    }
   ],
   "source": [
    "d13 = {\"key1\" : {\"key2\" : \"Value\"}} #It is called \"Nested Dictionary\"\n",
    "d13"
   ]
  },
  {
   "cell_type": "code",
   "execution_count": 94,
   "id": "e4678482-0320-436b-a8a5-adaaafb015b3",
   "metadata": {},
   "outputs": [],
   "source": [
    "d_course = {\"course_name\" : [\"Discrete Mathematics\",\"Python\"] , \"start_date\" : (21,21) , \"mentors\" : {\"Manimaran\",\"Anushia devi\"}}"
   ]
  },
  {
   "cell_type": "code",
   "execution_count": 25,
   "id": "1b98bf8f-cb9d-497f-a223-66543b82cdb0",
   "metadata": {},
   "outputs": [
    {
     "data": {
      "text/plain": [
       "{'course_name': ['Discrete Mathematics', 'Python'],\n",
       " 'start_date': (21, 21),\n",
       " 'mentors': {'Anushia devi', 'Manimaran'}}"
      ]
     },
     "execution_count": 25,
     "metadata": {},
     "output_type": "execute_result"
    }
   ],
   "source": [
    "d_course"
   ]
  },
  {
   "cell_type": "code",
   "execution_count": 95,
   "id": "b955b4d1-7199-4224-89bc-b056d86ab813",
   "metadata": {},
   "outputs": [
    {
     "data": {
      "text/plain": [
       "{'course_name': ['Discrete Mathematics', 'Python'],\n",
       " 'start_date': (8, 8),\n",
       " 'mentors': {'Anushia devi', 'Manimaran'}}"
      ]
     },
     "execution_count": 95,
     "metadata": {},
     "output_type": "execute_result"
    }
   ],
   "source": [
    "d_course[\"start_date\"] = (8,8)\n",
    "d_course\n",
    "#dict is mutable as shown"
   ]
  },
  {
   "cell_type": "code",
   "execution_count": null,
   "id": "9b259eff-53e7-455f-b29f-d5b9f75bee3e",
   "metadata": {},
   "outputs": [],
   "source": [
    "#In dict,the key itself is a index"
   ]
  },
  {
   "cell_type": "code",
   "execution_count": 29,
   "id": "4a41880c-db69-4ceb-acdd-08e4a3e3fab7",
   "metadata": {},
   "outputs": [
    {
     "data": {
      "text/plain": [
       "{'Anushia devi', 'Manimaran'}"
      ]
     },
     "execution_count": 29,
     "metadata": {},
     "output_type": "execute_result"
    }
   ],
   "source": [
    "d_course[\"mentors\"]"
   ]
  },
  {
   "cell_type": "code",
   "execution_count": 30,
   "id": "54bc3f69-987c-40b9-b385-02fc7588cf73",
   "metadata": {},
   "outputs": [
    {
     "data": {
      "text/plain": [
       "set"
      ]
     },
     "execution_count": 30,
     "metadata": {},
     "output_type": "execute_result"
    }
   ],
   "source": [
    "type(d_course[\"mentors\"])"
   ]
  },
  {
   "cell_type": "code",
   "execution_count": 31,
   "id": "fb2a9ec2-3de8-445a-ab26-818149d10fa8",
   "metadata": {},
   "outputs": [
    {
     "ename": "KeyError",
     "evalue": "'timings'",
     "output_type": "error",
     "traceback": [
      "\u001b[0;31m---------------------------------------------------------------------------\u001b[0m",
      "\u001b[0;31mKeyError\u001b[0m                                  Traceback (most recent call last)",
      "Cell \u001b[0;32mIn[31], line 1\u001b[0m\n\u001b[0;32m----> 1\u001b[0m \u001b[43md_course\u001b[49m\u001b[43m[\u001b[49m\u001b[38;5;124;43m\"\u001b[39;49m\u001b[38;5;124;43mtimings\u001b[39;49m\u001b[38;5;124;43m\"\u001b[39;49m\u001b[43m]\u001b[49m \u001b[38;5;66;03m#KeyError\u001b[39;00m\n",
      "\u001b[0;31mKeyError\u001b[0m: 'timings'"
     ]
    }
   ],
   "source": [
    "d_course[\"timings\"] #KeyError"
   ]
  },
  {
   "cell_type": "code",
   "execution_count": null,
   "id": "6f19c3d2-7af6-4332-90b6-85216f37b032",
   "metadata": {},
   "outputs": [],
   "source": [
    "#Adding one more key value pair into an existing dictionary"
   ]
  },
  {
   "cell_type": "code",
   "execution_count": 96,
   "id": "1f4b885e-1e40-4a56-956f-83796249e88d",
   "metadata": {},
   "outputs": [],
   "source": [
    "d_course[\"Rating\"] = (5,5)"
   ]
  },
  {
   "cell_type": "code",
   "execution_count": 33,
   "id": "eb7a71a4-98a6-4f49-92cb-37fef8bd8c8b",
   "metadata": {},
   "outputs": [
    {
     "data": {
      "text/plain": [
       "{'course_name': ['Discrete Mathematics', 'Python'],\n",
       " 'start_date': (8, 8),\n",
       " 'mentors': {'Anushia devi', 'Manimaran'},\n",
       " 'Rating': (5, 5)}"
      ]
     },
     "execution_count": 33,
     "metadata": {},
     "output_type": "execute_result"
    }
   ],
   "source": [
    "d_course"
   ]
  },
  {
   "cell_type": "code",
   "execution_count": 42,
   "id": "61524c89-9362-46d7-ac3f-2daef90ec681",
   "metadata": {},
   "outputs": [
    {
     "data": {
      "text/plain": [
       "{'key1': {'key2': 'Value'}}"
      ]
     },
     "execution_count": 42,
     "metadata": {},
     "output_type": "execute_result"
    }
   ],
   "source": [
    "d13"
   ]
  },
  {
   "cell_type": "code",
   "execution_count": null,
   "id": "be691bf2-1dd9-4b50-ad37-287561fe4609",
   "metadata": {},
   "outputs": [],
   "source": [
    "#Extract \"Value\" from the above dictionary"
   ]
  },
  {
   "cell_type": "code",
   "execution_count": 44,
   "id": "3e6897d8-68f3-4296-a8b0-db016f50de3b",
   "metadata": {},
   "outputs": [
    {
     "data": {
      "text/plain": [
       "'Value'"
      ]
     },
     "execution_count": 44,
     "metadata": {},
     "output_type": "execute_result"
    }
   ],
   "source": [
    "d13[\"key1\"][\"key2\"]"
   ]
  },
  {
   "cell_type": "code",
   "execution_count": 45,
   "id": "dc547cfc-79a6-4209-9b79-93b34a8eff67",
   "metadata": {},
   "outputs": [
    {
     "data": {
      "text/plain": [
       "{'key2': 'Value'}"
      ]
     },
     "execution_count": 45,
     "metadata": {},
     "output_type": "execute_result"
    }
   ],
   "source": [
    "d13[\"key1\"]"
   ]
  },
  {
   "cell_type": "code",
   "execution_count": 46,
   "id": "a64f4671-0044-4d21-8f32-3a5b50ef801b",
   "metadata": {},
   "outputs": [
    {
     "data": {
      "text/plain": [
       "dict"
      ]
     },
     "execution_count": 46,
     "metadata": {},
     "output_type": "execute_result"
    }
   ],
   "source": [
    "type(d13[\"key1\"])"
   ]
  },
  {
   "cell_type": "code",
   "execution_count": 47,
   "id": "813dce93-7a25-4e0b-832e-ddfaf3133967",
   "metadata": {},
   "outputs": [
    {
     "data": {
      "text/plain": [
       "{'key1': {'key2': 'Value'}}"
      ]
     },
     "execution_count": 47,
     "metadata": {},
     "output_type": "execute_result"
    }
   ],
   "source": [
    "d13"
   ]
  },
  {
   "cell_type": "code",
   "execution_count": 58,
   "id": "5a51d7aa-f878-4364-996d-bbc7112ca2f3",
   "metadata": {},
   "outputs": [],
   "source": [
    "d13[\"key3\"] = \"Value3\""
   ]
  },
  {
   "cell_type": "code",
   "execution_count": 59,
   "id": "8b968e6b-88b4-466b-9016-d4eed4e7015d",
   "metadata": {},
   "outputs": [
    {
     "data": {
      "text/plain": [
       "{'key1': {'key2': 'Value'}, 'key3': 'Value3'}"
      ]
     },
     "execution_count": 59,
     "metadata": {},
     "output_type": "execute_result"
    }
   ],
   "source": [
    "d13"
   ]
  },
  {
   "cell_type": "code",
   "execution_count": 60,
   "id": "9c9f62ec-157b-4b76-b7cb-28ab54acf175",
   "metadata": {},
   "outputs": [],
   "source": [
    "#deleting operation\n",
    "del d13[\"key3\"]"
   ]
  },
  {
   "cell_type": "code",
   "execution_count": 61,
   "id": "70a1a76a-4707-42e9-88dc-aaff5b90ce73",
   "metadata": {},
   "outputs": [
    {
     "data": {
      "text/plain": [
       "{'key1': {'key2': 'Value'}}"
      ]
     },
     "execution_count": 61,
     "metadata": {},
     "output_type": "execute_result"
    }
   ],
   "source": [
    "d13"
   ]
  },
  {
   "cell_type": "code",
   "execution_count": 62,
   "id": "f784eda5-a57b-4e29-b38f-fc740ea7d9e1",
   "metadata": {},
   "outputs": [],
   "source": [
    "d13.clear()"
   ]
  },
  {
   "cell_type": "code",
   "execution_count": 63,
   "id": "8908ffb9-6fef-4198-8db4-d9750abedcc6",
   "metadata": {},
   "outputs": [
    {
     "data": {
      "text/plain": [
       "{}"
      ]
     },
     "execution_count": 63,
     "metadata": {},
     "output_type": "execute_result"
    }
   ],
   "source": [
    "d13"
   ]
  },
  {
   "cell_type": "code",
   "execution_count": 64,
   "id": "c28928bf-b8ff-4962-bfd6-2594ad0bb484",
   "metadata": {},
   "outputs": [
    {
     "data": {
      "text/plain": [
       "{'course_name': ['Discrete Mathematics', 'Python'],\n",
       " 'start_date': (8, 8),\n",
       " 'mentors': {'Anushia devi', 'Manimaran'},\n",
       " 'Rating': (5, 5)}"
      ]
     },
     "execution_count": 64,
     "metadata": {},
     "output_type": "execute_result"
    }
   ],
   "source": [
    "d_course"
   ]
  },
  {
   "cell_type": "code",
   "execution_count": 68,
   "id": "6b546923-be21-4a2e-8c1c-de5447c8fac9",
   "metadata": {},
   "outputs": [
    {
     "data": {
      "text/plain": [
       "4"
      ]
     },
     "execution_count": 68,
     "metadata": {},
     "output_type": "execute_result"
    }
   ],
   "source": [
    "len(d_course)"
   ]
  },
  {
   "cell_type": "code",
   "execution_count": 69,
   "id": "3bc1159d-b516-47c8-8f77-296f11c7398a",
   "metadata": {},
   "outputs": [
    {
     "data": {
      "text/plain": [
       "dict_keys(['course_name', 'start_date', 'mentors', 'Rating'])"
      ]
     },
     "execution_count": 69,
     "metadata": {},
     "output_type": "execute_result"
    }
   ],
   "source": [
    "d_course.keys() #inbuilt function to view keys of a dictionary"
   ]
  },
  {
   "cell_type": "code",
   "execution_count": 70,
   "id": "1c444132-f597-4b8f-b54e-dd4fa36b84fb",
   "metadata": {},
   "outputs": [
    {
     "data": {
      "text/plain": [
       "dict_values([['Discrete Mathematics', 'Python'], (8, 8), {'Anushia devi', 'Manimaran'}, (5, 5)])"
      ]
     },
     "execution_count": 70,
     "metadata": {},
     "output_type": "execute_result"
    }
   ],
   "source": [
    "d_course.values()"
   ]
  },
  {
   "cell_type": "code",
   "execution_count": 73,
   "id": "a54c0d3a-a790-4fc0-8986-4d00730c1f57",
   "metadata": {},
   "outputs": [
    {
     "data": {
      "text/plain": [
       "['course_name', 'start_date', 'mentors', 'Rating']"
      ]
     },
     "execution_count": 73,
     "metadata": {},
     "output_type": "execute_result"
    }
   ],
   "source": [
    "list(d_course.keys()) #converting dict(only keys) into list"
   ]
  },
  {
   "cell_type": "code",
   "execution_count": 72,
   "id": "191f1d34-74b4-4b41-a92f-4746fb5ab5a3",
   "metadata": {},
   "outputs": [
    {
     "data": {
      "text/plain": [
       "[['Discrete Mathematics', 'Python'],\n",
       " (8, 8),\n",
       " {'Anushia devi', 'Manimaran'},\n",
       " (5, 5)]"
      ]
     },
     "execution_count": 72,
     "metadata": {},
     "output_type": "execute_result"
    }
   ],
   "source": [
    "list(d_course.values()) #converting dict(only values) into list"
   ]
  },
  {
   "cell_type": "code",
   "execution_count": 74,
   "id": "9d795d5e-fc04-4bc5-b615-f0619c1f8f36",
   "metadata": {},
   "outputs": [
    {
     "data": {
      "text/plain": [
       "[('course_name', ['Discrete Mathematics', 'Python']),\n",
       " ('start_date', (8, 8)),\n",
       " ('mentors', {'Anushia devi', 'Manimaran'}),\n",
       " ('Rating', (5, 5))]"
      ]
     },
     "execution_count": 74,
     "metadata": {},
     "output_type": "execute_result"
    }
   ],
   "source": [
    "list(d_course.items()) #converting whole dict into list"
   ]
  },
  {
   "cell_type": "code",
   "execution_count": 75,
   "id": "2aa6ec55-05f1-4448-922f-7b9ca95e979f",
   "metadata": {},
   "outputs": [],
   "source": [
    "d_test = d_course.copy() #copying a dict into another dict using inbuilt function"
   ]
  },
  {
   "cell_type": "code",
   "execution_count": 76,
   "id": "1091c9ac-abe9-4d73-a6f3-9ea7acf6652e",
   "metadata": {},
   "outputs": [
    {
     "data": {
      "text/plain": [
       "{'course_name': ['Discrete Mathematics', 'Python'],\n",
       " 'start_date': (8, 8),\n",
       " 'mentors': {'Anushia devi', 'Manimaran'},\n",
       " 'Rating': (5, 5)}"
      ]
     },
     "execution_count": 76,
     "metadata": {},
     "output_type": "execute_result"
    }
   ],
   "source": [
    "d_test"
   ]
  },
  {
   "cell_type": "code",
   "execution_count": 77,
   "id": "03223353-9adf-4dfa-aa54-94920f8a7d5b",
   "metadata": {},
   "outputs": [],
   "source": [
    "d_test1 = d_course #copying a dict into another dict using assignment operator"
   ]
  },
  {
   "cell_type": "code",
   "execution_count": 78,
   "id": "27211ce2-a59d-484f-8b36-fc5deb7784e8",
   "metadata": {},
   "outputs": [
    {
     "data": {
      "text/plain": [
       "{'course_name': ['Discrete Mathematics', 'Python'],\n",
       " 'start_date': (8, 8),\n",
       " 'mentors': {'Anushia devi', 'Manimaran'},\n",
       " 'Rating': (5, 5)}"
      ]
     },
     "execution_count": 78,
     "metadata": {},
     "output_type": "execute_result"
    }
   ],
   "source": [
    "d_test1"
   ]
  },
  {
   "cell_type": "code",
   "execution_count": 99,
   "id": "33c15b1a-edb4-433f-a154-2aec62c6427e",
   "metadata": {},
   "outputs": [],
   "source": [
    "d_test = d_course.copy()"
   ]
  },
  {
   "cell_type": "code",
   "execution_count": 97,
   "id": "f8589bf5-ec06-4196-9726-4e5e47cf9186",
   "metadata": {},
   "outputs": [
    {
     "data": {
      "text/plain": [
       "{'course_name': ['Discrete Mathematics', 'Python'],\n",
       " 'start_date': (8, 8),\n",
       " 'mentors': {'Anushia devi', 'Manimaran'},\n",
       " 'Rating': (5, 5)}"
      ]
     },
     "execution_count": 97,
     "metadata": {},
     "output_type": "execute_result"
    }
   ],
   "source": [
    "d_course"
   ]
  },
  {
   "cell_type": "code",
   "execution_count": 98,
   "id": "21f0dd70-12ab-4bc7-8526-1205247813d5",
   "metadata": {},
   "outputs": [
    {
     "data": {
      "text/plain": [
       "{'course_name': ['Discrete Mathematics', 'Python'],\n",
       " 'mentors': {'Anushia devi', 'Manimaran'},\n",
       " 'Rating': (5, 5)}"
      ]
     },
     "execution_count": 98,
     "metadata": {},
     "output_type": "execute_result"
    }
   ],
   "source": [
    "d_test"
   ]
  },
  {
   "cell_type": "code",
   "execution_count": 100,
   "id": "0304560f-83b8-4d6a-9ee7-287ca7fdd1e8",
   "metadata": {},
   "outputs": [],
   "source": [
    "del d_course[\"Rating\"]"
   ]
  },
  {
   "cell_type": "code",
   "execution_count": 101,
   "id": "21743d5c-19eb-4e4f-b4df-16ca9a2d6d09",
   "metadata": {},
   "outputs": [
    {
     "data": {
      "text/plain": [
       "{'course_name': ['Discrete Mathematics', 'Python'],\n",
       " 'start_date': (8, 8),\n",
       " 'mentors': {'Anushia devi', 'Manimaran'}}"
      ]
     },
     "execution_count": 101,
     "metadata": {},
     "output_type": "execute_result"
    }
   ],
   "source": [
    "d_course"
   ]
  },
  {
   "cell_type": "code",
   "execution_count": 102,
   "id": "1e3e0d31-6d41-49d3-b5b0-a796ec1d2798",
   "metadata": {},
   "outputs": [
    {
     "data": {
      "text/plain": [
       "{'course_name': ['Discrete Mathematics', 'Python'],\n",
       " 'start_date': (8, 8),\n",
       " 'mentors': {'Anushia devi', 'Manimaran'},\n",
       " 'Rating': (5, 5)}"
      ]
     },
     "execution_count": 102,
     "metadata": {},
     "output_type": "execute_result"
    }
   ],
   "source": [
    "d_test"
   ]
  },
  {
   "cell_type": "code",
   "execution_count": null,
   "id": "7df12563-d426-47de-b6fa-e6ae02e16390",
   "metadata": {},
   "outputs": [],
   "source": [
    "\"\"\"If you observe above code snippets d_test and d_course are saved in diff memory locations \n",
    "therefore a modification in one dict will not affect in another copy if dict\"\"\" "
   ]
  },
  {
   "cell_type": "code",
   "execution_count": null,
   "id": "5d00da6e-00b0-42ce-a6e7-6e1963e3064e",
   "metadata": {},
   "outputs": [],
   "source": [
    "\"But for assignment operator modifications will affect for both bcoz both will point same memory locations\""
   ]
  },
  {
   "cell_type": "code",
   "execution_count": 85,
   "id": "df386f2a-edfa-4e81-9636-6a18b707de76",
   "metadata": {},
   "outputs": [
    {
     "ename": "TypeError",
     "evalue": "pop expected at least 1 argument, got 0",
     "output_type": "error",
     "traceback": [
      "\u001b[0;31m---------------------------------------------------------------------------\u001b[0m",
      "\u001b[0;31mTypeError\u001b[0m                                 Traceback (most recent call last)",
      "Cell \u001b[0;32mIn[85], line 1\u001b[0m\n\u001b[0;32m----> 1\u001b[0m \u001b[43md_test\u001b[49m\u001b[38;5;241;43m.\u001b[39;49m\u001b[43mpop\u001b[49m\u001b[43m(\u001b[49m\u001b[43m)\u001b[49m\n",
      "\u001b[0;31mTypeError\u001b[0m: pop expected at least 1 argument, got 0"
     ]
    }
   ],
   "source": [
    "d_test.pop() #require key as argument,so pass as argument but in lists no need of arguments"
   ]
  },
  {
   "cell_type": "code",
   "execution_count": 103,
   "id": "7bd24008-56b8-4d5e-906e-399123f9a10c",
   "metadata": {},
   "outputs": [
    {
     "data": {
      "text/plain": [
       "(8, 8)"
      ]
     },
     "execution_count": 103,
     "metadata": {},
     "output_type": "execute_result"
    }
   ],
   "source": [
    "d_test.pop(\"start_date\") #see the return type"
   ]
  },
  {
   "cell_type": "code",
   "execution_count": null,
   "id": "7e40b4d6-b58a-4183-aa23-16bce57fed8e",
   "metadata": {},
   "outputs": [],
   "source": []
  },
  {
   "cell_type": "code",
   "execution_count": 8,
   "id": "206f29d6-4b88-454a-a32f-a26ae1a5f262",
   "metadata": {},
   "outputs": [],
   "source": [
    "d = {}"
   ]
  },
  {
   "cell_type": "code",
   "execution_count": 9,
   "id": "15b4d299-c21f-4fbb-b8f2-d5613f4cfbf7",
   "metadata": {},
   "outputs": [
    {
     "data": {
      "text/plain": [
       "{1: ('a', 'b', 'c'), 2: ('a', 'b', 'c'), 3: ('a', 'b', 'c')}"
      ]
     },
     "execution_count": 9,
     "metadata": {},
     "output_type": "execute_result"
    }
   ],
   "source": [
    "d.fromkeys((1,2,3),(\"a\",\"b\",\"c\"))\n",
    "#here,(1,2,3) are keys and (a,b,c) are values,see the output "
   ]
  },
  {
   "cell_type": "code",
   "execution_count": 10,
   "id": "dae91498-b4e8-4640-8998-23e3b817a4a9",
   "metadata": {},
   "outputs": [
    {
     "data": {
      "text/plain": [
       "({'key1': 'value1', 'key2': 'value2'}, {'key3': 'value3', 'key4': 'value4'})"
      ]
     },
     "execution_count": 10,
     "metadata": {},
     "output_type": "execute_result"
    }
   ],
   "source": [
    "d19 = {\"key1\" : \"value1\",\"key2\" : \"value2\"}\n",
    "d20 = {\"key3\" : \"value3\",\"key4\" : \"value4\"}\n",
    "tup = (d19,d20)\n",
    "tup\n",
    "#Therefore,dictionaries inside a tuple is possible"
   ]
  },
  {
   "cell_type": "code",
   "execution_count": 11,
   "id": "5285510c-0c30-4295-9413-1f084c81f6fa",
   "metadata": {},
   "outputs": [
    {
     "data": {
      "text/plain": [
       "{'key1': 'value1', 'key2': 'value2'}"
      ]
     },
     "execution_count": 11,
     "metadata": {},
     "output_type": "execute_result"
    }
   ],
   "source": [
    "d19"
   ]
  },
  {
   "cell_type": "code",
   "execution_count": 12,
   "id": "22092634-2f1e-40a4-b9ff-0e58a498c541",
   "metadata": {},
   "outputs": [
    {
     "data": {
      "text/plain": [
       "{'key3': 'value3', 'key4': 'value4'}"
      ]
     },
     "execution_count": 12,
     "metadata": {},
     "output_type": "execute_result"
    }
   ],
   "source": [
    "d20"
   ]
  },
  {
   "cell_type": "code",
   "execution_count": 13,
   "id": "848e640d-4576-40f4-96e6-8ee17a6ebca4",
   "metadata": {},
   "outputs": [],
   "source": [
    "d19.update(d20)"
   ]
  },
  {
   "cell_type": "code",
   "execution_count": 14,
   "id": "6933b57f-7323-4f9b-9242-f3fe70f5aa1f",
   "metadata": {},
   "outputs": [
    {
     "data": {
      "text/plain": [
       "{'key1': 'value1', 'key2': 'value2', 'key3': 'value3', 'key4': 'value4'}"
      ]
     },
     "execution_count": 14,
     "metadata": {},
     "output_type": "execute_result"
    }
   ],
   "source": [
    "d19 #this is the change you can see after update function"
   ]
  },
  {
   "cell_type": "code",
   "execution_count": 15,
   "id": "81822cd7-b93e-4d7f-8181-5ca32f76ce33",
   "metadata": {},
   "outputs": [
    {
     "data": {
      "text/plain": [
       "{'key3': 'value3', 'key4': 'value4'}"
      ]
     },
     "execution_count": 15,
     "metadata": {},
     "output_type": "execute_result"
    }
   ],
   "source": [
    "d20"
   ]
  },
  {
   "cell_type": "code",
   "execution_count": null,
   "id": "3a4c1287-2953-407f-bc5c-b11c677161fb",
   "metadata": {},
   "outputs": [],
   "source": [
    "#we can get the value of a particular key using get(key) function or by key indexing as shown"
   ]
  },
  {
   "cell_type": "code",
   "execution_count": 16,
   "id": "80e2fde5-69b1-46f1-8197-567fcf21a639",
   "metadata": {},
   "outputs": [
    {
     "data": {
      "text/plain": [
       "'value3'"
      ]
     },
     "execution_count": 16,
     "metadata": {},
     "output_type": "execute_result"
    }
   ],
   "source": [
    "d20[\"key3\"]"
   ]
  },
  {
   "cell_type": "code",
   "execution_count": 17,
   "id": "efedbe5b-78c1-4b41-bf97-5f3f266f6174",
   "metadata": {},
   "outputs": [
    {
     "data": {
      "text/plain": [
       "'value3'"
      ]
     },
     "execution_count": 17,
     "metadata": {},
     "output_type": "execute_result"
    }
   ],
   "source": [
    "d20.get(\"key3\")"
   ]
  },
  {
   "cell_type": "code",
   "execution_count": 18,
   "id": "3ede761e-285c-4d24-acca-57bc061b2a11",
   "metadata": {},
   "outputs": [],
   "source": [
    "d20.get(\"nik\") #does nothing bcoz there is no such key in d20"
   ]
  },
  {
   "cell_type": "markdown",
   "id": "d3ec9708-6fc9-4f4f-b250-d4abca5d1cc8",
   "metadata": {},
   "source": [
    "#Dictionary Comprehnsion"
   ]
  },
  {
   "cell_type": "code",
   "execution_count": 19,
   "id": "91f3280d-0ff2-4e55-8bd7-3d7c60b4c0b1",
   "metadata": {},
   "outputs": [
    {
     "data": {
      "text/plain": [
       "[1, 2, 3, 4, 5, 6, 7, 8, 9, 10]"
      ]
     },
     "execution_count": 19,
     "metadata": {},
     "output_type": "execute_result"
    }
   ],
   "source": [
    "#what does range() function does\n",
    "list(range(1,11,1))"
   ]
  },
  {
   "cell_type": "code",
   "execution_count": null,
   "id": "64fc1af3-c5a3-4a9e-9b36-11698b0c9b1c",
   "metadata": {},
   "outputs": [],
   "source": [
    "# create a dict such that the keys are num from 1 to 10 and values are square of those numbers"
   ]
  },
  {
   "cell_type": "code",
   "execution_count": 20,
   "id": "4fd21fc8-5500-440e-a583-bf6ba1d98444",
   "metadata": {},
   "outputs": [
    {
     "data": {
      "text/plain": [
       "{1: 1, 2: 4, 3: 9, 4: 16, 5: 25, 6: 36, 7: 49, 8: 64, 9: 81, 10: 100}"
      ]
     },
     "execution_count": 20,
     "metadata": {},
     "output_type": "execute_result"
    }
   ],
   "source": [
    "{i : i**2 for i in range(1,11,1)}"
   ]
  },
  {
   "cell_type": "code",
   "execution_count": 27,
   "id": "add0b429-00ca-4692-bd25-1c2a27a497e0",
   "metadata": {},
   "outputs": [
    {
     "data": {
      "text/plain": [
       "{1: 0.0,\n",
       " 2: 0.3010299956639812,\n",
       " 3: 0.47712125471966244,\n",
       " 4: 0.6020599913279624,\n",
       " 5: 0.6989700043360189,\n",
       " 6: 0.7781512503836436,\n",
       " 7: 0.8450980400142568,\n",
       " 8: 0.9030899869919435,\n",
       " 9: 0.9542425094393249,\n",
       " 10: 1.0}"
      ]
     },
     "execution_count": 27,
     "metadata": {},
     "output_type": "execute_result"
    }
   ],
   "source": [
    "import math\n",
    "d21 = {i: math.log10(i) for i in range(1,11,1)}\n",
    "d21"
   ]
  },
  {
   "cell_type": "code",
   "execution_count": 22,
   "id": "2d356bf0-a1a6-4a4d-aac0-7d01e7bbb6bd",
   "metadata": {},
   "outputs": [
    {
     "data": {
      "text/plain": [
       "{'key1': 'value1', 'key2': 'value2', 'key3': 'value3', 'key4': 'value4'}"
      ]
     },
     "execution_count": 22,
     "metadata": {},
     "output_type": "execute_result"
    }
   ],
   "source": [
    "d19"
   ]
  },
  {
   "cell_type": "code",
   "execution_count": 23,
   "id": "a85415d1-d2f5-4f23-b7e3-3c9099335170",
   "metadata": {},
   "outputs": [
    {
     "data": {
      "text/plain": [
       "True"
      ]
     },
     "execution_count": 23,
     "metadata": {},
     "output_type": "execute_result"
    }
   ],
   "source": [
    "#checking whether the key is available in dict or not\n",
    "\"key3\" in d19"
   ]
  },
  {
   "cell_type": "code",
   "execution_count": 24,
   "id": "15e2e970-1780-41ab-93a3-eddc617627bd",
   "metadata": {},
   "outputs": [
    {
     "data": {
      "text/plain": [
       "False"
      ]
     },
     "execution_count": 24,
     "metadata": {},
     "output_type": "execute_result"
    }
   ],
   "source": [
    "\"key5\" in d19"
   ]
  },
  {
   "cell_type": "code",
   "execution_count": 28,
   "id": "ef999854-ecdd-453f-b8a1-a324ebf860e8",
   "metadata": {},
   "outputs": [
    {
     "data": {
      "text/plain": [
       "{1: 0.0,\n",
       " 2: 0.3010299956639812,\n",
       " 3: 0.47712125471966244,\n",
       " 4: 0.6020599913279624,\n",
       " 5: 0.6989700043360189,\n",
       " 6: 0.7781512503836436,\n",
       " 7: 0.8450980400142568,\n",
       " 8: 0.9030899869919435,\n",
       " 9: 0.9542425094393249,\n",
       " 10: 1.0}"
      ]
     },
     "execution_count": 28,
     "metadata": {},
     "output_type": "execute_result"
    }
   ],
   "source": [
    "d21"
   ]
  },
  {
   "cell_type": "code",
   "execution_count": null,
   "id": "c860dc97-bc6a-438b-930f-8bcab975d393",
   "metadata": {},
   "outputs": [],
   "source": [
    "#filter out whose keys are even from d21 dictionary"
   ]
  },
  {
   "cell_type": "code",
   "execution_count": 29,
   "id": "abf30b35-d8c4-499e-afd7-ea990d6f187e",
   "metadata": {},
   "outputs": [
    {
     "data": {
      "text/plain": [
       "dict_keys([1, 2, 3, 4, 5, 6, 7, 8, 9, 10])"
      ]
     },
     "execution_count": 29,
     "metadata": {},
     "output_type": "execute_result"
    }
   ],
   "source": [
    "d21.keys()"
   ]
  },
  {
   "cell_type": "code",
   "execution_count": 31,
   "id": "052f0cd4-d687-451f-96d7-e2ce115523f8",
   "metadata": {},
   "outputs": [
    {
     "name": "stdout",
     "output_type": "stream",
     "text": [
      "2 : 0.3010299956639812\n",
      "4 : 0.6020599913279624\n",
      "6 : 0.7781512503836436\n",
      "8 : 0.9030899869919435\n",
      "10 : 1.0\n"
     ]
    }
   ],
   "source": [
    "for i in d21.keys():\n",
    "    if i%2 == 0:\n",
    "        print(f\"{i} : {d21.get(i)}\")"
   ]
  },
  {
   "cell_type": "code",
   "execution_count": null,
   "id": "d838e3ca-9ee2-4e21-9b17-538d1c24aa4c",
   "metadata": {},
   "outputs": [],
   "source": []
  },
  {
   "cell_type": "code",
   "execution_count": null,
   "id": "48c60536-bf77-4f31-be2b-0a1fc317939b",
   "metadata": {},
   "outputs": [],
   "source": []
  },
  {
   "cell_type": "code",
   "execution_count": null,
   "id": "4bdd2322-de08-4f86-bbae-957b1480b937",
   "metadata": {},
   "outputs": [],
   "source": []
  },
  {
   "cell_type": "code",
   "execution_count": null,
   "id": "65c132c8-cf70-4588-b8ed-e9c80b45c289",
   "metadata": {},
   "outputs": [],
   "source": []
  },
  {
   "cell_type": "code",
   "execution_count": null,
   "id": "b2f37b90-d225-42ec-b428-5d05c799cce6",
   "metadata": {},
   "outputs": [],
   "source": []
  },
  {
   "cell_type": "code",
   "execution_count": null,
   "id": "34759fb6-9528-42a5-971b-328e5d011b00",
   "metadata": {},
   "outputs": [],
   "source": []
  },
  {
   "cell_type": "code",
   "execution_count": null,
   "id": "e5bc4f65-ad5a-4c00-9cf9-6fc1208fbb5c",
   "metadata": {},
   "outputs": [],
   "source": []
  },
  {
   "cell_type": "code",
   "execution_count": null,
   "id": "1754ee41-f1fb-4647-bf52-a6a91bfd19a0",
   "metadata": {},
   "outputs": [],
   "source": []
  },
  {
   "cell_type": "code",
   "execution_count": null,
   "id": "4c819e19-2a28-4df6-bc83-c768a7fde14c",
   "metadata": {},
   "outputs": [],
   "source": []
  },
  {
   "cell_type": "code",
   "execution_count": null,
   "id": "ab031889-cb93-4edc-82fa-ccfa0274442b",
   "metadata": {},
   "outputs": [],
   "source": []
  },
  {
   "cell_type": "code",
   "execution_count": null,
   "id": "5afccd1d-6347-4558-8ed5-2ee2552ddcb1",
   "metadata": {},
   "outputs": [],
   "source": []
  }
 ],
 "metadata": {
  "kernelspec": {
   "display_name": "Python 3 (ipykernel)",
   "language": "python",
   "name": "python3"
  },
  "language_info": {
   "codemirror_mode": {
    "name": "ipython",
    "version": 3
   },
   "file_extension": ".py",
   "mimetype": "text/x-python",
   "name": "python",
   "nbconvert_exporter": "python",
   "pygments_lexer": "ipython3",
   "version": "3.10.8"
  }
 },
 "nbformat": 4,
 "nbformat_minor": 5
}
