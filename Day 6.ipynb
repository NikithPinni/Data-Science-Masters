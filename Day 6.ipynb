{
 "cells": [
  {
   "cell_type": "markdown",
   "id": "83df6174-2a94-4208-8853-96d78c841c7b",
   "metadata": {},
   "source": [
    "#Functions"
   ]
  },
  {
   "cell_type": "code",
   "execution_count": 2,
   "id": "e0f7922f-4687-4b36-9de8-3b01e008fffc",
   "metadata": {},
   "outputs": [
    {
     "ename": "SyntaxError",
     "evalue": "incomplete input (3861551224.py, line 1)",
     "output_type": "error",
     "traceback": [
      "\u001b[0;36m  Cell \u001b[0;32mIn[2], line 1\u001b[0;36m\u001b[0m\n\u001b[0;31m    def test():\u001b[0m\n\u001b[0m               ^\u001b[0m\n\u001b[0;31mSyntaxError\u001b[0m\u001b[0;31m:\u001b[0m incomplete input\n"
     ]
    }
   ],
   "source": [
    "def test():\n",
    "    #if you dont define the function,it will give error"
   ]
  },
  {
   "cell_type": "code",
   "execution_count": 4,
   "id": "9d2ca612-6dd9-4980-88ae-6bddee690750",
   "metadata": {},
   "outputs": [],
   "source": [
    "#however,you can use pass keyword for solving the above error\n",
    "def test():\n",
    "    pass\n",
    "#no error"
   ]
  },
  {
   "cell_type": "code",
   "execution_count": 5,
   "id": "828aedf7-632b-4bb4-9763-d67c8924b39c",
   "metadata": {},
   "outputs": [],
   "source": [
    "def test1():\n",
    "    print(\"This is the first function\")"
   ]
  },
  {
   "cell_type": "code",
   "execution_count": 6,
   "id": "1a6da324-64e1-4e0d-b2a6-574a5e02ebcf",
   "metadata": {},
   "outputs": [
    {
     "name": "stdout",
     "output_type": "stream",
     "text": [
      "This is the first function\n"
     ]
    }
   ],
   "source": [
    "test1()"
   ]
  },
  {
   "cell_type": "code",
   "execution_count": 7,
   "id": "c58f3f47-92f1-4db9-bb6d-113a1468dd7a",
   "metadata": {},
   "outputs": [
    {
     "name": "stdout",
     "output_type": "stream",
     "text": [
      "This is the first function\n"
     ]
    },
    {
     "ename": "TypeError",
     "evalue": "unsupported operand type(s) for +: 'NoneType' and 'str'",
     "output_type": "error",
     "traceback": [
      "\u001b[0;31m---------------------------------------------------------------------------\u001b[0m",
      "\u001b[0;31mTypeError\u001b[0m                                 Traceback (most recent call last)",
      "Cell \u001b[0;32mIn[7], line 1\u001b[0m\n\u001b[0;32m----> 1\u001b[0m \u001b[43mtest1\u001b[49m\u001b[43m(\u001b[49m\u001b[43m)\u001b[49m\u001b[43m \u001b[49m\u001b[38;5;241;43m+\u001b[39;49m\u001b[43m \u001b[49m\u001b[38;5;124;43m\"\u001b[39;49m\u001b[38;5;124;43mNikith\u001b[39;49m\u001b[38;5;124;43m\"\u001b[39;49m\n",
      "\u001b[0;31mTypeError\u001b[0m: unsupported operand type(s) for +: 'NoneType' and 'str'"
     ]
    }
   ],
   "source": [
    "test1() + \"Nikith\"\n",
    "#Cant be done like this\n",
    "#read the total error snippet "
   ]
  },
  {
   "cell_type": "code",
   "execution_count": null,
   "id": "0cab6984-fea4-41b3-8bd9-6949a2aad327",
   "metadata": {},
   "outputs": [],
   "source": [
    "#print() function always return nonetype"
   ]
  },
  {
   "cell_type": "code",
   "execution_count": 8,
   "id": "72edcc76-0361-4734-8aef-ccc460f27145",
   "metadata": {},
   "outputs": [],
   "source": [
    "def test2():\n",
    "    return \"This is my function with test2 return as string \""
   ]
  },
  {
   "cell_type": "code",
   "execution_count": 9,
   "id": "44a61055-1f5d-46d0-9008-12b4713b5455",
   "metadata": {},
   "outputs": [
    {
     "data": {
      "text/plain": [
       "'This is my function with test2 return as string Nikith'"
      ]
     },
     "execution_count": 9,
     "metadata": {},
     "output_type": "execute_result"
    }
   ],
   "source": [
    "test2() + \"Nikith\" #it works now,no TypeError"
   ]
  },
  {
   "cell_type": "code",
   "execution_count": 10,
   "id": "8a0bd996-034b-4c53-a7b3-35ae6c8baf1c",
   "metadata": {},
   "outputs": [],
   "source": [
    "def test3():\n",
    "    return 1,True,\"pw skills\",4.5\n",
    "    "
   ]
  },
  {
   "cell_type": "code",
   "execution_count": 11,
   "id": "4705ad74-844b-4ee1-a31e-c22d00d4cd25",
   "metadata": {},
   "outputs": [
    {
     "data": {
      "text/plain": [
       "(1, True, 'pw skills', 4.5)"
      ]
     },
     "execution_count": 11,
     "metadata": {},
     "output_type": "execute_result"
    }
   ],
   "source": [
    "test3()"
   ]
  },
  {
   "cell_type": "code",
   "execution_count": null,
   "id": "95ec5770-201f-4862-9f3e-d40cc641d181",
   "metadata": {},
   "outputs": [],
   "source": [
    "#multiple returns from one single function is possible in python"
   ]
  },
  {
   "cell_type": "code",
   "execution_count": 12,
   "id": "dca63d60-84a8-4ee7-9c31-2c66da53131c",
   "metadata": {},
   "outputs": [
    {
     "data": {
      "text/plain": [
       "(1, 2, 3, 4, 5, 6)"
      ]
     },
     "execution_count": 12,
     "metadata": {},
     "output_type": "execute_result"
    }
   ],
   "source": [
    "a = 1,2,3,4,5,6\n",
    "a\n",
    "#Thats the beauty"
   ]
  },
  {
   "cell_type": "code",
   "execution_count": 13,
   "id": "33b58c66-d1f7-41e2-afef-a628e4d6d416",
   "metadata": {},
   "outputs": [],
   "source": [
    "a,b,c,d = 5,True,\"Nik\",2.5"
   ]
  },
  {
   "cell_type": "code",
   "execution_count": 14,
   "id": "2166c240-f46c-4152-9916-d7f03b240967",
   "metadata": {},
   "outputs": [
    {
     "data": {
      "text/plain": [
       "5"
      ]
     },
     "execution_count": 14,
     "metadata": {},
     "output_type": "execute_result"
    }
   ],
   "source": [
    "a"
   ]
  },
  {
   "cell_type": "code",
   "execution_count": 15,
   "id": "5eaae2a4-4249-4abd-acf8-d939adf918d0",
   "metadata": {},
   "outputs": [
    {
     "data": {
      "text/plain": [
       "True"
      ]
     },
     "execution_count": 15,
     "metadata": {},
     "output_type": "execute_result"
    }
   ],
   "source": [
    "b"
   ]
  },
  {
   "cell_type": "code",
   "execution_count": 16,
   "id": "529f7171-7336-429b-94dc-6e1e038a49e4",
   "metadata": {},
   "outputs": [
    {
     "data": {
      "text/plain": [
       "'Nik'"
      ]
     },
     "execution_count": 16,
     "metadata": {},
     "output_type": "execute_result"
    }
   ],
   "source": [
    "c"
   ]
  },
  {
   "cell_type": "code",
   "execution_count": 17,
   "id": "fe0dcd50-1833-492e-8213-e5645ae20cd8",
   "metadata": {},
   "outputs": [
    {
     "data": {
      "text/plain": [
       "2.5"
      ]
     },
     "execution_count": 17,
     "metadata": {},
     "output_type": "execute_result"
    }
   ],
   "source": [
    "d"
   ]
  },
  {
   "cell_type": "code",
   "execution_count": 18,
   "id": "3ee685da-5b0a-4586-92fe-78112c34d45d",
   "metadata": {},
   "outputs": [
    {
     "data": {
      "text/plain": [
       "(1, True, 'pw skills', 4.5)"
      ]
     },
     "execution_count": 18,
     "metadata": {},
     "output_type": "execute_result"
    }
   ],
   "source": [
    "test3() #returns in the form of tuple"
   ]
  },
  {
   "cell_type": "code",
   "execution_count": 20,
   "id": "1311fc47-a41f-42cb-8152-e5bf8c64e331",
   "metadata": {},
   "outputs": [
    {
     "data": {
      "text/plain": [
       "'pw skills'"
      ]
     },
     "execution_count": 20,
     "metadata": {},
     "output_type": "execute_result"
    }
   ],
   "source": [
    "test3()[2] #extracting from a multiple return function as shown"
   ]
  },
  {
   "cell_type": "code",
   "execution_count": 21,
   "id": "5ee612b8-634a-4340-8aa5-8c3036535567",
   "metadata": {},
   "outputs": [],
   "source": [
    "w,x,y,z = test3()"
   ]
  },
  {
   "cell_type": "code",
   "execution_count": 22,
   "id": "341ca698-f305-4fa7-af57-b3f7785be580",
   "metadata": {},
   "outputs": [
    {
     "data": {
      "text/plain": [
       "1"
      ]
     },
     "execution_count": 22,
     "metadata": {},
     "output_type": "execute_result"
    }
   ],
   "source": [
    "w"
   ]
  },
  {
   "cell_type": "code",
   "execution_count": 23,
   "id": "233296b4-f030-44f0-8e4d-66445852cad5",
   "metadata": {},
   "outputs": [
    {
     "data": {
      "text/plain": [
       "True"
      ]
     },
     "execution_count": 23,
     "metadata": {},
     "output_type": "execute_result"
    }
   ],
   "source": [
    "x"
   ]
  },
  {
   "cell_type": "code",
   "execution_count": 24,
   "id": "7c813e7c-141a-4282-87e3-bed5910f6059",
   "metadata": {},
   "outputs": [
    {
     "data": {
      "text/plain": [
       "'pw skills'"
      ]
     },
     "execution_count": 24,
     "metadata": {},
     "output_type": "execute_result"
    }
   ],
   "source": [
    "y"
   ]
  },
  {
   "cell_type": "code",
   "execution_count": 25,
   "id": "23921fae-a3ff-4ac2-bcf6-77002714908c",
   "metadata": {},
   "outputs": [
    {
     "data": {
      "text/plain": [
       "4.5"
      ]
     },
     "execution_count": 25,
     "metadata": {},
     "output_type": "execute_result"
    }
   ],
   "source": [
    "z"
   ]
  },
  {
   "cell_type": "code",
   "execution_count": 26,
   "id": "7ea13e3b-9ad0-4f6f-bdaa-6c457ec99fbe",
   "metadata": {},
   "outputs": [],
   "source": [
    "def test4():\n",
    "    a = 3*4+5\n",
    "    return a\n",
    "    "
   ]
  },
  {
   "cell_type": "code",
   "execution_count": 27,
   "id": "206aba88-b43f-421f-9acc-e3c571ab15ef",
   "metadata": {},
   "outputs": [
    {
     "data": {
      "text/plain": [
       "17"
      ]
     },
     "execution_count": 27,
     "metadata": {},
     "output_type": "execute_result"
    }
   ],
   "source": [
    "test4()\n"
   ]
  },
  {
   "cell_type": "code",
   "execution_count": 28,
   "id": "c52cd93a-c9a5-4c25-9551-7d94284f9620",
   "metadata": {},
   "outputs": [
    {
     "data": {
      "text/plain": [
       "int"
      ]
     },
     "execution_count": 28,
     "metadata": {},
     "output_type": "execute_result"
    }
   ],
   "source": [
    "type(test4())"
   ]
  },
  {
   "cell_type": "code",
   "execution_count": 30,
   "id": "599e2c5d-b9ca-4f18-82f3-df3531795d99",
   "metadata": {},
   "outputs": [],
   "source": [
    "def test5(a,b):\n",
    "    c = a+b\n",
    "    return c"
   ]
  },
  {
   "cell_type": "code",
   "execution_count": 31,
   "id": "f88a4c14-131c-429e-91e2-26d9713dfd5b",
   "metadata": {},
   "outputs": [
    {
     "data": {
      "text/plain": [
       "9"
      ]
     },
     "execution_count": 31,
     "metadata": {},
     "output_type": "execute_result"
    }
   ],
   "source": [
    "test5(4,5)"
   ]
  },
  {
   "cell_type": "code",
   "execution_count": 33,
   "id": "6e6ae39f-d65e-45b4-9fb0-a2862ba46b46",
   "metadata": {},
   "outputs": [
    {
     "data": {
      "text/plain": [
       "'Nikith Pinni'"
      ]
     },
     "execution_count": 33,
     "metadata": {},
     "output_type": "execute_result"
    }
   ],
   "source": [
    "test5(\"Nikith\",\" Pinni\")"
   ]
  },
  {
   "cell_type": "code",
   "execution_count": 34,
   "id": "a8e17aa0-bed6-4361-8753-ee260f4964a9",
   "metadata": {},
   "outputs": [
    {
     "data": {
      "text/plain": [
       "1.6"
      ]
     },
     "execution_count": 34,
     "metadata": {},
     "output_type": "execute_result"
    }
   ],
   "source": [
    "test5(1.3,0.3)"
   ]
  },
  {
   "cell_type": "code",
   "execution_count": 35,
   "id": "35eb8337-2e0d-42f0-8bd7-8352e11c4c2b",
   "metadata": {},
   "outputs": [
    {
     "data": {
      "text/plain": [
       "[1, 2, 3, 4, 5, 6, 7, 8]"
      ]
     },
     "execution_count": 35,
     "metadata": {},
     "output_type": "execute_result"
    }
   ],
   "source": [
    "test5([1,2,3,4],[5,6,7,8])"
   ]
  },
  {
   "cell_type": "code",
   "execution_count": 36,
   "id": "f71d1043-cc27-49e3-be2f-834cd7f352a0",
   "metadata": {},
   "outputs": [
    {
     "data": {
      "text/plain": [
       "'Pinni Nikith'"
      ]
     },
     "execution_count": 36,
     "metadata": {},
     "output_type": "execute_result"
    }
   ],
   "source": [
    "test5(b = \" Nikith\",a = \"Pinni\")\n",
    "#passing reverse arguments as shown"
   ]
  },
  {
   "cell_type": "code",
   "execution_count": 46,
   "id": "1ff9ca83-c511-4b73-82cc-50b09dcae714",
   "metadata": {},
   "outputs": [],
   "source": [
    "l = [1,2,3,4,\"pwskills\",\"nik\",[5,7,8],100,10.256]"
   ]
  },
  {
   "cell_type": "code",
   "execution_count": null,
   "id": "cbec892d-873b-4484-ab7b-7174554ede91",
   "metadata": {},
   "outputs": [],
   "source": [
    "#write a function which will take list as input and give me final list with all numeric values"
   ]
  },
  {
   "cell_type": "code",
   "execution_count": 48,
   "id": "15090d2b-9c9f-4380-b9b0-6a4945c228af",
   "metadata": {},
   "outputs": [],
   "source": [
    "def filter_list(l):\n",
    "    temp_lst = []\n",
    "    for i in l:\n",
    "        if type(i) == int or type(i) == float:\n",
    "            temp_lst.append(i)\n",
    "    return temp_lst\n",
    "            "
   ]
  },
  {
   "cell_type": "code",
   "execution_count": 49,
   "id": "60dd4741-0481-4ad6-aa86-19e5d68cf31c",
   "metadata": {},
   "outputs": [
    {
     "data": {
      "text/plain": [
       "[1, 2, 3, 4, 100, 10.256]"
      ]
     },
     "execution_count": 49,
     "metadata": {},
     "output_type": "execute_result"
    }
   ],
   "source": [
    "filter_list(l)"
   ]
  },
  {
   "cell_type": "code",
   "execution_count": null,
   "id": "b02d39f8-32d1-4a21-ad8a-614a905aa8ae",
   "metadata": {},
   "outputs": [],
   "source": [
    "#Now extract number even in the inner list"
   ]
  },
  {
   "cell_type": "code",
   "execution_count": 52,
   "id": "bc7fdb61-38ba-4890-99bc-7994f9eb5bda",
   "metadata": {},
   "outputs": [],
   "source": [
    "def filter_list_deep(l):\n",
    "    temp_lst = []\n",
    "    for i in l:\n",
    "        if type(i) == int or type(i) == float:\n",
    "            temp_lst.append(i)\n",
    "        if type(i) == list:\n",
    "            for j in i:\n",
    "                if type(j) == int or type(j) == float:\n",
    "                    temp_lst.append(j)\n",
    "    return temp_lst\n",
    "            "
   ]
  },
  {
   "cell_type": "code",
   "execution_count": 53,
   "id": "5ac8ba9c-2da5-4cb4-bdda-eaa9a0449fbb",
   "metadata": {},
   "outputs": [
    {
     "data": {
      "text/plain": [
       "[1, 2, 3, 4, 5, 7, 8, 100, 10.256]"
      ]
     },
     "execution_count": 53,
     "metadata": {},
     "output_type": "execute_result"
    }
   ],
   "source": [
    "filter_list_deep(l)"
   ]
  },
  {
   "cell_type": "code",
   "execution_count": 56,
   "id": "4a806012-12b3-479c-89e9-dcbe7f1277e9",
   "metadata": {},
   "outputs": [],
   "source": [
    "def test(a,b,c,d,e):\n",
    "    pass"
   ]
  },
  {
   "cell_type": "code",
   "execution_count": 58,
   "id": "dc0e24c2-2659-438a-bd2d-b8c2a392e0c0",
   "metadata": {},
   "outputs": [],
   "source": [
    "test(1,2,3,4,5) #raises no error"
   ]
  },
  {
   "cell_type": "code",
   "execution_count": 59,
   "id": "5e01a4fb-b160-4c41-aa0a-dbd19295251b",
   "metadata": {},
   "outputs": [
    {
     "ename": "TypeError",
     "evalue": "test() takes 5 positional arguments but 7 were given",
     "output_type": "error",
     "traceback": [
      "\u001b[0;31m---------------------------------------------------------------------------\u001b[0m",
      "\u001b[0;31mTypeError\u001b[0m                                 Traceback (most recent call last)",
      "Cell \u001b[0;32mIn[59], line 1\u001b[0m\n\u001b[0;32m----> 1\u001b[0m \u001b[43mtest\u001b[49m\u001b[43m(\u001b[49m\u001b[38;5;241;43m1\u001b[39;49m\u001b[43m,\u001b[49m\u001b[38;5;241;43m2\u001b[39;49m\u001b[43m,\u001b[49m\u001b[38;5;241;43m3\u001b[39;49m\u001b[43m,\u001b[49m\u001b[38;5;241;43m4\u001b[39;49m\u001b[43m,\u001b[49m\u001b[38;5;241;43m5\u001b[39;49m\u001b[43m,\u001b[49m\u001b[38;5;241;43m6\u001b[39;49m\u001b[43m,\u001b[49m\u001b[38;5;241;43m7\u001b[39;49m\u001b[43m)\u001b[49m\n",
      "\u001b[0;31mTypeError\u001b[0m: test() takes 5 positional arguments but 7 were given"
     ]
    }
   ],
   "source": [
    "test(1,2,3,4,5,6,7) #passed excees arguments"
   ]
  },
  {
   "cell_type": "code",
   "execution_count": 61,
   "id": "04d9ce59-ffc4-438c-b989-44586e147177",
   "metadata": {},
   "outputs": [],
   "source": [
    "def test1(*args):\n",
    "    return args\n",
    "#*args means static args,that is this function can take any no.of arguments\n",
    "#args isnot the keyword,only * is important"
   ]
  },
  {
   "cell_type": "code",
   "execution_count": 62,
   "id": "141aa1cf-ea36-43c2-837a-02176d6c172e",
   "metadata": {},
   "outputs": [
    {
     "data": {
      "text/plain": [
       "(1, 2)"
      ]
     },
     "execution_count": 62,
     "metadata": {},
     "output_type": "execute_result"
    }
   ],
   "source": [
    "test1(1,2)"
   ]
  },
  {
   "cell_type": "code",
   "execution_count": 63,
   "id": "2f43dd47-14ca-418f-bcc2-241cafbad4e9",
   "metadata": {},
   "outputs": [
    {
     "data": {
      "text/plain": [
       "('Niki', 'pinni', 5, 5.5, True, [5, 6, 7])"
      ]
     },
     "execution_count": 63,
     "metadata": {},
     "output_type": "execute_result"
    }
   ],
   "source": [
    "test1(\"Niki\",\"pinni\",5,5.5,True,[5,6,7]) #return type is tuple"
   ]
  },
  {
   "cell_type": "code",
   "execution_count": 64,
   "id": "33c16a79-13c2-4d87-8303-7dba180be898",
   "metadata": {},
   "outputs": [],
   "source": [
    "def test2(*args,b):\n",
    "    return args,b\n",
    "    "
   ]
  },
  {
   "cell_type": "code",
   "execution_count": 65,
   "id": "3c76c4e4-d6d1-40a3-a072-dea4c9ca180c",
   "metadata": {},
   "outputs": [
    {
     "ename": "TypeError",
     "evalue": "test2() missing 1 required keyword-only argument: 'b'",
     "output_type": "error",
     "traceback": [
      "\u001b[0;31m---------------------------------------------------------------------------\u001b[0m",
      "\u001b[0;31mTypeError\u001b[0m                                 Traceback (most recent call last)",
      "Cell \u001b[0;32mIn[65], line 1\u001b[0m\n\u001b[0;32m----> 1\u001b[0m \u001b[43mtest2\u001b[49m\u001b[43m(\u001b[49m\u001b[38;5;241;43m1\u001b[39;49m\u001b[43m,\u001b[49m\u001b[38;5;241;43m2\u001b[39;49m\u001b[43m,\u001b[49m\u001b[38;5;241;43m3\u001b[39;49m\u001b[43m)\u001b[49m\n",
      "\u001b[0;31mTypeError\u001b[0m: test2() missing 1 required keyword-only argument: 'b'"
     ]
    }
   ],
   "source": [
    "test2(1,2,3)"
   ]
  },
  {
   "cell_type": "code",
   "execution_count": 67,
   "id": "500ec797-203c-448a-a89d-ce7ac9364867",
   "metadata": {},
   "outputs": [
    {
     "data": {
      "text/plain": [
       "((1, 2, 3), 'nik')"
      ]
     },
     "execution_count": 67,
     "metadata": {},
     "output_type": "execute_result"
    }
   ],
   "source": [
    "test2(1,2,3,b=\"nik\") #the args return type will be tuple as shown"
   ]
  },
  {
   "cell_type": "code",
   "execution_count": 68,
   "id": "276420cb-fce1-4aef-9354-7695d56e2cf2",
   "metadata": {},
   "outputs": [],
   "source": [
    "def test3(*args):\n",
    "    l = []\n",
    "    for i in args:\n",
    "        if type(i) == list:\n",
    "            l.append(i)\n",
    "    return l\n",
    "    "
   ]
  },
  {
   "cell_type": "code",
   "execution_count": 70,
   "id": "a1c6e07e-e05b-40a1-ad96-6f801148e63c",
   "metadata": {},
   "outputs": [
    {
     "data": {
      "text/plain": [
       "[[6, 7, 8, 9], [10, 11, 12, 13]]"
      ]
     },
     "execution_count": 70,
     "metadata": {},
     "output_type": "execute_result"
    }
   ],
   "source": [
    "test3(1,2,3,5.5,[6,7,8,9],(11,22,33,44),\"Nik\",[10,11,12,13])"
   ]
  },
  {
   "cell_type": "code",
   "execution_count": null,
   "id": "9fcf8642-a835-4694-8b89-086218839f46",
   "metadata": {},
   "outputs": [],
   "source": [
    "#if you need output of a function as dict[key:value] pair then use double static --->**kwargs"
   ]
  },
  {
   "cell_type": "code",
   "execution_count": 72,
   "id": "aa4aec24-2e90-438d-b1e3-19a9694a7225",
   "metadata": {},
   "outputs": [],
   "source": [
    "def test4(**kwargs):\n",
    "    return kwargs\n",
    "#here,kwargs is dictionary--->****************imp******************"
   ]
  },
  {
   "cell_type": "code",
   "execution_count": 73,
   "id": "70b3fd83-cb23-4f3e-a7c4-2601fd4a0dcd",
   "metadata": {},
   "outputs": [
    {
     "data": {
      "text/plain": [
       "{'a': 5,\n",
       " 'b': 6,\n",
       " 'c': False,\n",
       " 'd': [11, 12, 13, 14],\n",
       " 'e': (45, 45, 45),\n",
       " 'f': 'Pinni Nikith'}"
      ]
     },
     "execution_count": 73,
     "metadata": {},
     "output_type": "execute_result"
    }
   ],
   "source": [
    "test4(a=5,b=6,c=False,d=[11,12,13,14],e=(45,45,45),f=\"Pinni Nikith\")"
   ]
  },
  {
   "cell_type": "code",
   "execution_count": 74,
   "id": "9d01fae3-b0ea-46f0-8503-7f161e008081",
   "metadata": {},
   "outputs": [
    {
     "data": {
      "text/plain": [
       "dict"
      ]
     },
     "execution_count": 74,
     "metadata": {},
     "output_type": "execute_result"
    }
   ],
   "source": [
    "type(test4())"
   ]
  },
  {
   "cell_type": "code",
   "execution_count": 77,
   "id": "baed33c3-269e-48f9-83c1-b6d71868ac99",
   "metadata": {},
   "outputs": [
    {
     "data": {
      "text/plain": [
       "'Pinni Nikith'"
      ]
     },
     "execution_count": 77,
     "metadata": {},
     "output_type": "execute_result"
    }
   ],
   "source": [
    "test4(a=5,b=6,c=False,d=[11,12,13,14],e=(45,45,45),f=\"Pinni Nikith\")[\"f\"] #extracting value from dictionary"
   ]
  },
  {
   "cell_type": "code",
   "execution_count": 79,
   "id": "5951eb64-a65a-40d0-ac39-36128ca3577f",
   "metadata": {},
   "outputs": [],
   "source": [
    "def test5(**kwargs):\n",
    "    for i in kwargs.keys():\n",
    "        if type(kwargs[i]) == list:\n",
    "            return i,kwargs[i]\n",
    "    "
   ]
  },
  {
   "cell_type": "code",
   "execution_count": 80,
   "id": "12c67b45-3009-4ee8-b7a5-3f784b2110e8",
   "metadata": {},
   "outputs": [
    {
     "data": {
      "text/plain": [
       "('d', [11, 12, 13, 14])"
      ]
     },
     "execution_count": 80,
     "metadata": {},
     "output_type": "execute_result"
    }
   ],
   "source": [
    "test5(a=5,b=6,c=False,d=[11,12,13,14],e=(45,45,45),f=\"Pinni Nikith\")"
   ]
  },
  {
   "cell_type": "code",
   "execution_count": 81,
   "id": "4abd51dc-61ba-4cd7-8968-6e5aca3e107b",
   "metadata": {},
   "outputs": [],
   "source": [
    "def test6(**kwargs):\n",
    "    for i in kwargs.values():\n",
    "        if type(i) == list:\n",
    "            return i\n",
    "#above pgm in another way"
   ]
  },
  {
   "cell_type": "code",
   "execution_count": 82,
   "id": "e47921bc-f175-425e-bb1a-87f5913f0945",
   "metadata": {},
   "outputs": [
    {
     "data": {
      "text/plain": [
       "[11, 12, 13, 14]"
      ]
     },
     "execution_count": 82,
     "metadata": {},
     "output_type": "execute_result"
    }
   ],
   "source": [
    "test6(a=5,b=6,c=False,d=[11,12,13,14],e=(45,45,45),f=\"Pinni Nikith\")"
   ]
  },
  {
   "cell_type": "code",
   "execution_count": null,
   "id": "87057b49-7cbf-4411-90c0-73836df60065",
   "metadata": {},
   "outputs": [],
   "source": [
    "#So to pass the dict as argument for a function,use **kwargs as shown\n",
    "# **kwargs is for key value pair argument \n",
    "#*args returns in the form of tuples and **kwargs returns in the form of dict "
   ]
  },
  {
   "cell_type": "code",
   "execution_count": 83,
   "id": "e4831d6c-1ef6-4f0b-8b50-8dca01e61b27",
   "metadata": {},
   "outputs": [],
   "source": [
    "def test7(*args,**kwargs):\n",
    "    return args,kwargs\n",
    "    "
   ]
  },
  {
   "cell_type": "code",
   "execution_count": 85,
   "id": "f006f993-64c8-4520-b6dc-3920697705a0",
   "metadata": {},
   "outputs": [
    {
     "data": {
      "text/plain": [
       "((1, 2.5, 6, 'Nikith Pinni'), {'a': 1, 'b': 5, 'c': 'Pinni Nikith'})"
      ]
     },
     "execution_count": 85,
     "metadata": {},
     "output_type": "execute_result"
    }
   ],
   "source": [
    "test7(1,2.5,6,\"Nikith Pinni\",a=1,b=5,c=\"Pinni Nikith\")"
   ]
  },
  {
   "cell_type": "code",
   "execution_count": null,
   "id": "ec4e20df-4d1b-4cb8-9f54-e38878ba9887",
   "metadata": {},
   "outputs": [],
   "source": [
    "# above output format\n",
    "# (tuple,dict)"
   ]
  },
  {
   "cell_type": "markdown",
   "id": "5688f0a2-8473-42c4-b73a-856f92009b28",
   "metadata": {},
   "source": [
    "#Generator functions"
   ]
  },
  {
   "cell_type": "code",
   "execution_count": null,
   "id": "c28c79d2-d963-4c03-a317-c2f6f0f16e75",
   "metadata": {},
   "outputs": [],
   "source": [
    "# range() is a generatoe function"
   ]
  },
  {
   "cell_type": "code",
   "execution_count": 87,
   "id": "77ef96f8-d37b-4b61-8b0c-fd4f1f3503e0",
   "metadata": {},
   "outputs": [
    {
     "data": {
      "text/plain": [
       "range(1, 11)"
      ]
     },
     "execution_count": 87,
     "metadata": {},
     "output_type": "execute_result"
    }
   ],
   "source": [
    "range(1,11,1) #see the output,but we can iterate through generator functions for extracting the output"
   ]
  },
  {
   "cell_type": "code",
   "execution_count": 89,
   "id": "8f919fb0-b4e9-4aa2-b80d-b0551d07cf94",
   "metadata": {},
   "outputs": [
    {
     "name": "stdout",
     "output_type": "stream",
     "text": [
      "1\t2\t3\t4\t5\t6\t7\t8\t9\t10\t"
     ]
    }
   ],
   "source": [
    "for i in range(1,11,1):\n",
    "    print(i,end=\"\\t\")"
   ]
  },
  {
   "cell_type": "code",
   "execution_count": 90,
   "id": "1540442e-f371-470b-b251-167d1ca1fedf",
   "metadata": {},
   "outputs": [
    {
     "data": {
      "text/plain": [
       "(1, 2, 3, 4, 5, 6, 7, 8, 9, 10)"
      ]
     },
     "execution_count": 90,
     "metadata": {},
     "output_type": "execute_result"
    }
   ],
   "source": [
    "tuple(range(1,11,1)) #Another way of extracting data from generator function"
   ]
  },
  {
   "cell_type": "code",
   "execution_count": null,
   "id": "3b7c2cac-a635-4178-a894-bac84f1d5b67",
   "metadata": {},
   "outputs": [],
   "source": [
    "#Fibnocci\n",
    "0,1,1,2,3,5..."
   ]
  },
  {
   "cell_type": "code",
   "execution_count": 1,
   "id": "77e6017d-b2ad-4f94-9687-72d0a384517c",
   "metadata": {},
   "outputs": [],
   "source": [
    "\"\"\"create a fibonacci series generator function,we use yield \n",
    "keyword for the creation of generator function \"\"\""
   ]
  },
  {
   "cell_type": "code",
   "execution_count": 13,
   "id": "8d857254-2596-45c4-a285-1a784fd4ce67",
   "metadata": {},
   "outputs": [],
   "source": [
    "def fibgenerator(n):\n",
    "    a,b=0,1\n",
    "    for i in range(0,n):\n",
    "        yield a\n",
    "        a,b=b,a+b"
   ]
  },
  {
   "cell_type": "code",
   "execution_count": 14,
   "id": "9a3800a9-a2f8-4c85-b346-79f051213bc3",
   "metadata": {},
   "outputs": [
    {
     "name": "stdout",
     "output_type": "stream",
     "text": [
      "0\t1\t1\t2\t3\t5\t8\t13\t21\t34\t"
     ]
    }
   ],
   "source": [
    "for i in fibgenerator(10):\n",
    "    print(i,end=\"\\t\")"
   ]
  },
  {
   "cell_type": "code",
   "execution_count": 16,
   "id": "5e62ea8c-ff04-42a2-8a62-31b1c33ef880",
   "metadata": {},
   "outputs": [
    {
     "name": "stdout",
     "output_type": "stream",
     "text": [
      "3\n",
      "6\n"
     ]
    }
   ],
   "source": [
    "#Difference between two types of assignment is shown in below two code snippets\n",
    "a,b = 2,3\n",
    "a=b\n",
    "b=a+b\n",
    "print(a)\n",
    "print(b)"
   ]
  },
  {
   "cell_type": "code",
   "execution_count": 17,
   "id": "287f7010-8ca6-468b-ad41-53ef37af68f0",
   "metadata": {},
   "outputs": [
    {
     "name": "stdout",
     "output_type": "stream",
     "text": [
      "3\n",
      "5\n"
     ]
    }
   ],
   "source": [
    "a,b=2,3\n",
    "a,b=b,a+b\n",
    "print(a)\n",
    "print(b)\n"
   ]
  },
  {
   "cell_type": "code",
   "execution_count": null,
   "id": "51dc6a29-4498-4bb1-9e8c-8228673fc1b2",
   "metadata": {},
   "outputs": [],
   "source": []
  },
  {
   "cell_type": "code",
   "execution_count": null,
   "id": "ca9ff7a3-f09f-424b-9731-412ac222b251",
   "metadata": {},
   "outputs": [],
   "source": []
  },
  {
   "cell_type": "code",
   "execution_count": null,
   "id": "96554cc0-908a-4969-90ed-cc71f0572558",
   "metadata": {},
   "outputs": [],
   "source": []
  },
  {
   "cell_type": "code",
   "execution_count": null,
   "id": "edafdc7a-a83c-4f7d-8b61-3154a11edecc",
   "metadata": {},
   "outputs": [],
   "source": []
  },
  {
   "cell_type": "code",
   "execution_count": null,
   "id": "960e05b5-f60d-4fa3-ae83-8323deacd6b4",
   "metadata": {},
   "outputs": [],
   "source": []
  },
  {
   "cell_type": "code",
   "execution_count": null,
   "id": "47ade76e-0c79-45ba-8bd7-993933a0f7e8",
   "metadata": {},
   "outputs": [],
   "source": []
  },
  {
   "cell_type": "code",
   "execution_count": null,
   "id": "1927d75b-c1f6-414a-97fd-03567b7ebb2e",
   "metadata": {},
   "outputs": [],
   "source": []
  },
  {
   "cell_type": "code",
   "execution_count": null,
   "id": "bdba98cd-11cd-451b-84c1-68ccb5867825",
   "metadata": {},
   "outputs": [],
   "source": []
  },
  {
   "cell_type": "markdown",
   "id": "2506d542-8c96-4052-b06c-bca053e91ed9",
   "metadata": {},
   "source": []
  }
 ],
 "metadata": {
  "kernelspec": {
   "display_name": "Python 3 (ipykernel)",
   "language": "python",
   "name": "python3"
  },
  "language_info": {
   "codemirror_mode": {
    "name": "ipython",
    "version": 3
   },
   "file_extension": ".py",
   "mimetype": "text/x-python",
   "name": "python",
   "nbconvert_exporter": "python",
   "pygments_lexer": "ipython3",
   "version": "3.10.8"
  }
 },
 "nbformat": 4,
 "nbformat_minor": 5
}
