{
 "cells": [
  {
   "cell_type": "code",
   "execution_count": 168,
   "id": "35080380-d759-48fb-a374-0d1756b8c63c",
   "metadata": {},
   "outputs": [
    {
     "data": {
      "text/plain": [
       "'Data science masters'"
      ]
     },
     "execution_count": 168,
     "metadata": {},
     "output_type": "execute_result"
    }
   ],
   "source": [
    "name = \"data Science Masters\"\n",
    "name.capitalize()\n",
    "#Only capitalizes first character of first word in a sentence"
   ]
  },
  {
   "cell_type": "code",
   "execution_count": null,
   "id": "b8d8dd46-b896-4138-acfc-69089b7813dc",
   "metadata": {},
   "outputs": [],
   "source": [
    "#reversing a string"
   ]
  },
  {
   "cell_type": "code",
   "execution_count": 169,
   "id": "1999cebd-3b15-4b7e-8d59-7d582e7234aa",
   "metadata": {},
   "outputs": [
    {
     "data": {
      "text/plain": [
       "'sretsaM ecneicS atad'"
      ]
     },
     "execution_count": 169,
     "metadata": {},
     "output_type": "execute_result"
    }
   ],
   "source": [
    "name[::-1] #Using slicing operation"
   ]
  },
  {
   "cell_type": "code",
   "execution_count": 170,
   "id": "df334cd8-6318-42fa-ba83-db9e6a7f9fb4",
   "metadata": {},
   "outputs": [
    {
     "data": {
      "text/plain": [
       "<reversed at 0x7f52d064c100>"
      ]
     },
     "execution_count": 170,
     "metadata": {},
     "output_type": "execute_result"
    }
   ],
   "source": [
    "#using inbuilt function\n",
    "reversed(name) #--->returns the memory address location"
   ]
  },
  {
   "cell_type": "code",
   "execution_count": null,
   "id": "9c9db832-3343-4348-bba8-7ada6940f7b7",
   "metadata": {},
   "outputs": [],
   "source": [
    "#Knowing join() functionality"
   ]
  },
  {
   "cell_type": "code",
   "execution_count": 171,
   "id": "965962f5-5238-467a-9304-f6efd2b2f5b2",
   "metadata": {},
   "outputs": [
    {
     "data": {
      "text/plain": [
       "'a b c d'"
      ]
     },
     "execution_count": 171,
     "metadata": {},
     "output_type": "execute_result"
    }
   ],
   "source": [
    "\" \".join(\"abcd\")"
   ]
  },
  {
   "cell_type": "code",
   "execution_count": 172,
   "id": "1192592e-ddb1-4f5c-a7be-13b2eb0a828b",
   "metadata": {},
   "outputs": [
    {
     "data": {
      "text/plain": [
       "'a b'"
      ]
     },
     "execution_count": 172,
     "metadata": {},
     "output_type": "execute_result"
    }
   ],
   "source": [
    "\" \".join(\"ab\")"
   ]
  },
  {
   "cell_type": "code",
   "execution_count": 173,
   "id": "4fd14c8b-b917-4884-acee-47a44c3eeb0d",
   "metadata": {},
   "outputs": [
    {
     "data": {
      "text/plain": [
       "'xabcyabcz'"
      ]
     },
     "execution_count": 173,
     "metadata": {},
     "output_type": "execute_result"
    }
   ],
   "source": [
    "\"abc\".join(\"xyz\")"
   ]
  },
  {
   "cell_type": "code",
   "execution_count": 174,
   "id": "c7a178f9-4e12-4cc7-b155-13b877f5524c",
   "metadata": {},
   "outputs": [
    {
     "data": {
      "text/plain": [
       "'s r e t s a M   e c n e i c S   a t a d'"
      ]
     },
     "execution_count": 174,
     "metadata": {},
     "output_type": "execute_result"
    }
   ],
   "source": [
    "\" \".join(reversed(name)) #Reversing string using inbuilt functions"
   ]
  },
  {
   "cell_type": "code",
   "execution_count": 175,
   "id": "8843bcb6-d39c-43a4-8a9f-2c9c04343b73",
   "metadata": {},
   "outputs": [
    {
     "data": {
      "text/plain": [
       "'a n t'"
      ]
     },
     "execution_count": 175,
     "metadata": {},
     "output_type": "execute_result"
    }
   ],
   "source": [
    "\" \".join(\"ant\") #Normal order"
   ]
  },
  {
   "cell_type": "code",
   "execution_count": 176,
   "id": "a4d629fa-d11d-42b1-96e2-66f04f4022de",
   "metadata": {},
   "outputs": [
    {
     "data": {
      "text/plain": [
       "'t n a'"
      ]
     },
     "execution_count": 176,
     "metadata": {},
     "output_type": "execute_result"
    }
   ],
   "source": [
    "\" \".join(reversed(\"ant\")) #reversed order"
   ]
  },
  {
   "cell_type": "code",
   "execution_count": 177,
   "id": "468c6519-4c3b-4d62-a4f8-48910b9dc023",
   "metadata": {},
   "outputs": [
    {
     "data": {
      "text/plain": [
       "'tna'"
      ]
     },
     "execution_count": 177,
     "metadata": {},
     "output_type": "execute_result"
    }
   ],
   "source": [
    "\"\".join(reversed(\"ant\")) #reversed order without space"
   ]
  },
  {
   "cell_type": "code",
   "execution_count": 178,
   "id": "9d22dbf3-9f9f-46c3-8e7b-fee0ad2750ac",
   "metadata": {},
   "outputs": [
    {
     "data": {
      "text/plain": [
       "'tPWSKILLS nPWSKILLS a'"
      ]
     },
     "execution_count": 178,
     "metadata": {},
     "output_type": "execute_result"
    }
   ],
   "source": [
    "\"PWSKILLS \".join(reversed(\"ant\"))"
   ]
  },
  {
   "cell_type": "code",
   "execution_count": null,
   "id": "55cb4f04-13b6-4f5b-a0bd-d2fa2ac69427",
   "metadata": {},
   "outputs": [],
   "source": [
    "#with the help of type casting "
   ]
  },
  {
   "cell_type": "code",
   "execution_count": 179,
   "id": "e06bb6b8-e73f-45db-abf4-4212a2a4a834",
   "metadata": {},
   "outputs": [
    {
     "data": {
      "text/plain": [
       "<reversed at 0x7f52d04693c0>"
      ]
     },
     "execution_count": 179,
     "metadata": {},
     "output_type": "execute_result"
    }
   ],
   "source": [
    "reversed(\"ant\") #gives address of the object"
   ]
  },
  {
   "cell_type": "code",
   "execution_count": null,
   "id": "5a0d0c0a-cf2a-4e16-8f7d-e5cf913a39f9",
   "metadata": {},
   "outputs": [],
   "source": []
  },
  {
   "cell_type": "code",
   "execution_count": 180,
   "id": "015e19a0-af0c-4bca-bce7-35e7f97f13c3",
   "metadata": {},
   "outputs": [
    {
     "data": {
      "text/plain": [
       "['t', 'n', 'a']"
      ]
     },
     "execution_count": 180,
     "metadata": {},
     "output_type": "execute_result"
    }
   ],
   "source": [
    "list(reversed(\"ant\")) #list typecasting"
   ]
  },
  {
   "cell_type": "code",
   "execution_count": 181,
   "id": "413ac79d-04d6-48f1-ae62-5ddbd210a760",
   "metadata": {},
   "outputs": [
    {
     "data": {
      "text/plain": [
       "'<reversed object at 0x7f52d0439900>'"
      ]
     },
     "execution_count": 181,
     "metadata": {},
     "output_type": "execute_result"
    }
   ],
   "source": [
    "str(reversed(\"ant\")) #string typecasting-->not working"
   ]
  },
  {
   "cell_type": "code",
   "execution_count": null,
   "id": "027748fd-2ee2-4441-af7c-7835f21b7482",
   "metadata": {},
   "outputs": [],
   "source": [
    "#real time application of join function"
   ]
  },
  {
   "cell_type": "code",
   "execution_count": 182,
   "id": "6acf9e37-7d1d-44a3-9eec-b314f6f72d55",
   "metadata": {},
   "outputs": [
    {
     "data": {
      "text/plain": [
       "'s'"
      ]
     },
     "execution_count": 182,
     "metadata": {},
     "output_type": "execute_result"
    }
   ],
   "source": [
    "\"math\".join(\"s\")   #--> important output,watch and analyze the output"
   ]
  },
  {
   "cell_type": "code",
   "execution_count": null,
   "id": "9d8b7d9e-2426-43b5-91c4-a21759eee99e",
   "metadata": {},
   "outputs": [],
   "source": [
    "#another way for reversing a name"
   ]
  },
  {
   "cell_type": "code",
   "execution_count": 183,
   "id": "8ccbbbce-22db-4c47-9383-13aa80e83f4e",
   "metadata": {},
   "outputs": [
    {
     "name": "stdout",
     "output_type": "stream",
     "text": [
      "i n n i P   h t i k i N "
     ]
    }
   ],
   "source": [
    "for i in list(reversed(\"Nikith Pinni\")):\n",
    "    print(i,end = \" \")"
   ]
  },
  {
   "cell_type": "code",
   "execution_count": null,
   "id": "d7d2d263-04ae-4d3c-9521-9c1a06e8a350",
   "metadata": {},
   "outputs": [],
   "source": [
    "#Removing character from a string"
   ]
  },
  {
   "cell_type": "code",
   "execution_count": null,
   "id": "81f99e4c-1a4c-4651-b5c9-a423cb74597d",
   "metadata": {},
   "outputs": [],
   "source": []
  },
  {
   "cell_type": "code",
   "execution_count": 184,
   "id": "8b923ae8-c3fc-4946-83bb-4c4bef78aea0",
   "metadata": {},
   "outputs": [
    {
     "data": {
      "text/plain": [
       "'pw skills'"
      ]
     },
     "execution_count": 184,
     "metadata": {},
     "output_type": "execute_result"
    }
   ],
   "source": [
    "string_a = \" pw skills \" #wanted to remove ending and beginning whitespaces\n",
    "string_a.strip(\" \") # \" \" is necessary argument of strip(\" \") function"
   ]
  },
  {
   "cell_type": "code",
   "execution_count": null,
   "id": "79a3128c-9788-4530-86cc-bca0faffac31",
   "metadata": {},
   "outputs": [],
   "source": [
    "# lstrip(\" \") and rstrip(\" \") removes left and right whitespaces respectively"
   ]
  },
  {
   "cell_type": "code",
   "execution_count": 185,
   "id": "60e2cd43-722e-45b9-bb16-e72e2d4b6ae6",
   "metadata": {},
   "outputs": [
    {
     "data": {
      "text/plain": [
       "'pw skills '"
      ]
     },
     "execution_count": 185,
     "metadata": {},
     "output_type": "execute_result"
    }
   ],
   "source": [
    "string_a.lstrip(\" \")"
   ]
  },
  {
   "cell_type": "code",
   "execution_count": 186,
   "id": "bfdaf376-19bb-4a3a-907a-003597fe12b2",
   "metadata": {},
   "outputs": [
    {
     "data": {
      "text/plain": [
       "' pw skills'"
      ]
     },
     "execution_count": 186,
     "metadata": {},
     "output_type": "execute_result"
    }
   ],
   "source": [
    "string_a.rstrip(\" \")"
   ]
  },
  {
   "cell_type": "code",
   "execution_count": null,
   "id": "8d71ab5c-a8ae-414d-82d6-18b4efab8035",
   "metadata": {},
   "outputs": [],
   "source": [
    "\"\"\"yes,string is immutable i.e; the characters cant be changed(assigned) individually but the words can be changed \n",
    "in the string sentence as shown below\"\"\""
   ]
  },
  {
   "cell_type": "code",
   "execution_count": null,
   "id": "3f31735b-be57-4bcf-8d80-f161561ca3b8",
   "metadata": {},
   "outputs": [],
   "source": [
    "#replacing using inbuilt functions"
   ]
  },
  {
   "cell_type": "code",
   "execution_count": 187,
   "id": "9efd3e05-f60b-4d8d-b786-c33ffe34947d",
   "metadata": {},
   "outputs": [
    {
     "data": {
      "text/plain": [
       "'Greetings from Pwskills'"
      ]
     },
     "execution_count": 187,
     "metadata": {},
     "output_type": "execute_result"
    }
   ],
   "source": [
    "temp = \"Greetings to Pwskills\"\n",
    "temp.replace(\"to\",\"from\")\n",
    "#replace(\"string to be replaced\",\"string to be substituted\")"
   ]
  },
  {
   "cell_type": "code",
   "execution_count": 188,
   "id": "6bd7b3c8-aef8-4d97-b361-d6743167112f",
   "metadata": {},
   "outputs": [
    {
     "data": {
      "text/plain": [
       "'Nakath'"
      ]
     },
     "execution_count": 188,
     "metadata": {},
     "output_type": "execute_result"
    }
   ],
   "source": [
    "\"Nikith\".replace(\"i\",\"a\") #This works because it is returning a new copy of the string"
   ]
  },
  {
   "cell_type": "code",
   "execution_count": 189,
   "id": "3f368304-1376-4612-a276-79b372a56516",
   "metadata": {},
   "outputs": [
    {
     "data": {
      "text/plain": [
       "'Nikith'"
      ]
     },
     "execution_count": 189,
     "metadata": {},
     "output_type": "execute_result"
    }
   ],
   "source": [
    "name = \"Nikith\"\n",
    "name"
   ]
  },
  {
   "cell_type": "code",
   "execution_count": 190,
   "id": "a1dc1198-b154-4870-8035-155c46fb849c",
   "metadata": {},
   "outputs": [
    {
     "data": {
      "text/plain": [
       "'Pinni'"
      ]
     },
     "execution_count": 190,
     "metadata": {},
     "output_type": "execute_result"
    }
   ],
   "source": [
    "name = \"Pinni\"\n",
    "name\n",
    "#the whole string can be reassigned "
   ]
  },
  {
   "cell_type": "code",
   "execution_count": 192,
   "id": "8101b792-6b70-4a73-974d-f3eaaa16742c",
   "metadata": {},
   "outputs": [],
   "source": [
    "temp = \"Greetings to Pwskills\"\n",
    "temp1 = temp.replace(\"to\",\"from\")"
   ]
  },
  {
   "cell_type": "code",
   "execution_count": 193,
   "id": "85e1be67-4f4f-48fb-beb0-654d968e09a2",
   "metadata": {},
   "outputs": [
    {
     "name": "stdout",
     "output_type": "stream",
     "text": [
      "139993657802880\n",
      "139993655806352\n"
     ]
    }
   ],
   "source": [
    "temp = \"Greetings to Pwskills\"\n",
    "temp1 = temp.replace(\"to\",\"from\")\n",
    "print(id(temp))\n",
    "print(id(temp1))\n",
    "#  both addresses are different because the replace function will return a new copy of \n",
    "# the modified string"
   ]
  },
  {
   "cell_type": "code",
   "execution_count": 194,
   "id": "06f50aa5-0bde-4ba2-844d-4bdff26deb6c",
   "metadata": {},
   "outputs": [
    {
     "name": "stdout",
     "output_type": "stream",
     "text": [
      "Hello\n",
      "world\n"
     ]
    }
   ],
   "source": [
    "print(\"Hello\\nworld\")"
   ]
  },
  {
   "cell_type": "code",
   "execution_count": 195,
   "id": "5432fe20-63a7-4995-9a05-14653169d2a8",
   "metadata": {},
   "outputs": [
    {
     "name": "stdout",
     "output_type": "stream",
     "text": [
      "Hello\tworld\n"
     ]
    }
   ],
   "source": [
    "print(\"Hello\\tworld\")"
   ]
  },
  {
   "cell_type": "code",
   "execution_count": 196,
   "id": "df64feb4-8822-4f44-bb4c-e5486bca0c0f",
   "metadata": {},
   "outputs": [
    {
     "data": {
      "text/plain": [
       "'Hello\\nworld'"
      ]
     },
     "execution_count": 196,
     "metadata": {},
     "output_type": "execute_result"
    }
   ],
   "source": [
    "\"Hello\\nworld\" #here \\t and \\n are considered as a char in a string itself"
   ]
  },
  {
   "cell_type": "code",
   "execution_count": 197,
   "id": "d0b5502d-9f8c-4452-9a9c-d3674eeea828",
   "metadata": {},
   "outputs": [
    {
     "data": {
      "text/plain": [
       "'Hello\\tworld'"
      ]
     },
     "execution_count": 197,
     "metadata": {},
     "output_type": "execute_result"
    }
   ],
   "source": [
    "\"Hello\\tworld\""
   ]
  },
  {
   "cell_type": "code",
   "execution_count": 198,
   "id": "aace5341-278a-468a-a2de-8e4d923b737e",
   "metadata": {},
   "outputs": [
    {
     "data": {
      "text/plain": [
       "'Hello   World   Namaste'"
      ]
     },
     "execution_count": 198,
     "metadata": {},
     "output_type": "execute_result"
    }
   ],
   "source": [
    "#solution for the above problem is \n",
    "\"Hello\\tWorld\\tNamaste\".expandtabs()\n",
    "#establishes tabspace where \\t is present in the string"
   ]
  },
  {
   "cell_type": "code",
   "execution_count": 199,
   "id": "7d225e81-b6fc-4740-ad8f-f4b761a2530d",
   "metadata": {},
   "outputs": [],
   "source": [
    "str1 = \"Welcome to pw,the dat cience course\"\n",
    "#convert the above word into meaningful sentence"
   ]
  },
  {
   "cell_type": "code",
   "execution_count": 200,
   "id": "ae07e809-1f33-412d-8f75-b6019590ae7b",
   "metadata": {},
   "outputs": [
    {
     "data": {
      "text/plain": [
       "'Welcome to pw,the data science course'"
      ]
     },
     "execution_count": 200,
     "metadata": {},
     "output_type": "execute_result"
    }
   ],
   "source": [
    "str1 = \"Welcome to pw,the dat cience course\"\n",
    "\n",
    "str1.replace(\"dat\",\"data\").replace(\"cience\",\"science\")\n",
    "#cam use the replace function more than once as shown above"
   ]
  },
  {
   "cell_type": "code",
   "execution_count": 201,
   "id": "e8f90967-d54f-453a-8c37-4301910575e0",
   "metadata": {},
   "outputs": [
    {
     "data": {
      "text/plain": [
       "False"
      ]
     },
     "execution_count": 201,
     "metadata": {},
     "output_type": "execute_result"
    }
   ],
   "source": [
    "str1.isupper()"
   ]
  },
  {
   "cell_type": "code",
   "execution_count": 202,
   "id": "32efe5f3-e6a0-468c-98f0-9c2f46964d9a",
   "metadata": {},
   "outputs": [
    {
     "data": {
      "text/plain": [
       "True"
      ]
     },
     "execution_count": 202,
     "metadata": {},
     "output_type": "execute_result"
    }
   ],
   "source": [
    "\"KRISH\".isupper()"
   ]
  },
  {
   "cell_type": "code",
   "execution_count": 203,
   "id": "d2d288b4-beea-46b9-825d-a25f7a955fea",
   "metadata": {},
   "outputs": [
    {
     "data": {
      "text/plain": [
       "True"
      ]
     },
     "execution_count": 203,
     "metadata": {},
     "output_type": "execute_result"
    }
   ],
   "source": [
    "\"krish\".islower()"
   ]
  },
  {
   "cell_type": "code",
   "execution_count": 204,
   "id": "1aa82103-1c49-4317-9f74-3c9b7d8fc798",
   "metadata": {},
   "outputs": [
    {
     "data": {
      "text/plain": [
       "True"
      ]
     },
     "execution_count": 204,
     "metadata": {},
     "output_type": "execute_result"
    }
   ],
   "source": [
    "\" \".isspace()"
   ]
  },
  {
   "cell_type": "code",
   "execution_count": 205,
   "id": "f40ce645-3294-4ebd-8ebf-18958d59c079",
   "metadata": {},
   "outputs": [
    {
     "data": {
      "text/plain": [
       "False"
      ]
     },
     "execution_count": 205,
     "metadata": {},
     "output_type": "execute_result"
    }
   ],
   "source": [
    "\"nikith\".isspace() #isspace() function is generally used if the user has entered the \n",
    "                    # value or not "
   ]
  },
  {
   "cell_type": "code",
   "execution_count": 206,
   "id": "0b73951d-6069-40c9-84c4-20265823a854",
   "metadata": {},
   "outputs": [
    {
     "data": {
      "text/plain": [
       "True"
      ]
     },
     "execution_count": 206,
     "metadata": {},
     "output_type": "execute_result"
    }
   ],
   "source": [
    "\"pwskills\".endswith(\"s\")"
   ]
  },
  {
   "cell_type": "code",
   "execution_count": 207,
   "id": "d28c7f25-a733-4656-8dc3-cf948bb5bd06",
   "metadata": {},
   "outputs": [
    {
     "data": {
      "text/plain": [
       "False"
      ]
     },
     "execution_count": 207,
     "metadata": {},
     "output_type": "execute_result"
    }
   ],
   "source": [
    "\"Nikith\".endswith(\"p\")"
   ]
  },
  {
   "cell_type": "code",
   "execution_count": 208,
   "id": "2b76f01d-bcd5-4326-b8de-086154c98a62",
   "metadata": {},
   "outputs": [
    {
     "data": {
      "text/plain": [
       "True"
      ]
     },
     "execution_count": 208,
     "metadata": {},
     "output_type": "execute_result"
    }
   ],
   "source": [
    "\"Nikith\".startswith(\"N\") #case sensitive"
   ]
  },
  {
   "cell_type": "code",
   "execution_count": 209,
   "id": "3e3aaa36-517d-4dcb-bb12-40090920ec2f",
   "metadata": {},
   "outputs": [
    {
     "data": {
      "text/plain": [
       "True"
      ]
     },
     "execution_count": 209,
     "metadata": {},
     "output_type": "execute_result"
    }
   ],
   "source": [
    "\"abc12\".isalnum()"
   ]
  },
  {
   "cell_type": "code",
   "execution_count": 210,
   "id": "77d85bfb-076f-475d-a1b3-d90b212066ed",
   "metadata": {},
   "outputs": [
    {
     "data": {
      "text/plain": [
       "True"
      ]
     },
     "execution_count": 210,
     "metadata": {},
     "output_type": "execute_result"
    }
   ],
   "source": [
    "\"112\".isalnum()"
   ]
  },
  {
   "cell_type": "code",
   "execution_count": 211,
   "id": "5e94cb59-47c7-4805-8a92-437b00a6f48e",
   "metadata": {},
   "outputs": [
    {
     "data": {
      "text/plain": [
       "True"
      ]
     },
     "execution_count": 211,
     "metadata": {},
     "output_type": "execute_result"
    }
   ],
   "source": [
    "\"abc\".isalnum()"
   ]
  },
  {
   "cell_type": "code",
   "execution_count": 212,
   "id": "b14ddae4-66a5-4ea8-b0bb-73272638959d",
   "metadata": {},
   "outputs": [
    {
     "data": {
      "text/plain": [
       "False"
      ]
     },
     "execution_count": 212,
     "metadata": {},
     "output_type": "execute_result"
    }
   ],
   "source": [
    "\"@\".isalnum()"
   ]
  },
  {
   "cell_type": "code",
   "execution_count": null,
   "id": "112243b6-261a-4ea0-97c1-20d0c2059a8c",
   "metadata": {},
   "outputs": [],
   "source": [
    "#count the number of characters in the given string using for loop"
   ]
  },
  {
   "cell_type": "code",
   "execution_count": 213,
   "id": "9f9c7a53-fad7-489b-a641-221d626a05d8",
   "metadata": {},
   "outputs": [
    {
     "name": "stdout",
     "output_type": "stream",
     "text": [
      "6\n"
     ]
    }
   ],
   "source": [
    "str1 = \"Nikith\"\n",
    "count = 0\n",
    "for i in str1:\n",
    "    count+=1\n",
    "print(count)\n",
    "    "
   ]
  },
  {
   "cell_type": "code",
   "execution_count": 214,
   "id": "f4021ce5-76b6-4843-901c-c93ce6a3d74c",
   "metadata": {},
   "outputs": [
    {
     "data": {
      "text/plain": [
       "6"
      ]
     },
     "execution_count": 214,
     "metadata": {},
     "output_type": "execute_result"
    }
   ],
   "source": [
    "#verification\n",
    "len(str1)"
   ]
  },
  {
   "cell_type": "code",
   "execution_count": null,
   "id": "0f3caf8d-566b-40fb-a163-53b334a3d997",
   "metadata": {},
   "outputs": [],
   "source": [
    "#printing index wise"
   ]
  },
  {
   "cell_type": "code",
   "execution_count": 215,
   "id": "67549014-13d9-4b99-8187-6f2495c3b383",
   "metadata": {},
   "outputs": [
    {
     "name": "stdout",
     "output_type": "stream",
     "text": [
      "0 = N\n",
      "1 = i\n",
      "2 = k\n",
      "3 = i\n",
      "4 = t\n",
      "5 = h\n"
     ]
    }
   ],
   "source": [
    "str1 = \"Nikith\"\n",
    "for i in range(0,len(str1)):\n",
    "    print(f\"{i} = {str1[i]}\")"
   ]
  },
  {
   "cell_type": "code",
   "execution_count": null,
   "id": "bb0cf0ad-b950-49d0-93f8-3b6a72db51c2",
   "metadata": {},
   "outputs": [],
   "source": [
    "#printing string in reverse direction without using builtin\n",
    "# functions and slicing operation"
   ]
  },
  {
   "cell_type": "code",
   "execution_count": 216,
   "id": "c01c09ca-5589-4bd9-9675-de8ef71fa9f6",
   "metadata": {},
   "outputs": [
    {
     "name": "stdout",
     "output_type": "stream",
     "text": [
      "h t i k i N "
     ]
    }
   ],
   "source": [
    "str1 = \"Nikith\"\n",
    "for i in range(len(str1)-1,-1,-1):\n",
    "    print(str1[i],end = \" \")"
   ]
  },
  {
   "cell_type": "code",
   "execution_count": 217,
   "id": "8fce8280-de3b-47c9-9943-7387fb31f4c9",
   "metadata": {},
   "outputs": [
    {
     "name": "stdout",
     "output_type": "stream",
     "text": [
      "p = Not vowels char\n",
      "w = Not vowels char\n",
      "s = Not vowels char\n",
      "k = Not vowels char\n",
      "i = Vowels char\n",
      "l = Not vowels char\n",
      "l = Not vowels char\n",
      "s = Not vowels char\n"
     ]
    }
   ],
   "source": [
    "name = \"pwskills\"\n",
    "vowels = \"aeioueuea\"\n",
    "#check wheather the words above are vowels or not\n",
    "for i in name:\n",
    "    if (i == \"a\" or i == \"e\" or i == \"i\" or i == \"o\" or i == \"u\"):\n",
    "        print(f\"{i} = Vowels char\")\n",
    "    else:\n",
    "        print(f\"{i} = Not vowels char\")\n",
    "        "
   ]
  },
  {
   "cell_type": "code",
   "execution_count": 218,
   "id": "7e7952f4-6cd6-48b0-95f2-6d17b86ed323",
   "metadata": {},
   "outputs": [
    {
     "name": "stdout",
     "output_type": "stream",
     "text": [
      "a = Vowels char\n",
      "e = Vowels char\n",
      "i = Vowels char\n",
      "o = Vowels char\n",
      "u = Vowels char\n",
      "e = Vowels char\n",
      "u = Vowels char\n",
      "e = Vowels char\n",
      "a = Vowels char\n"
     ]
    }
   ],
   "source": [
    "name = \"pwskills\"\n",
    "vowels = \"aeioueuea\"\n",
    "#check wheather the words above are vowels or not\n",
    "for i in vowels:\n",
    "    if (i == \"a\" or i == \"e\" or i == \"i\" or i == \"o\" or i == \"u\"):\n",
    "        print(f\"{i} = Vowels char\")\n",
    "    else:\n",
    "        print(f\"{i} = Not vowels char\")\n",
    "        "
   ]
  },
  {
   "cell_type": "code",
   "execution_count": null,
   "id": "4f73aac5-d5d2-4c48-9981-32f551ccde7b",
   "metadata": {},
   "outputs": [],
   "source": [
    "#Lists"
   ]
  },
  {
   "cell_type": "code",
   "execution_count": 219,
   "id": "5ddeb455-502d-43f1-8366-23b41d521913",
   "metadata": {},
   "outputs": [
    {
     "data": {
      "text/plain": [
       "['Nikith', 'John', 12, 24]"
      ]
     },
     "execution_count": 219,
     "metadata": {},
     "output_type": "execute_result"
    }
   ],
   "source": [
    "mylist = [\"Nikith\",\"John\",12,24]\n",
    "mylist"
   ]
  },
  {
   "cell_type": "code",
   "execution_count": 220,
   "id": "6a965185-df96-472b-bbef-f251cd3f7e7f",
   "metadata": {},
   "outputs": [
    {
     "data": {
      "text/plain": [
       "['P', 'w', 'S', 'k', 'i', 'l', 'l', 's']"
      ]
     },
     "execution_count": 220,
     "metadata": {},
     "output_type": "execute_result"
    }
   ],
   "source": [
    "str1 = \"PwSkills\"\n",
    "list(str1) #typecasting string str1 into list"
   ]
  },
  {
   "cell_type": "code",
   "execution_count": 221,
   "id": "47c2a8d8-4e42-43dc-8a85-8debda4bdf68",
   "metadata": {},
   "outputs": [
    {
     "data": {
      "text/plain": [
       "['PWSkills', 'Data', 'Science', 'Masters', 'Course']"
      ]
     },
     "execution_count": 221,
     "metadata": {},
     "output_type": "execute_result"
    }
   ],
   "source": [
    "str2 = \"PWSkills Data Science Masters Course\"\n",
    "list(str2.split(\" \")) #split function splits a sentence into words"
   ]
  },
  {
   "cell_type": "code",
   "execution_count": 222,
   "id": "1e141fa3-004b-4580-a5f0-30a1ca28edcc",
   "metadata": {},
   "outputs": [
    {
     "data": {
      "text/plain": [
       "['PWSkills', 'Data', 'Science', 'Masters', 'Course']"
      ]
     },
     "execution_count": 222,
     "metadata": {},
     "output_type": "execute_result"
    }
   ],
   "source": [
    "str2.split(\" \") #returns the output in the form of list itself"
   ]
  },
  {
   "cell_type": "code",
   "execution_count": null,
   "id": "8ba5624d-4b4a-4a61-b644-86956bbd8281",
   "metadata": {},
   "outputs": [],
   "source": [
    "#return type of split function when operated on strings is a list\n",
    "#List is a ordered collection of elements of different data type"
   ]
  },
  {
   "cell_type": "code",
   "execution_count": 223,
   "id": "61d99844-7811-4041-ab29-beb0cf6bfb73",
   "metadata": {},
   "outputs": [
    {
     "data": {
      "text/plain": [
       "['PWSkills', 'Data', 'Science', 'Masters', 'Course']"
      ]
     },
     "execution_count": 223,
     "metadata": {},
     "output_type": "execute_result"
    }
   ],
   "source": [
    "lst = str2.split(\" \")\n",
    "lst"
   ]
  },
  {
   "cell_type": "code",
   "execution_count": 224,
   "id": "ffd05f43-be84-4162-bc36-27b621b8e392",
   "metadata": {},
   "outputs": [
    {
     "data": {
      "text/plain": [
       "'Masters'"
      ]
     },
     "execution_count": 224,
     "metadata": {},
     "output_type": "execute_result"
    }
   ],
   "source": [
    "lst[3]"
   ]
  },
  {
   "cell_type": "code",
   "execution_count": 225,
   "id": "477aaa00-84e7-4e2d-a2b1-452bd7b9be2d",
   "metadata": {},
   "outputs": [
    {
     "data": {
      "text/plain": [
       "['Course', 'Masters', 'Science', 'Data', 'PWSkills']"
      ]
     },
     "execution_count": 225,
     "metadata": {},
     "output_type": "execute_result"
    }
   ],
   "source": [
    "lst[::-1]"
   ]
  },
  {
   "cell_type": "code",
   "execution_count": null,
   "id": "c72e668a-fdc5-4397-9596-5688147b69c4",
   "metadata": {},
   "outputs": [],
   "source": [
    "#slicing operation can be done for both lists and strings"
   ]
  },
  {
   "cell_type": "code",
   "execution_count": 226,
   "id": "9f35b15c-ac96-48a1-98d0-9004a9b0ef9a",
   "metadata": {},
   "outputs": [
    {
     "data": {
      "text/plain": [
       "['Science', 'Masters', 'Course']"
      ]
     },
     "execution_count": 226,
     "metadata": {},
     "output_type": "execute_result"
    }
   ],
   "source": [
    "lst[2:]"
   ]
  },
  {
   "cell_type": "code",
   "execution_count": null,
   "id": "c68f7184-fa4c-4f21-bf18-2b5c550ae8ad",
   "metadata": {},
   "outputs": [],
   "source": [
    "# modifying the string by first converting it into list"
   ]
  },
  {
   "cell_type": "code",
   "execution_count": 227,
   "id": "633a651b-99a3-47a6-aa31-5d7f50ea6565",
   "metadata": {},
   "outputs": [
    {
     "data": {
      "text/plain": [
       "['PWSkills', 'Data', 'Science', 'Masters', 'Course']"
      ]
     },
     "execution_count": 227,
     "metadata": {},
     "output_type": "execute_result"
    }
   ],
   "source": [
    "lst"
   ]
  },
  {
   "cell_type": "code",
   "execution_count": 228,
   "id": "7b97af0e-58d2-4a8a-81c8-dfd0e7e26659",
   "metadata": {},
   "outputs": [
    {
     "data": {
      "text/plain": [
       "['PWSkills', 'Data', 'Science', 'Bachelors', 'Course']"
      ]
     },
     "execution_count": 228,
     "metadata": {},
     "output_type": "execute_result"
    }
   ],
   "source": [
    "lst[3] = \"Bachelors\"\n",
    "lst"
   ]
  },
  {
   "cell_type": "code",
   "execution_count": 229,
   "id": "e90e2b8c-2757-4db1-8b4f-f5c100e15a82",
   "metadata": {},
   "outputs": [
    {
     "data": {
      "text/plain": [
       "['Course', 'Science', 'PWSkills']"
      ]
     },
     "execution_count": 229,
     "metadata": {},
     "output_type": "execute_result"
    }
   ],
   "source": [
    "lst[::-2]\n",
    "#selects first element and every 2nd element sub-sequently from reverse "
   ]
  },
  {
   "cell_type": "code",
   "execution_count": 230,
   "id": "8cd9e692-cccb-48b2-bf99-62d6db07b475",
   "metadata": {},
   "outputs": [
    {
     "data": {
      "text/plain": [
       "['Science', 'PWSkills']"
      ]
     },
     "execution_count": 230,
     "metadata": {},
     "output_type": "execute_result"
    }
   ],
   "source": [
    "lst[-3::-2] #-->selects every 2nd element from the reverse starting from the -3rd index "
   ]
  },
  {
   "cell_type": "code",
   "execution_count": 231,
   "id": "8e8c98f9-816b-4cb3-a2e6-981acb037389",
   "metadata": {},
   "outputs": [
    {
     "data": {
      "text/plain": [
       "['PWSkills', 'Data', 'Science', 'Bachelors', 'Course']"
      ]
     },
     "execution_count": 231,
     "metadata": {},
     "output_type": "execute_result"
    }
   ],
   "source": [
    "lst"
   ]
  },
  {
   "cell_type": "code",
   "execution_count": 232,
   "id": "517cf097-91c3-4f8a-b060-da6b6bfba85b",
   "metadata": {},
   "outputs": [
    {
     "data": {
      "text/plain": [
       "['Data', 'Science', 'Bachelors', 'Course']"
      ]
     },
     "execution_count": 232,
     "metadata": {},
     "output_type": "execute_result"
    }
   ],
   "source": [
    "\"\"\" Need \"Data Science Bachelors Course[both reverse and normal order]\"as output \n",
    "using slicing operation\"\"\" \n",
    "lst[1:5:1]\n"
   ]
  },
  {
   "cell_type": "code",
   "execution_count": 233,
   "id": "f43d0031-5889-49d3-84ee-482effe1a95a",
   "metadata": {},
   "outputs": [
    {
     "data": {
      "text/plain": [
       "['Course', 'Bachelors', 'Science', 'Data']"
      ]
     },
     "execution_count": 233,
     "metadata": {},
     "output_type": "execute_result"
    }
   ],
   "source": [
    "lst[4:0:-1]"
   ]
  },
  {
   "cell_type": "code",
   "execution_count": 234,
   "id": "b9a28143-582f-4491-a807-05a5aa0dc5b6",
   "metadata": {},
   "outputs": [
    {
     "data": {
      "text/plain": [
       "['Course', 'Bachelors', 'Science', 'Data']"
      ]
     },
     "execution_count": 234,
     "metadata": {},
     "output_type": "execute_result"
    }
   ],
   "source": [
    "lst[-1:-5:-1] #Another way"
   ]
  },
  {
   "cell_type": "code",
   "execution_count": null,
   "id": "e1a022e4-2715-4250-8ec7-b237a0a4d89f",
   "metadata": {},
   "outputs": [],
   "source": [
    "## Very important note\n",
    "lst[starting index{included} : ending index{excluded} : reverse or normal order]"
   ]
  },
  {
   "cell_type": "code",
   "execution_count": null,
   "id": "2a1b2b67-2cb1-4b47-9faa-6c5b2e1e01d3",
   "metadata": {},
   "outputs": [],
   "source": [
    "##concatenation operation in lists"
   ]
  },
  {
   "cell_type": "code",
   "execution_count": 236,
   "id": "a297c1d2-748a-4658-8389-63c50e9ad21c",
   "metadata": {},
   "outputs": [
    {
     "data": {
      "text/plain": [
       "['PWSkills', 'Data', 'Science', 'Bachelors', 'Course']"
      ]
     },
     "execution_count": 236,
     "metadata": {},
     "output_type": "execute_result"
    }
   ],
   "source": [
    "lst"
   ]
  },
  {
   "cell_type": "code",
   "execution_count": 237,
   "id": "3387b4e4-1e6f-4e10-829c-3a92a35e0ee9",
   "metadata": {},
   "outputs": [
    {
     "data": {
      "text/plain": [
       "['PWSkills', 'Data', 'Science', 'Bachelors', 'Course', 'new element', 3]"
      ]
     },
     "execution_count": 237,
     "metadata": {},
     "output_type": "execute_result"
    }
   ],
   "source": [
    "lst + [\"new element\",3] #just for output,lst wont get updated"
   ]
  },
  {
   "cell_type": "code",
   "execution_count": 239,
   "id": "99b2c526-1081-42ba-87fd-3a2704b07e3e",
   "metadata": {},
   "outputs": [],
   "source": [
    "lst2 = lst + [[\"new new element\",33]] #nested list in the output "
   ]
  },
  {
   "cell_type": "code",
   "execution_count": 240,
   "id": "fd5446db-2fde-4447-84f3-0bdaa0b3b59a",
   "metadata": {},
   "outputs": [
    {
     "data": {
      "text/plain": [
       "['PWSkills', 'Data', 'Science', 'Bachelors', 'Course', ['new new element', 33]]"
      ]
     },
     "execution_count": 240,
     "metadata": {},
     "output_type": "execute_result"
    }
   ],
   "source": [
    "lst2 #since we have assigned in the above code snippet"
   ]
  },
  {
   "cell_type": "code",
   "execution_count": 241,
   "id": "e3160b49-083b-4de7-9440-deaa676aeb95",
   "metadata": {},
   "outputs": [
    {
     "data": {
      "text/plain": [
       "['new new element', 33]"
      ]
     },
     "execution_count": 241,
     "metadata": {},
     "output_type": "execute_result"
    }
   ],
   "source": [
    "lst2[-1]"
   ]
  },
  {
   "cell_type": "code",
   "execution_count": 242,
   "id": "6bb16c47-5aff-4a09-acd9-c7e00d1588c2",
   "metadata": {},
   "outputs": [
    {
     "data": {
      "text/plain": [
       "['new new element', 33]"
      ]
     },
     "execution_count": 242,
     "metadata": {},
     "output_type": "execute_result"
    }
   ],
   "source": [
    "lst2[5]"
   ]
  },
  {
   "cell_type": "code",
   "execution_count": 243,
   "id": "8967f62a-cf41-4c55-b5ac-4228cd0dba5c",
   "metadata": {},
   "outputs": [
    {
     "data": {
      "text/plain": [
       "'new new element'"
      ]
     },
     "execution_count": 243,
     "metadata": {},
     "output_type": "execute_result"
    }
   ],
   "source": [
    "lst2[-1][0]"
   ]
  },
  {
   "cell_type": "code",
   "execution_count": 244,
   "id": "4af1f5b5-67f9-41c4-917c-1de585386efa",
   "metadata": {},
   "outputs": [
    {
     "data": {
      "text/plain": [
       "['PWSkills', 'Data', 'Science', 'Bachelors', 'Course']"
      ]
     },
     "execution_count": 244,
     "metadata": {},
     "output_type": "execute_result"
    }
   ],
   "source": [
    "lst"
   ]
  },
  {
   "cell_type": "code",
   "execution_count": 245,
   "id": "dacf0554-523a-4d82-bedb-2dd9a11b8d7c",
   "metadata": {},
   "outputs": [
    {
     "data": {
      "text/plain": [
       "'B'"
      ]
     },
     "execution_count": 245,
     "metadata": {},
     "output_type": "execute_result"
    }
   ],
   "source": [
    "lst[-2][0]"
   ]
  },
  {
   "cell_type": "code",
   "execution_count": 246,
   "id": "dc03eecc-0fbc-4f8e-9594-e0c6ec352dd2",
   "metadata": {},
   "outputs": [
    {
     "data": {
      "text/plain": [
       "['PWSkills', 'Data', 'Science', 'Bachelors', 'Course', ['new new element', 33]]"
      ]
     },
     "execution_count": 246,
     "metadata": {},
     "output_type": "execute_result"
    }
   ],
   "source": [
    "lst2"
   ]
  },
  {
   "cell_type": "code",
   "execution_count": 247,
   "id": "f5ad21c4-a9b4-4ba1-b2a1-012835812d8b",
   "metadata": {},
   "outputs": [
    {
     "data": {
      "text/plain": [
       "33"
      ]
     },
     "execution_count": 247,
     "metadata": {},
     "output_type": "execute_result"
    }
   ],
   "source": [
    "lst2[-1][1]"
   ]
  },
  {
   "cell_type": "code",
   "execution_count": 248,
   "id": "31d091f9-12dd-4406-a584-179227ed35c7",
   "metadata": {},
   "outputs": [
    {
     "data": {
      "text/plain": [
       "['PWSkills', 'Data', 'Science', 'Bachelors', 'Course']"
      ]
     },
     "execution_count": 248,
     "metadata": {},
     "output_type": "execute_result"
    }
   ],
   "source": [
    "lst"
   ]
  },
  {
   "cell_type": "code",
   "execution_count": 249,
   "id": "3835fb2f-16d8-4478-928b-7723d0e8cc50",
   "metadata": {},
   "outputs": [
    {
     "data": {
      "text/plain": [
       "['P',\n",
       " 'W',\n",
       " 'S',\n",
       " 'k',\n",
       " 'i',\n",
       " 'l',\n",
       " 'l',\n",
       " 's',\n",
       " ' ',\n",
       " 'D',\n",
       " 'a',\n",
       " 't',\n",
       " 'a',\n",
       " ' ',\n",
       " 'S',\n",
       " 'c',\n",
       " 'i',\n",
       " 'e',\n",
       " 'n',\n",
       " 'c',\n",
       " 'e',\n",
       " ' ',\n",
       " 'M',\n",
       " 'a',\n",
       " 's',\n",
       " 't',\n",
       " 'e',\n",
       " 'r',\n",
       " 's',\n",
       " ' ',\n",
       " 'C',\n",
       " 'o',\n",
       " 'u',\n",
       " 'r',\n",
       " 's',\n",
       " 'e']"
      ]
     },
     "execution_count": 249,
     "metadata": {},
     "output_type": "execute_result"
    }
   ],
   "source": [
    "str2 = \"PWSkills Data Science Masters Course\"\n",
    "lst = list(str2)\n",
    "lst \n",
    "#observe the difference for this code snippet and below code snippet"
   ]
  },
  {
   "cell_type": "code",
   "execution_count": 250,
   "id": "16b74427-5dbb-43be-a714-32c691fa066e",
   "metadata": {},
   "outputs": [
    {
     "data": {
      "text/plain": [
       "['PWSkills', 'Data', 'Science', 'Masters', 'Course']"
      ]
     },
     "execution_count": 250,
     "metadata": {},
     "output_type": "execute_result"
    }
   ],
   "source": [
    "lst = str2.split(\" \")\n",
    "lst"
   ]
  },
  {
   "cell_type": "code",
   "execution_count": null,
   "id": "d326044c-104f-4024-92af-03e92432d6e1",
   "metadata": {},
   "outputs": [],
   "source": [
    "#check if \"Science\" is present in lst"
   ]
  },
  {
   "cell_type": "code",
   "execution_count": 251,
   "id": "725337bd-75b2-4daa-aacf-72c97588c85c",
   "metadata": {},
   "outputs": [
    {
     "name": "stdout",
     "output_type": "stream",
     "text": [
      "Science is present in lst\n"
     ]
    }
   ],
   "source": [
    "for i in lst:\n",
    "    if i == \"Science\":\n",
    "        print(\"Science is present in lst\")\n",
    "        break\n",
    "    "
   ]
  },
  {
   "cell_type": "code",
   "execution_count": 252,
   "id": "827027b9-388e-451d-9ddd-f60d5a9039a0",
   "metadata": {},
   "outputs": [
    {
     "name": "stdout",
     "output_type": "stream",
     "text": [
      "Science is present in lst\n"
     ]
    }
   ],
   "source": [
    "#shortcut -->optimal solution\n",
    "if \"Science\" in lst:\n",
    "    print(\"Science is present in lst\")"
   ]
  },
  {
   "cell_type": "code",
   "execution_count": 253,
   "id": "5915a0b3-fe30-44e0-baff-3c5cbdb28ab9",
   "metadata": {},
   "outputs": [
    {
     "data": {
      "text/plain": [
       "True"
      ]
     },
     "execution_count": 253,
     "metadata": {},
     "output_type": "execute_result"
    }
   ],
   "source": [
    "# checking elements in the list\n",
    "numlist = [1,2,3,4]\n",
    "3 in numlist"
   ]
  },
  {
   "cell_type": "code",
   "execution_count": 254,
   "id": "52c3e699-3b50-4b0f-9b1d-555bb07f59d7",
   "metadata": {},
   "outputs": [
    {
     "data": {
      "text/plain": [
       "False"
      ]
     },
     "execution_count": 254,
     "metadata": {},
     "output_type": "execute_result"
    }
   ],
   "source": [
    "7 in numlist"
   ]
  },
  {
   "cell_type": "code",
   "execution_count": 255,
   "id": "b0405990-a6e2-44ec-b3d3-64ce1afb977b",
   "metadata": {},
   "outputs": [
    {
     "data": {
      "text/plain": [
       "True"
      ]
     },
     "execution_count": 255,
     "metadata": {},
     "output_type": "execute_result"
    }
   ],
   "source": [
    "3.0 in numlist \n",
    "# working for decimal point also"
   ]
  },
  {
   "cell_type": "code",
   "execution_count": 256,
   "id": "19f51421-01a9-4928-8e5f-ef9599bd5985",
   "metadata": {},
   "outputs": [
    {
     "data": {
      "text/plain": [
       "['Zebra', 'Monkey', 'Donkey', 'Lion', 'Zylo']"
      ]
     },
     "execution_count": 256,
     "metadata": {},
     "output_type": "execute_result"
    }
   ],
   "source": [
    "list1 = [\"Zebra\",\"Monkey\",\"Donkey\",\"Lion\",\"Zylo\"]\n",
    "list2 = [5,6,2,9,5,8,6]\n",
    "list1"
   ]
  },
  {
   "cell_type": "code",
   "execution_count": 257,
   "id": "8a2d4106-40a0-4395-ad35-83f889773265",
   "metadata": {},
   "outputs": [
    {
     "name": "stdout",
     "output_type": "stream",
     "text": [
      "Zylo\n"
     ]
    }
   ],
   "source": [
    "print(max(list1))"
   ]
  },
  {
   "cell_type": "code",
   "execution_count": 258,
   "id": "070a231f-3af0-46c9-a5d9-0b813a873f38",
   "metadata": {},
   "outputs": [
    {
     "name": "stdout",
     "output_type": "stream",
     "text": [
      "Donkey\n"
     ]
    }
   ],
   "source": [
    "print(min(list1))"
   ]
  },
  {
   "cell_type": "code",
   "execution_count": 259,
   "id": "6d0e75bf-b982-49d8-b761-e375a05baf8b",
   "metadata": {},
   "outputs": [
    {
     "data": {
      "text/plain": [
       "[5, 6, 2, 9, 5, 8, 6]"
      ]
     },
     "execution_count": 259,
     "metadata": {},
     "output_type": "execute_result"
    }
   ],
   "source": [
    "list2"
   ]
  },
  {
   "cell_type": "code",
   "execution_count": 260,
   "id": "e0a0a939-31e8-4f11-9b79-f8bd0e4f7ee2",
   "metadata": {},
   "outputs": [
    {
     "name": "stdout",
     "output_type": "stream",
     "text": [
      "9\n",
      "2\n"
     ]
    }
   ],
   "source": [
    "print(max(list2))\n",
    "print(min(list2))"
   ]
  },
  {
   "cell_type": "code",
   "execution_count": 261,
   "id": "d2efcc04-1427-4dc7-8fbf-83c28a31a4cc",
   "metadata": {},
   "outputs": [
    {
     "data": {
      "text/plain": [
       "['Donkey', 'Zebra', 'Banana', 5, 6, 8]"
      ]
     },
     "execution_count": 261,
     "metadata": {},
     "output_type": "execute_result"
    }
   ],
   "source": [
    "list3 = [\"Donkey\",\"Zebra\",\"Banana\",5,6,8]\n",
    "list3"
   ]
  },
  {
   "cell_type": "code",
   "execution_count": 262,
   "id": "90ae93b8-4752-49c1-ab54-4d1104a3aa99",
   "metadata": {},
   "outputs": [
    {
     "ename": "TypeError",
     "evalue": "'>' not supported between instances of 'int' and 'str'",
     "output_type": "error",
     "traceback": [
      "\u001b[0;31m---------------------------------------------------------------------------\u001b[0m",
      "\u001b[0;31mTypeError\u001b[0m                                 Traceback (most recent call last)",
      "Cell \u001b[0;32mIn[262], line 1\u001b[0m\n\u001b[0;32m----> 1\u001b[0m \u001b[38;5;28mprint\u001b[39m(\u001b[38;5;28;43mmax\u001b[39;49m\u001b[43m(\u001b[49m\u001b[43mlist3\u001b[49m\u001b[43m)\u001b[49m) \u001b[38;5;66;03m# min() and max() functions do not work when there are diff datatypes inthe list\u001b[39;00m\n",
      "\u001b[0;31mTypeError\u001b[0m: '>' not supported between instances of 'int' and 'str'"
     ]
    }
   ],
   "source": [
    "print(max(list3)) # min() and max() functions do not work when there are diff datatypes inthe list"
   ]
  },
  {
   "cell_type": "code",
   "execution_count": 263,
   "id": "ab618440-7e0d-4c74-9d69-66c8815bffe5",
   "metadata": {},
   "outputs": [
    {
     "data": {
      "text/plain": [
       "True"
      ]
     },
     "execution_count": 263,
     "metadata": {},
     "output_type": "execute_result"
    }
   ],
   "source": [
    "7 == 7.0"
   ]
  },
  {
   "cell_type": "code",
   "execution_count": 264,
   "id": "b7ed3cb0-faa6-4e8a-a0a1-946f0080f473",
   "metadata": {},
   "outputs": [
    {
     "data": {
      "text/plain": [
       "True"
      ]
     },
     "execution_count": 264,
     "metadata": {},
     "output_type": "execute_result"
    }
   ],
   "source": [
    "1.9999999999999999999999999999999999 in [2,6,4]"
   ]
  },
  {
   "cell_type": "code",
   "execution_count": 265,
   "id": "5c10af9c-1e03-4d35-a655-3ca4a4a19856",
   "metadata": {},
   "outputs": [
    {
     "data": {
      "text/plain": [
       "False"
      ]
     },
     "execution_count": 265,
     "metadata": {},
     "output_type": "execute_result"
    }
   ],
   "source": [
    "1.99999 in [2,6,4]"
   ]
  },
  {
   "cell_type": "code",
   "execution_count": null,
   "id": "197d4f1c-3f13-4881-9d48-a4cf0908904b",
   "metadata": {},
   "outputs": [],
   "source": [
    "#Once compare the above two code snippets"
   ]
  },
  {
   "cell_type": "code",
   "execution_count": 266,
   "id": "4e8b00f4-f450-4724-87cc-d8240fd1d478",
   "metadata": {},
   "outputs": [
    {
     "data": {
      "text/plain": [
       "True"
      ]
     },
     "execution_count": 266,
     "metadata": {},
     "output_type": "execute_result"
    }
   ],
   "source": [
    "1.99999999999999999999999999999999 == 2"
   ]
  },
  {
   "cell_type": "code",
   "execution_count": 267,
   "id": "55e18fb2-2cda-4299-8704-722f60ff44bd",
   "metadata": {},
   "outputs": [
    {
     "data": {
      "text/plain": [
       "False"
      ]
     },
     "execution_count": 267,
     "metadata": {},
     "output_type": "execute_result"
    }
   ],
   "source": [
    "1.99999 == 2"
   ]
  },
  {
   "cell_type": "code",
   "execution_count": 268,
   "id": "841dd291-a268-41db-9d3b-4ae33a92adb7",
   "metadata": {},
   "outputs": [
    {
     "data": {
      "text/plain": [
       "['PWSkills', 'Data', 'Science', 'Masters', 'Course']"
      ]
     },
     "execution_count": 268,
     "metadata": {},
     "output_type": "execute_result"
    }
   ],
   "source": [
    "lst"
   ]
  },
  {
   "cell_type": "code",
   "execution_count": 269,
   "id": "9c710125-de83-415b-a331-6ac0eb57da85",
   "metadata": {},
   "outputs": [],
   "source": [
    "lst.append(\"Rating\") #append() function will automatically update[assign] in the list"
   ]
  },
  {
   "cell_type": "code",
   "execution_count": 155,
   "id": "73b6717d-c3c8-41f3-a009-82d2168674fa",
   "metadata": {},
   "outputs": [],
   "source": [
    "lst"
   ]
  },
  {
   "cell_type": "code",
   "execution_count": 270,
   "id": "3259a0f9-dff8-4dff-adec-d7f3bd703c30",
   "metadata": {},
   "outputs": [
    {
     "data": {
      "text/plain": [
       "['PWSkills', 'Data', 'Science', 'Masters', 'Course', 'Rating', [1, 2, 3]]"
      ]
     },
     "execution_count": 270,
     "metadata": {},
     "output_type": "execute_result"
    }
   ],
   "source": [
    "#appending list into the list\n",
    "lst.append([1,2,3])\n",
    "lst"
   ]
  },
  {
   "cell_type": "code",
   "execution_count": 271,
   "id": "ab2150d4-0613-48ed-be79-479d2a07900c",
   "metadata": {},
   "outputs": [
    {
     "data": {
      "text/plain": [
       "['Zebra', 'Monkey', 'Donkey', 'Lion', 'Zylo']"
      ]
     },
     "execution_count": 271,
     "metadata": {},
     "output_type": "execute_result"
    }
   ],
   "source": [
    "list1"
   ]
  },
  {
   "cell_type": "code",
   "execution_count": 272,
   "id": "c78f0359-442f-4edc-8fbd-1500fca508b6",
   "metadata": {},
   "outputs": [
    {
     "data": {
      "text/plain": [
       "'Zylo'"
      ]
     },
     "execution_count": 272,
     "metadata": {},
     "output_type": "execute_result"
    }
   ],
   "source": [
    "list1.pop()\n",
    "#default argument of pop() function is -1,you can give your own argument"
   ]
  },
  {
   "cell_type": "code",
   "execution_count": 273,
   "id": "628fcfbc-1b91-47d7-9959-24a3c5cc6e83",
   "metadata": {},
   "outputs": [
    {
     "data": {
      "text/plain": [
       "['Zebra', 'Monkey', 'Donkey', 'Lion']"
      ]
     },
     "execution_count": 273,
     "metadata": {},
     "output_type": "execute_result"
    }
   ],
   "source": [
    "list1"
   ]
  },
  {
   "cell_type": "code",
   "execution_count": 276,
   "id": "d6ad791b-4e87-4583-b3bc-e873fb9a6c83",
   "metadata": {},
   "outputs": [
    {
     "data": {
      "text/plain": [
       "'Donkey'"
      ]
     },
     "execution_count": 276,
     "metadata": {},
     "output_type": "execute_result"
    }
   ],
   "source": [
    "poped_element = list1.pop(-2)\n",
    "poped_element#inplace operation--->updating and assigning the list"
   ]
  },
  {
   "cell_type": "code",
   "execution_count": 277,
   "id": "a74a24ba-a7ef-44d6-9007-ec8a397cfcc7",
   "metadata": {},
   "outputs": [
    {
     "data": {
      "text/plain": [
       "['Zebra', 'Monkey', 'Lion']"
      ]
     },
     "execution_count": 277,
     "metadata": {},
     "output_type": "execute_result"
    }
   ],
   "source": [
    "list1"
   ]
  },
  {
   "cell_type": "code",
   "execution_count": 167,
   "id": "0eb5a6b4-cac6-44e6-b1e7-9a2e00c372f2",
   "metadata": {},
   "outputs": [],
   "source": [
    "# pop() function takes index as argument and remove() function takes value as argument"
   ]
  },
  {
   "cell_type": "code",
   "execution_count": 166,
   "id": "c0458827-b70b-4b6c-9ec4-6f9d635e9bc7",
   "metadata": {},
   "outputs": [],
   "source": [
    "#sorting and reverse method in list"
   ]
  },
  {
   "cell_type": "code",
   "execution_count": 280,
   "id": "22f43c0f-a872-40be-8f12-62a33277d489",
   "metadata": {},
   "outputs": [
    {
     "data": {
      "text/plain": [
       "['k', 'z', 'x', 'y', 't', 'e']"
      ]
     },
     "execution_count": 280,
     "metadata": {},
     "output_type": "execute_result"
    }
   ],
   "source": [
    "list4 = [\"k\",\"z\",\"x\",\"y\",\"t\",\"e\"]\n",
    "list4"
   ]
  },
  {
   "cell_type": "code",
   "execution_count": 283,
   "id": "68386a57-e876-4e0a-8d00-859b567d62ad",
   "metadata": {},
   "outputs": [
    {
     "data": {
      "text/plain": [
       "['e', 't', 'y', 'x', 'z', 'k']"
      ]
     },
     "execution_count": 283,
     "metadata": {},
     "output_type": "execute_result"
    }
   ],
   "source": [
    "list4[::-1]"
   ]
  },
  {
   "cell_type": "code",
   "execution_count": 284,
   "id": "d14a217b-e42b-49b8-9b2c-d1b7a82f2ad6",
   "metadata": {},
   "outputs": [],
   "source": [
    "list4.reverse() #reverse is also inplace operation"
   ]
  },
  {
   "cell_type": "code",
   "execution_count": 285,
   "id": "fb48b889-784f-47a3-9a67-eaa65aab3ba8",
   "metadata": {},
   "outputs": [
    {
     "data": {
      "text/plain": [
       "['e', 't', 'y', 'x', 'z', 'k']"
      ]
     },
     "execution_count": 285,
     "metadata": {},
     "output_type": "execute_result"
    }
   ],
   "source": [
    "list4"
   ]
  },
  {
   "cell_type": "code",
   "execution_count": 288,
   "id": "814315b5-8f3d-4aed-94d3-e3276570e6d3",
   "metadata": {},
   "outputs": [],
   "source": [
    "list4.sort() #sort() is also inplace operation"
   ]
  },
  {
   "cell_type": "code",
   "execution_count": 289,
   "id": "daac574c-e227-402d-a469-e8e6e40d482f",
   "metadata": {},
   "outputs": [
    {
     "data": {
      "text/plain": [
       "['e', 'k', 't', 'x', 'y', 'z']"
      ]
     },
     "execution_count": 289,
     "metadata": {},
     "output_type": "execute_result"
    }
   ],
   "source": [
    "list4"
   ]
  },
  {
   "cell_type": "markdown",
   "id": "a4841e2b-69d7-44b1-a8a9-5fdab0566ddf",
   "metadata": {},
   "source": [
    "# Nested List"
   ]
  },
  {
   "cell_type": "markdown",
   "id": "bc88ba96-33e2-47a7-8fc7-cf61c58795e2",
   "metadata": {},
   "source": [
    "# Nested List"
   ]
  },
  {
   "cell_type": "code",
   "execution_count": 291,
   "id": "6d80ad64-b959-4e58-a50e-9322d07fa0f7",
   "metadata": {},
   "outputs": [
    {
     "data": {
      "text/plain": [
       "['Donkey', 'Zebra', 'Banana', 5, 6, 8]"
      ]
     },
     "execution_count": 291,
     "metadata": {},
     "output_type": "execute_result"
    }
   ],
   "source": [
    "list3"
   ]
  },
  {
   "cell_type": "code",
   "execution_count": 292,
   "id": "f17ffca6-975d-4ad0-a000-188d1b76e899",
   "metadata": {},
   "outputs": [],
   "source": [
    "list3.append([\"Cow\",\"Ox\"])"
   ]
  },
  {
   "cell_type": "code",
   "execution_count": 293,
   "id": "794937db-2d30-4e05-90ea-937ff43f12a3",
   "metadata": {},
   "outputs": [
    {
     "data": {
      "text/plain": [
       "['Donkey', 'Zebra', 'Banana', 5, 6, 8, ['Cow', 'Ox']]"
      ]
     },
     "execution_count": 293,
     "metadata": {},
     "output_type": "execute_result"
    }
   ],
   "source": [
    "list3"
   ]
  },
  {
   "cell_type": "code",
   "execution_count": 295,
   "id": "d6b2431c-8fe9-4eb6-bf6b-3f997aef863b",
   "metadata": {},
   "outputs": [],
   "source": [
    "list3.extend([\"Cow\",\"Ox\"])"
   ]
  },
  {
   "cell_type": "code",
   "execution_count": 296,
   "id": "97f49dd2-259b-4c3b-915f-3a18200fd9b2",
   "metadata": {},
   "outputs": [
    {
     "data": {
      "text/plain": [
       "['Donkey', 'Zebra', 'Banana', 5, 6, 8, ['Cow', 'Ox'], 'Cow', 'Ox']"
      ]
     },
     "execution_count": 296,
     "metadata": {},
     "output_type": "execute_result"
    }
   ],
   "source": [
    "list3"
   ]
  },
  {
   "cell_type": "code",
   "execution_count": null,
   "id": "15ddeb53-ea5b-403b-884e-3e01c047b064",
   "metadata": {},
   "outputs": [],
   "source": [
    "# extend() operation can add multiple items into list without making nested lists"
   ]
  },
  {
   "cell_type": "code",
   "execution_count": null,
   "id": "c7b7cd7c-00a0-4937-bfef-baed6c2fbdcf",
   "metadata": {},
   "outputs": [],
   "source": [
    "\"\"\"the above code snippets will show the difference between extend() and append() functions for adding \n",
    "multiple items into a list\"\"\""
   ]
  },
  {
   "cell_type": "code",
   "execution_count": 297,
   "id": "e375ff1e-f0b5-46cb-959e-7da46b907234",
   "metadata": {},
   "outputs": [
    {
     "data": {
      "text/plain": [
       "['e', 'k', 't', 'x', 'y', 'z']"
      ]
     },
     "execution_count": 297,
     "metadata": {},
     "output_type": "execute_result"
    }
   ],
   "source": [
    "list4"
   ]
  },
  {
   "cell_type": "code",
   "execution_count": 298,
   "id": "d19524b8-ea7b-4a48-ae0d-c9e4ae39e542",
   "metadata": {},
   "outputs": [],
   "source": [
    "#Sorting in descending order,**********************IMP*************\n",
    "list4.sort(reverse = True)"
   ]
  },
  {
   "cell_type": "code",
   "execution_count": 299,
   "id": "8f71cf07-5478-4f9e-8d3c-d859c53ccf19",
   "metadata": {},
   "outputs": [
    {
     "data": {
      "text/plain": [
       "['z', 'y', 'x', 't', 'k', 'e']"
      ]
     },
     "execution_count": 299,
     "metadata": {},
     "output_type": "execute_result"
    }
   ],
   "source": [
    "list4"
   ]
  },
  {
   "cell_type": "code",
   "execution_count": 301,
   "id": "e40964a0-e2a6-4940-9138-309bbabf20c5",
   "metadata": {},
   "outputs": [
    {
     "data": {
      "text/plain": [
       "[[1, 2, 3], [4, 5, 6], [7, 8, 9]]"
      ]
     },
     "execution_count": 301,
     "metadata": {},
     "output_type": "execute_result"
    }
   ],
   "source": [
    "lst1 = [1,2,3]\n",
    "lst2 = [4,5,6]\n",
    "lst3 = [7,8,9]\n",
    "\n",
    "matrix = [lst1,lst2,lst3]\n",
    "matrix"
   ]
  },
  {
   "cell_type": "code",
   "execution_count": 303,
   "id": "a33940f8-93ea-415d-9307-4a6799dd843a",
   "metadata": {},
   "outputs": [
    {
     "data": {
      "text/plain": [
       "6"
      ]
     },
     "execution_count": 303,
     "metadata": {},
     "output_type": "execute_result"
    }
   ],
   "source": [
    "# picking element 6 from matrix\n",
    "matrix[1][2]"
   ]
  },
  {
   "cell_type": "code",
   "execution_count": 304,
   "id": "68b3ee1e-0949-4fcf-bc28-319b99d07eb7",
   "metadata": {},
   "outputs": [
    {
     "data": {
      "text/plain": [
       "[8, 9]"
      ]
     },
     "execution_count": 304,
     "metadata": {},
     "output_type": "execute_result"
    }
   ],
   "source": [
    "#picking 8,9 elements from matrix in same output\n",
    "matrix[2][1:]"
   ]
  },
  {
   "cell_type": "code",
   "execution_count": 311,
   "id": "17a197f2-2450-4946-bd88-64680d407261",
   "metadata": {},
   "outputs": [
    {
     "data": {
      "text/plain": [
       "[1, 2, 3]"
      ]
     },
     "execution_count": 311,
     "metadata": {},
     "output_type": "execute_result"
    }
   ],
   "source": [
    "#PICKING 1,4,7 from matrix\n",
    "matrix[0:][0]"
   ]
  },
  {
   "cell_type": "code",
   "execution_count": 309,
   "id": "b4109e1d-088a-440f-8735-1565ad171cf2",
   "metadata": {},
   "outputs": [
    {
     "data": {
      "text/plain": [
       "[[1, 2, 3], [4, 5, 6], [7, 8, 9]]"
      ]
     },
     "execution_count": 309,
     "metadata": {},
     "output_type": "execute_result"
    }
   ],
   "source": [
    "matrix[::]"
   ]
  },
  {
   "cell_type": "code",
   "execution_count": 310,
   "id": "cd9e2e5a-19b5-4413-870a-86b600ddbb9f",
   "metadata": {},
   "outputs": [
    {
     "data": {
      "text/plain": [
       "[[1, 2, 3], [4, 5, 6], [7, 8, 9]]"
      ]
     },
     "execution_count": 310,
     "metadata": {},
     "output_type": "execute_result"
    }
   ],
   "source": [
    "matrix[:]"
   ]
  },
  {
   "cell_type": "markdown",
   "id": "e786faa8-9197-4ad9-b901-935bca18366d",
   "metadata": {},
   "source": [
    "#List Comprehension"
   ]
  },
  {
   "cell_type": "code",
   "execution_count": 2,
   "id": "1d33b996-3b00-4c7a-8ad6-bd414ac36ef4",
   "metadata": {},
   "outputs": [
    {
     "data": {
      "text/plain": [
       "[0, 1, 2, 3, 4, 5, 6, 7, 8, 9, 10, 11, 12, 13, 14, 15, 16, 17, 18, 19]"
      ]
     },
     "execution_count": 2,
     "metadata": {},
     "output_type": "execute_result"
    }
   ],
   "source": [
    "[i for i in range(0,20,1)] #the output is a list"
   ]
  },
  {
   "cell_type": "code",
   "execution_count": 3,
   "id": "356564d3-3ec1-4f49-921b-26318dc12238",
   "metadata": {},
   "outputs": [
    {
     "data": {
      "text/plain": [
       "[0, 1, 2, 3, 4, 5, 6, 7, 8, 9, 10, 11, 12, 13, 14, 15, 16, 17, 18, 19]"
      ]
     },
     "execution_count": 3,
     "metadata": {},
     "output_type": "execute_result"
    }
   ],
   "source": [
    "[i for i in range(20)]"
   ]
  },
  {
   "cell_type": "code",
   "execution_count": 4,
   "id": "81a83c9b-2840-427c-be5e-ce04e43d72cf",
   "metadata": {},
   "outputs": [
    {
     "data": {
      "text/plain": [
       "[0, 2, 4, 6, 8, 10, 12, 14, 16, 18]"
      ]
     },
     "execution_count": 4,
     "metadata": {},
     "output_type": "execute_result"
    }
   ],
   "source": [
    "[i for i in range(0,20,2)] #-->for even numbers"
   ]
  },
  {
   "cell_type": "code",
   "execution_count": 5,
   "id": "048220d6-7276-44c5-ade5-e42ef61051c4",
   "metadata": {},
   "outputs": [
    {
     "data": {
      "text/plain": [
       "[0,\n",
       " 'ODD',\n",
       " 2,\n",
       " 'ODD',\n",
       " 4,\n",
       " 'ODD',\n",
       " 6,\n",
       " 'ODD',\n",
       " 8,\n",
       " 'ODD',\n",
       " 10,\n",
       " 'ODD',\n",
       " 12,\n",
       " 'ODD',\n",
       " 14,\n",
       " 'ODD',\n",
       " 16,\n",
       " 'ODD',\n",
       " 18,\n",
       " 'ODD']"
      ]
     },
     "execution_count": 5,
     "metadata": {},
     "output_type": "execute_result"
    }
   ],
   "source": [
    "[i if i%2 == 0 else \"ODD\" for i in range(20)] #--> for even numbers"
   ]
  },
  {
   "cell_type": "code",
   "execution_count": 1,
   "id": "fbf1465a-789d-42e0-90bf-7f7c648d80fb",
   "metadata": {},
   "outputs": [
    {
     "data": {
      "text/plain": [
       "[1, 2, 3, 4, 5, 6, 7, 8]"
      ]
     },
     "execution_count": 1,
     "metadata": {},
     "output_type": "execute_result"
    }
   ],
   "source": [
    "lst = [1,2,3,4,5,6,7,8]\n",
    "lst"
   ]
  },
  {
   "cell_type": "code",
   "execution_count": 2,
   "id": "d614cacc-8a19-4851-98ad-ce002a670d3e",
   "metadata": {},
   "outputs": [
    {
     "name": "stdout",
     "output_type": "stream",
     "text": [
      "20\n",
      "16\n"
     ]
    }
   ],
   "source": [
    "even_sum = odd_sum = 0\n",
    "for i in lst:\n",
    "    if i%2 == 0:\n",
    "        even_sum+=i\n",
    "    else:\n",
    "        odd_sum+=i\n",
    "print(even_sum)\n",
    "print(odd_sum)"
   ]
  },
  {
   "cell_type": "code",
   "execution_count": 6,
   "id": "8d032006-9155-4ef0-b420-72db04711319",
   "metadata": {},
   "outputs": [
    {
     "data": {
      "text/plain": [
       "[2, 4, 6, 8]"
      ]
     },
     "execution_count": 6,
     "metadata": {},
     "output_type": "execute_result"
    }
   ],
   "source": [
    "#The same above problem using list comprehension\n",
    "[num for num in lst if num%2 == 0]"
   ]
  },
  {
   "cell_type": "code",
   "execution_count": 8,
   "id": "2a09786a-51e2-4654-a72f-f36c3d74ae98",
   "metadata": {},
   "outputs": [
    {
     "data": {
      "text/plain": [
       "[1, 3, 5, 7]"
      ]
     },
     "execution_count": 8,
     "metadata": {},
     "output_type": "execute_result"
    }
   ],
   "source": [
    "[num for num in lst if num%2 != 0]"
   ]
  },
  {
   "cell_type": "code",
   "execution_count": 10,
   "id": "51d31d74-8cf5-40f7-9597-164e7c948469",
   "metadata": {},
   "outputs": [
    {
     "data": {
      "text/plain": [
       "20"
      ]
     },
     "execution_count": 10,
     "metadata": {},
     "output_type": "execute_result"
    }
   ],
   "source": [
    "even_sum = sum([num for num in lst if num%2 == 0])\n",
    "even_sum"
   ]
  },
  {
   "cell_type": "code",
   "execution_count": 12,
   "id": "98699149-b504-43d9-a8c1-3e1613ef58cb",
   "metadata": {},
   "outputs": [
    {
     "data": {
      "text/plain": [
       "16"
      ]
     },
     "execution_count": 12,
     "metadata": {},
     "output_type": "execute_result"
    }
   ],
   "source": [
    "odd_sum = sum([num for num in lst if num%2 != 0])\n",
    "odd_sum"
   ]
  },
  {
   "cell_type": "code",
   "execution_count": null,
   "id": "11c60d8c-312c-4ecb-9fdd-e21dcc170408",
   "metadata": {},
   "outputs": [],
   "source": [
    "lst = [1,2,3,4,5,6,7,8,9,10] #Find the square of all the numbers"
   ]
  },
  {
   "cell_type": "code",
   "execution_count": 19,
   "id": "457551db-7c19-4f94-90f7-540d5faca66a",
   "metadata": {},
   "outputs": [
    {
     "data": {
      "text/plain": [
       "[1, 4, 9, 16, 25, 36, 49, 64]"
      ]
     },
     "execution_count": 19,
     "metadata": {},
     "output_type": "execute_result"
    }
   ],
   "source": [
    "[num**2 for num in lst]\n"
   ]
  },
  {
   "cell_type": "code",
   "execution_count": 21,
   "id": "ea6973ff-1edf-4e55-b4f7-8458f3594dd7",
   "metadata": {},
   "outputs": [
    {
     "ename": "TypeError",
     "evalue": "'int' object is not callable",
     "output_type": "error",
     "traceback": [
      "\u001b[0;31m---------------------------------------------------------------------------\u001b[0m",
      "\u001b[0;31mTypeError\u001b[0m                                 Traceback (most recent call last)",
      "Cell \u001b[0;32mIn[21], line 2\u001b[0m\n\u001b[1;32m      1\u001b[0m lst \u001b[38;5;241m=\u001b[39m [\u001b[38;5;241m1\u001b[39m,\u001b[38;5;241m2\u001b[39m,\u001b[38;5;241m3\u001b[39m,\u001b[38;5;241m4\u001b[39m,\u001b[38;5;241m5\u001b[39m,\u001b[38;5;241m6\u001b[39m,\u001b[38;5;241m7\u001b[39m,\u001b[38;5;241m8\u001b[39m,\u001b[38;5;241m9\u001b[39m,\u001b[38;5;241m10\u001b[39m]\n\u001b[0;32m----> 2\u001b[0m sum_square \u001b[38;5;241m=\u001b[39m \u001b[38;5;28;43msum\u001b[39;49m\u001b[43m(\u001b[49m\u001b[43m[\u001b[49m\u001b[43mnum\u001b[49m\u001b[38;5;241;43m*\u001b[39;49m\u001b[38;5;241;43m*\u001b[39;49m\u001b[38;5;241;43m2\u001b[39;49m\u001b[43m \u001b[49m\u001b[38;5;28;43;01mfor\u001b[39;49;00m\u001b[43m \u001b[49m\u001b[43mnum\u001b[49m\u001b[43m \u001b[49m\u001b[38;5;129;43;01min\u001b[39;49;00m\u001b[43m \u001b[49m\u001b[43mlst\u001b[49m\u001b[43m]\u001b[49m\u001b[43m)\u001b[49m\n\u001b[1;32m      3\u001b[0m sum_square\n",
      "\u001b[0;31mTypeError\u001b[0m: 'int' object is not callable"
     ]
    }
   ],
   "source": [
    "\n",
    "sum_square = sum([num**2 for num in lst])\n",
    "sum_square"
   ]
  },
  {
   "cell_type": "code",
   "execution_count": 23,
   "id": "29e560cf-cddf-469b-961f-7a8cd550fe8e",
   "metadata": {},
   "outputs": [
    {
     "data": {
      "text/plain": [
       "[1, -5, 9, -4, 56]"
      ]
     },
     "execution_count": 23,
     "metadata": {},
     "output_type": "execute_result"
    }
   ],
   "source": [
    "lst = [1,-5,9,-4,56] \n",
    "lst\n",
    "#Extact only negative numbers from the given list"
   ]
  },
  {
   "cell_type": "code",
   "execution_count": 24,
   "id": "36ac5770-8950-462e-b1e6-f46bc40255e3",
   "metadata": {},
   "outputs": [
    {
     "data": {
      "text/plain": [
       "[-5, -4]"
      ]
     },
     "execution_count": 24,
     "metadata": {},
     "output_type": "execute_result"
    }
   ],
   "source": [
    "[num for num in lst if num < 0]"
   ]
  },
  {
   "cell_type": "code",
   "execution_count": 26,
   "id": "62d916f9-418a-491a-8772-0d7e9805bdd3",
   "metadata": {},
   "outputs": [
    {
     "data": {
      "text/plain": [
       "['a', 'b', 'c', 'd']"
      ]
     },
     "execution_count": 26,
     "metadata": {},
     "output_type": "execute_result"
    }
   ],
   "source": [
    "words = [\"apple\",\"banana\",\"cat\",\"dog\"]\n",
    "#extract the first letter of all the words into a new list in the given list\n",
    "[i[0] for i in words]"
   ]
  },
  {
   "cell_type": "code",
   "execution_count": 27,
   "id": "4950ffad-d627-4bd4-a65c-2b9efe93f6cc",
   "metadata": {},
   "outputs": [
    {
     "data": {
      "text/plain": [
       "[0, 10, 20, 30, 40, 50]"
      ]
     },
     "execution_count": 27,
     "metadata": {},
     "output_type": "execute_result"
    }
   ],
   "source": [
    "#convert the list of temperatures from celcius to fahrenheit\n",
    "lst = [0,10,20,30,40,50]\n",
    "lst"
   ]
  },
  {
   "cell_type": "code",
   "execution_count": 28,
   "id": "6622e743-5516-476d-b359-478a889744e2",
   "metadata": {},
   "outputs": [
    {
     "data": {
      "text/plain": [
       "[32.0, 50.0, 68.0, 86.0, 104.0, 122.0]"
      ]
     },
     "execution_count": 28,
     "metadata": {},
     "output_type": "execute_result"
    }
   ],
   "source": [
    "[(9/5)*i+32 for i in lst]"
   ]
  },
  {
   "cell_type": "code",
   "execution_count": 29,
   "id": "5530797f-32a3-42cc-bc69-7e447d8a5801",
   "metadata": {},
   "outputs": [
    {
     "data": {
      "text/plain": [
       "[[1, 2, 3], [4, 5, 6], [7, 8, 9]]"
      ]
     },
     "execution_count": 29,
     "metadata": {},
     "output_type": "execute_result"
    }
   ],
   "source": [
    "#Flatten the list of lists into a single list\n",
    "lst = [[1,2,3],[4,5,6],[7,8,9]]\n",
    "lst"
   ]
  },
  {
   "cell_type": "code",
   "execution_count": 43,
   "id": "652d891c-0295-43e0-9fd7-5eda9eb680b8",
   "metadata": {},
   "outputs": [
    {
     "data": {
      "text/plain": [
       "[1, 2, 3, 4, 5, 6, 7, 8, 9]"
      ]
     },
     "execution_count": 43,
     "metadata": {},
     "output_type": "execute_result"
    }
   ],
   "source": [
    "[j for i in lst for j in i]"
   ]
  },
  {
   "cell_type": "code",
   "execution_count": 44,
   "id": "2c5eb1b7-0743-47e0-9424-b6516b0ffb8d",
   "metadata": {},
   "outputs": [
    {
     "data": {
      "text/plain": [
       "[1, 2, 3, 4, 5]"
      ]
     },
     "execution_count": 44,
     "metadata": {},
     "output_type": "execute_result"
    }
   ],
   "source": [
    "#create a list of all possible combination of two numbers in given lst\n",
    "nums = [1,2,3,4,5]\n",
    "nums"
   ]
  },
  {
   "cell_type": "code",
   "execution_count": 46,
   "id": "2f0b41cc-2e76-4c15-9614-59716cf32a5a",
   "metadata": {},
   "outputs": [
    {
     "data": {
      "text/plain": [
       "[[1, 1],\n",
       " [1, 2],\n",
       " [1, 3],\n",
       " [1, 4],\n",
       " [1, 5],\n",
       " [2, 1],\n",
       " [2, 2],\n",
       " [2, 3],\n",
       " [2, 4],\n",
       " [2, 5],\n",
       " [3, 1],\n",
       " [3, 2],\n",
       " [3, 3],\n",
       " [3, 4],\n",
       " [3, 5],\n",
       " [4, 1],\n",
       " [4, 2],\n",
       " [4, 3],\n",
       " [4, 4],\n",
       " [4, 5],\n",
       " [5, 1],\n",
       " [5, 2],\n",
       " [5, 3],\n",
       " [5, 4],\n",
       " [5, 5]]"
      ]
     },
     "execution_count": 46,
     "metadata": {},
     "output_type": "execute_result"
    }
   ],
   "source": [
    "[[i,j] for i in nums for j in nums]"
   ]
  },
  {
   "cell_type": "code",
   "execution_count": 47,
   "id": "8e7f5198-cb01-4d2e-8c98-62306163ae1a",
   "metadata": {},
   "outputs": [
    {
     "data": {
      "text/plain": [
       "['a', 'e', 'i', 'o', 'u']"
      ]
     },
     "execution_count": 47,
     "metadata": {},
     "output_type": "execute_result"
    }
   ],
   "source": [
    "#insert function in list\n",
    "vow = [\"a\",\"e\",\"o\",\"u\"]\n",
    "vow.insert(2,\"i\")\n",
    "vow"
   ]
  },
  {
   "cell_type": "code",
   "execution_count": null,
   "id": "538c01cd-491d-436e-b2f0-9a2d0a779fe0",
   "metadata": {},
   "outputs": [],
   "source": []
  },
  {
   "cell_type": "code",
   "execution_count": null,
   "id": "dc2022b1-4751-4fa9-80ff-2a86742c6036",
   "metadata": {},
   "outputs": [],
   "source": []
  },
  {
   "cell_type": "code",
   "execution_count": null,
   "id": "862a5110-4933-4535-a309-171070c84352",
   "metadata": {},
   "outputs": [],
   "source": []
  },
  {
   "cell_type": "code",
   "execution_count": null,
   "id": "8378d1d8-aee2-4c01-bc6b-8ece2239c49f",
   "metadata": {},
   "outputs": [],
   "source": []
  },
  {
   "cell_type": "code",
   "execution_count": null,
   "id": "f6407c0e-d004-44cc-9a72-4ea3286105d9",
   "metadata": {},
   "outputs": [],
   "source": []
  },
  {
   "cell_type": "code",
   "execution_count": null,
   "id": "80ade57c-866d-4b90-b0b7-f6cf0f091bb8",
   "metadata": {},
   "outputs": [],
   "source": []
  },
  {
   "cell_type": "code",
   "execution_count": null,
   "id": "a82abdc4-badd-4703-a349-bf884f86d8d1",
   "metadata": {},
   "outputs": [],
   "source": []
  },
  {
   "cell_type": "code",
   "execution_count": null,
   "id": "fdd9428b-48a1-4f77-9054-55d01053aa73",
   "metadata": {},
   "outputs": [],
   "source": []
  },
  {
   "cell_type": "code",
   "execution_count": null,
   "id": "5514518a-e2e4-4ce9-8789-871245902278",
   "metadata": {},
   "outputs": [],
   "source": []
  },
  {
   "cell_type": "code",
   "execution_count": null,
   "id": "5260acf7-7e02-4b33-ac74-d6a804d6a874",
   "metadata": {},
   "outputs": [],
   "source": []
  }
 ],
 "metadata": {
  "kernelspec": {
   "display_name": "Python 3 (ipykernel)",
   "language": "python",
   "name": "python3"
  },
  "language_info": {
   "codemirror_mode": {
    "name": "ipython",
    "version": 3
   },
   "file_extension": ".py",
   "mimetype": "text/x-python",
   "name": "python",
   "nbconvert_exporter": "python",
   "pygments_lexer": "ipython3",
   "version": "3.10.8"
  }
 },
 "nbformat": 4,
 "nbformat_minor": 5
}
