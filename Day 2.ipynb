{
 "cells": [
  {
   "cell_type": "markdown",
   "id": "545cf56d-b456-4d2b-ba2c-5022ad0aa9c0",
   "metadata": {},
   "source": [
    "##DAY 2\n"
   ]
  },
  {
   "cell_type": "code",
   "execution_count": 2,
   "id": "46d0472b-c833-4d51-821a-43e3182fcc8a",
   "metadata": {},
   "outputs": [
    {
     "data": {
      "text/plain": [
       "str"
      ]
     },
     "execution_count": 2,
     "metadata": {},
     "output_type": "execute_result"
    }
   ],
   "source": [
    "a = 'v'\n",
    "type(a)"
   ]
  },
  {
   "cell_type": "code",
   "execution_count": null,
   "id": "5fa3c348-da52-4bac-b794-ff932b6902d6",
   "metadata": {},
   "outputs": [],
   "source": [
    "#in python no char datatype,eberything is string"
   ]
  },
  {
   "cell_type": "code",
   "execution_count": 3,
   "id": "9b32b68e-06a8-4013-a20c-70551ce9236d",
   "metadata": {},
   "outputs": [
    {
     "data": {
      "text/plain": [
       "0"
      ]
     },
     "execution_count": 3,
     "metadata": {},
     "output_type": "execute_result"
    }
   ],
   "source": [
    "int()"
   ]
  },
  {
   "cell_type": "code",
   "execution_count": 4,
   "id": "ee5adbd2-0ca5-4cab-990b-c26d26a5f8b1",
   "metadata": {},
   "outputs": [
    {
     "name": "stdout",
     "output_type": "stream",
     "text": [
      "My age is :-  18\n"
     ]
    }
   ],
   "source": [
    "age = 18\n",
    "print(\"My age is :- \",age)"
   ]
  },
  {
   "cell_type": "code",
   "execution_count": 5,
   "id": "dba8a4b7-9e7a-4dd0-a078-6610119fda30",
   "metadata": {},
   "outputs": [
    {
     "name": "stdout",
     "output_type": "stream",
     "text": [
      "My age is {age}\n"
     ]
    }
   ],
   "source": [
    "#another way\n",
    "print(\"My age is {age}\") #doesnot work"
   ]
  },
  {
   "cell_type": "code",
   "execution_count": 6,
   "id": "7f2f3145-13f9-428c-8d49-cbfc6ad9fc25",
   "metadata": {},
   "outputs": [
    {
     "name": "stdout",
     "output_type": "stream",
     "text": [
      "My age is 18\n"
     ]
    }
   ],
   "source": [
    "print(f\"My age is {age}\") #f--->formatting,this works"
   ]
  },
  {
   "cell_type": "code",
   "execution_count": 7,
   "id": "5d6150a9-f0b8-412d-9684-a1830caaaa9d",
   "metadata": {},
   "outputs": [
    {
     "name": "stdout",
     "output_type": "stream",
     "text": [
      "My name is Nik and age is 19\n"
     ]
    }
   ],
   "source": [
    "name = \"Nik\"\n",
    "age = 19\n",
    "print(f\"My name is {name} and age is {age}\")"
   ]
  },
  {
   "cell_type": "code",
   "execution_count": 8,
   "id": "f68b643e-7309-42dc-97b8-a66b87f9e251",
   "metadata": {},
   "outputs": [
    {
     "name": "stdout",
     "output_type": "stream",
     "text": [
      "My name is Nik and age is 19\n"
     ]
    }
   ],
   "source": [
    "#Using format function\n",
    "print(\"My name is {} and age is {}\".format(name,age))"
   ]
  },
  {
   "cell_type": "code",
   "execution_count": 9,
   "id": "d4e12f97-4937-420d-ab73-154eb1e28945",
   "metadata": {},
   "outputs": [
    {
     "name": "stdout",
     "output_type": "stream",
     "text": [
      "My name is 19 and age is Nik\n"
     ]
    }
   ],
   "source": [
    "#vulta-->It works\n",
    "print(\"My name is {} and age is {}\".format(age,name))"
   ]
  },
  {
   "cell_type": "code",
   "execution_count": 11,
   "id": "20078402-7762-4a07-aa23-f13eba1a1517",
   "metadata": {},
   "outputs": [
    {
     "name": "stdout",
     "output_type": "stream",
     "text": [
      "My name is Nik and age is 19\n"
     ]
    }
   ],
   "source": [
    "#Using placeholder concept for avoiding confusion in order of arguments in format function\n",
    "print(\"My name is {firstname} and age is {firstage}\".format(firstage=age,firstname=name))\n",
    "#check the order of arguments in format function in the above print statement "
   ]
  },
  {
   "cell_type": "code",
   "execution_count": 12,
   "id": "7064b25e-aeea-40de-8c3d-63e10942275d",
   "metadata": {},
   "outputs": [
    {
     "name": "stdin",
     "output_type": "stream",
     "text": [
      " Nikith\n"
     ]
    },
    {
     "data": {
      "text/plain": [
       "'Nikith'"
      ]
     },
     "execution_count": 12,
     "metadata": {},
     "output_type": "execute_result"
    }
   ],
   "source": [
    "input() ##compiling empty input() function"
   ]
  },
  {
   "cell_type": "code",
   "execution_count": 13,
   "id": "2daa73be-0cc8-4e76-9cbe-a8c6c54e0862",
   "metadata": {},
   "outputs": [
    {
     "name": "stdin",
     "output_type": "stream",
     "text": [
      "Enter your name Nikith Pinni\n"
     ]
    }
   ],
   "source": [
    "name = input(\"Enter your name\")"
   ]
  },
  {
   "cell_type": "code",
   "execution_count": 14,
   "id": "d38adccf-7e4c-4119-86f3-3f8c04365c28",
   "metadata": {},
   "outputs": [
    {
     "data": {
      "text/plain": [
       "'Nikith Pinni'"
      ]
     },
     "execution_count": 14,
     "metadata": {},
     "output_type": "execute_result"
    }
   ],
   "source": [
    "name"
   ]
  },
  {
   "cell_type": "code",
   "execution_count": 21,
   "id": "e4c410d8-f59a-4d27-9585-d60d47e5dd78",
   "metadata": {},
   "outputs": [
    {
     "name": "stdin",
     "output_type": "stream",
     "text": [
      "Enter your age :  25\n"
     ]
    },
    {
     "name": "stdout",
     "output_type": "stream",
     "text": [
      "You are young blood\n"
     ]
    }
   ],
   "source": [
    "#live class task\n",
    "age = int(input(\"Enter your age : \"))\n",
    "if age >= 18 and age <= 32:\n",
    "    print(\"You are young blood\")"
   ]
  },
  {
   "cell_type": "code",
   "execution_count": 24,
   "id": "16b294f6-093a-42e0-a11e-564f549cfab2",
   "metadata": {},
   "outputs": [
    {
     "name": "stdin",
     "output_type": "stream",
     "text": [
      "Enter your age :  47\n"
     ]
    },
    {
     "name": "stdout",
     "output_type": "stream",
     "text": [
      "Your application is rejected\n"
     ]
    }
   ],
   "source": [
    "#if else statement\n",
    "age = int(input(\"Enter your age : \"))\n",
    "if age >= 18 and age <= 32:\n",
    "    print(\"You are young blood\")\n",
    "else:\n",
    "    print(\"Your application is rejected\")\n"
   ]
  },
  {
   "cell_type": "code",
   "execution_count": 1,
   "id": "f71f0cae-78dc-4dc4-a931-75479948b03c",
   "metadata": {},
   "outputs": [],
   "source": [
    "#if -elif ladder and nested if "
   ]
  },
  {
   "cell_type": "code",
   "execution_count": 5,
   "id": "27c1df8c-14fc-45a1-86c9-5d6d43dc0b9b",
   "metadata": {},
   "outputs": [
    {
     "name": "stdin",
     "output_type": "stream",
     "text": [
      "Enter the price 25\n"
     ]
    },
    {
     "name": "stdout",
     "output_type": "stream",
     "text": [
      "The price is less than 500\n"
     ]
    }
   ],
   "source": [
    "price = int(input(\"Enter the price\"))\n",
    "if price >= 1000:\n",
    "    print(\"The price is greater than or equal to 1000\")\n",
    "elif price >= 500 and price < 1000:\n",
    "    if price == 666:\n",
    "        print(\"The price is 666\")\n",
    "    print(\"The price is greater than or equal to 500 and less than 1000\")\n",
    "else:\n",
    "    print(\"The price is less than 500\")"
   ]
  },
  {
   "cell_type": "code",
   "execution_count": 6,
   "id": "51dd365a-418b-42f1-a478-78d754edd62e",
   "metadata": {},
   "outputs": [
    {
     "name": "stdin",
     "output_type": "stream",
     "text": [
      "Enter joining age 25\n"
     ]
    },
    {
     "name": "stdout",
     "output_type": "stream",
     "text": [
      "25\n",
      "26\n",
      "27\n",
      "28\n",
      "29\n",
      "30\n",
      "31\n",
      "32\n",
      "33\n",
      "34\n",
      "35\n",
      "36\n",
      "37\n",
      "38\n",
      "39\n",
      "40\n",
      "41\n",
      "42\n",
      "43\n",
      "44\n",
      "45\n",
      "46\n",
      "47\n",
      "48\n",
      "49\n",
      "50\n",
      "51\n",
      "52\n",
      "53\n",
      "54\n",
      "55\n",
      "56\n",
      "57\n",
      "58\n",
      "59\n",
      "60\n",
      "Congrats on your retirement\n"
     ]
    }
   ],
   "source": [
    "joining_age = int(input(\"Enter joining age\"))\n",
    "while joining_age <= 60:\n",
    "    print(joining_age)\n",
    "    joining_age+=1\n",
    "else:\n",
    "    print(\"Congrats on your retirement\")"
   ]
  },
  {
   "cell_type": "markdown",
   "id": "9d26b07b-2a73-4e66-bc9f-36708022aae9",
   "metadata": {},
   "source": [
    "#List in python"
   ]
  },
  {
   "cell_type": "code",
   "execution_count": 7,
   "id": "7a16f8a1-0420-43af-9a69-d716007a7631",
   "metadata": {},
   "outputs": [],
   "source": [
    "lst = [\"Nikith\",1,2,3,3.5,\"Apple\"]"
   ]
  },
  {
   "cell_type": "code",
   "execution_count": 8,
   "id": "122f8f4d-d8b6-4d4e-a15d-219743dfe2a4",
   "metadata": {},
   "outputs": [
    {
     "data": {
      "text/plain": [
       "list"
      ]
     },
     "execution_count": 8,
     "metadata": {},
     "output_type": "execute_result"
    }
   ],
   "source": [
    "type(lst)"
   ]
  },
  {
   "cell_type": "code",
   "execution_count": 9,
   "id": "4e4274d2-1c19-40e1-aa41-5562b420a044",
   "metadata": {},
   "outputs": [
    {
     "data": {
      "text/plain": [
       "'Nikith'"
      ]
     },
     "execution_count": 9,
     "metadata": {},
     "output_type": "execute_result"
    }
   ],
   "source": [
    "lst[0]"
   ]
  },
  {
   "cell_type": "code",
   "execution_count": 10,
   "id": "b01ce7ce-20a6-47c4-896a-dea42260e6cd",
   "metadata": {},
   "outputs": [
    {
     "data": {
      "text/plain": [
       "3.5"
      ]
     },
     "execution_count": 10,
     "metadata": {},
     "output_type": "execute_result"
    }
   ],
   "source": [
    "lst[4]"
   ]
  },
  {
   "cell_type": "code",
   "execution_count": 12,
   "id": "5763d9a7-5f2e-45fa-b9fe-72e1352dca37",
   "metadata": {},
   "outputs": [],
   "source": [
    "#iterating through lst using while loop"
   ]
  },
  {
   "cell_type": "code",
   "execution_count": 15,
   "id": "adb8e941-4710-48ec-8ec2-970561b256e4",
   "metadata": {},
   "outputs": [
    {
     "name": "stdout",
     "output_type": "stream",
     "text": [
      "Nikith\n",
      "1\n",
      "2\n",
      "3\n",
      "3.5\n",
      "Apple\n"
     ]
    }
   ],
   "source": [
    "i = 0\n",
    "while(i <= 5):\n",
    "    print(lst[i])\n",
    "    i+=1"
   ]
  },
  {
   "cell_type": "code",
   "execution_count": 16,
   "id": "a1e6c2ae-c8e9-42be-adde-b336785df61a",
   "metadata": {},
   "outputs": [],
   "source": [
    "#For Loop in python"
   ]
  },
  {
   "cell_type": "code",
   "execution_count": 17,
   "id": "6721f57c-e22a-45fd-8322-2567b32c2954",
   "metadata": {},
   "outputs": [
    {
     "name": "stdout",
     "output_type": "stream",
     "text": [
      "Nikith\n",
      "1\n",
      "2\n",
      "3\n",
      "3.5\n",
      "Apple\n"
     ]
    }
   ],
   "source": [
    "for x in lst:\n",
    "    print(x)"
   ]
  },
  {
   "cell_type": "code",
   "execution_count": 25,
   "id": "cb7b90e0-4741-485b-a7d2-5d4652552a7f",
   "metadata": {},
   "outputs": [
    {
     "data": {
      "text/plain": [
       "'Banana'"
      ]
     },
     "execution_count": 25,
     "metadata": {},
     "output_type": "execute_result"
    }
   ],
   "source": [
    "fruit_list = [\"Apple\",\"Banana\",\"Cherry\",\"Guava\",\"Pineapple\"]\n",
    "fruit_list[1]"
   ]
  },
  {
   "cell_type": "code",
   "execution_count": 27,
   "id": "5b5db3f1-db67-4d21-87aa-99ef5ef85f0e",
   "metadata": {},
   "outputs": [
    {
     "name": "stdout",
     "output_type": "stream",
     "text": [
      "Apple\n",
      "Banana\n",
      "Cherry\n",
      "Guava\n",
      "Pineapple\n"
     ]
    }
   ],
   "source": [
    "fruit_list = [\"Apple\",\"Banana\",\"Cherry\",\"Guava\",\"Pineapple\"]\n",
    "\n",
    "for a in fruit_list:\n",
    "    print(a)"
   ]
  },
  {
   "cell_type": "code",
   "execution_count": 28,
   "id": "8d630620-cfee-4eb5-be48-c398bf38f816",
   "metadata": {},
   "outputs": [
    {
     "name": "stdout",
     "output_type": "stream",
     "text": [
      "Apple Banana Cherry Guava Pineapple "
     ]
    }
   ],
   "source": [
    "#Printing side by side\n",
    "fruit_list = [\"Apple\",\"Banana\",\"Cherry\",\"Guava\",\"Pineapple\"]\n",
    "\n",
    "for a in fruit_list:\n",
    "    print(a,end = \" \")"
   ]
  },
  {
   "cell_type": "code",
   "execution_count": 30,
   "id": "a7317c89-6807-424b-8234-d8386d1acadc",
   "metadata": {},
   "outputs": [
    {
     "name": "stdout",
     "output_type": "stream",
     "text": [
      "N\n",
      "i\n",
      "k\n",
      "i\n",
      "t\n",
      "h\n"
     ]
    }
   ],
   "source": [
    "#String is also a collection of elements in python\n",
    "str = \"Nikith\"\n",
    "for x in str:\n",
    "    print(x)"
   ]
  },
  {
   "cell_type": "code",
   "execution_count": 32,
   "id": "107258b4-3420-4bd8-9566-242349883912",
   "metadata": {},
   "outputs": [
    {
     "data": {
      "text/plain": [
       "'i'"
      ]
     },
     "execution_count": 32,
     "metadata": {},
     "output_type": "execute_result"
    }
   ],
   "source": [
    "str[3]"
   ]
  },
  {
   "cell_type": "code",
   "execution_count": 33,
   "id": "819d6620-def6-42b4-a7dc-1815c48f7bbb",
   "metadata": {},
   "outputs": [
    {
     "name": "stdout",
     "output_type": "stream",
     "text": [
      "N\ti\tk\ti\tt\th\t"
     ]
    }
   ],
   "source": [
    "#String is also a collection of elements in python\n",
    "str = \"Nikith\"\n",
    "for x in str:\n",
    "    print(x,end = \"\\t\")"
   ]
  },
  {
   "cell_type": "code",
   "execution_count": null,
   "id": "8449a837-4fe4-41e6-a1dd-2fb5f1f470ee",
   "metadata": {},
   "outputs": [],
   "source": [
    "#Range function in python\n",
    "range(start_step,end_step,step_size)\n",
    "# here start_step-->Included and end_step--->not included\n",
    "#Default argument of range function is the 3rd argument that is step size = 1"
   ]
  },
  {
   "cell_type": "code",
   "execution_count": 34,
   "id": "55c0704e-e2e4-4352-b353-c856cd4f63aa",
   "metadata": {},
   "outputs": [
    {
     "name": "stdout",
     "output_type": "stream",
     "text": [
      "i = 5\n",
      "i = 6\n",
      "i = 7\n",
      "i = 8\n",
      "i = 9\n",
      "i = 10\n",
      "i = 11\n",
      "i = 12\n",
      "i = 13\n",
      "i = 14\n"
     ]
    }
   ],
   "source": [
    "# integrating range function into for loop\n",
    "for i in range(5,15):\n",
    "    print(f\"i = {i}\")"
   ]
  },
  {
   "cell_type": "code",
   "execution_count": 38,
   "id": "39b276a8-8576-4a69-bab4-227e960a37eb",
   "metadata": {},
   "outputs": [
    {
     "name": "stdout",
     "output_type": "stream",
     "text": [
      "i = 5\n",
      "i = 8\n",
      "i = 11\n",
      "i = 14\n"
     ]
    }
   ],
   "source": [
    "for i in range(5,15,3):\n",
    "    print(f\"i = {i}\")"
   ]
  },
  {
   "cell_type": "code",
   "execution_count": 39,
   "id": "9c4acd72-95a5-49f1-a849-3038ee02467a",
   "metadata": {},
   "outputs": [
    {
     "name": "stdout",
     "output_type": "stream",
     "text": [
      "*\n",
      "**\n",
      "***\n",
      "****\n",
      "*****\n",
      "******\n",
      "*******\n"
     ]
    }
   ],
   "source": [
    "#nested for loop in python\n",
    "n = 7\n",
    "for i in range(0,n):\n",
    "    for j in range(0,i+1):\n",
    "        print(\"*\",end = \"\")\n",
    "    print(\"\\r\")\n",
    "# \\r-->goes towards leftmost side as shown in the diagram"
   ]
  },
  {
   "cell_type": "code",
   "execution_count": 42,
   "id": "47132fea-d322-42b4-8432-ab6b43e37425",
   "metadata": {},
   "outputs": [
    {
     "name": "stdout",
     "output_type": "stream",
     "text": [
      "*\n",
      "\n",
      "**\n",
      "\n",
      "***\n",
      "\n",
      "****\n",
      "\n",
      "*****\n",
      "\n",
      "******\n",
      "\n",
      "*******\n",
      "\n"
     ]
    }
   ],
   "source": [
    "n = 7\n",
    "for i in range(0,n):\n",
    "    for j in range(0,i+1):\n",
    "        print(\"*\",end = \"\")\n",
    "    print(\"\\n\")\n",
    "# diff between \\n and \\r in python"
   ]
  },
  {
   "cell_type": "code",
   "execution_count": 52,
   "id": "a1528c24-a039-423b-a802-aba974214a6c",
   "metadata": {},
   "outputs": [
    {
     "name": "stdout",
     "output_type": "stream",
     "text": [
      "Apple\n",
      "Banana\n",
      "The fruit is Cherry,break applied\n"
     ]
    }
   ],
   "source": [
    "#Loop Control Statements in python\n",
    "#break\n",
    "fruit_list = [\"Apple\",\"Banana\",\"Cherry\",\"Guava\",\"Pineapple\"]\n",
    "for i in fruit_list:\n",
    "    if i == \"Cherry\":\n",
    "        print(\"The fruit is Cherry,break applied\")\n",
    "        break\n",
    "    print(i)"
   ]
  },
  {
   "cell_type": "code",
   "execution_count": 57,
   "id": "0e06c0cd-3eb1-42bb-8400-1c270f246cee",
   "metadata": {},
   "outputs": [
    {
     "name": "stdout",
     "output_type": "stream",
     "text": [
      "Apple\n",
      "Banana\n",
      "The fruit is Cherry,break applied\n",
      "Cherry\n",
      "Guava\n",
      "Pineapple\n"
     ]
    }
   ],
   "source": [
    "#Loop Control Statements in python\n",
    "#pass------>nothing happens\n",
    "fruit_list = [\"Apple\",\"Banana\",\"Cherry\",\"Guava\",\"Pineapple\"]\n",
    "for i in fruit_list:\n",
    "    if i == \"Cherry\":\n",
    "        print(\"The fruit is Cherry,pass applied\")\n",
    "        pass\n",
    "    print(i)"
   ]
  },
  {
   "cell_type": "code",
   "execution_count": 60,
   "id": "fcaa9726-3884-412c-84cc-39985c4b2397",
   "metadata": {},
   "outputs": [
    {
     "name": "stdout",
     "output_type": "stream",
     "text": [
      "Apple\n",
      "Banana\n",
      "The fruit is Cherry,continue applied\n",
      "Guava\n",
      "Pineapple\n"
     ]
    }
   ],
   "source": [
    "#Loop Control Statements in python\n",
    "#continue\n",
    "fruit_list = [\"Apple\",\"Banana\",\"Cherry\",\"Guava\",\"Pineapple\"]\n",
    "for i in fruit_list:\n",
    "    if i == \"Cherry\":\n",
    "        print(\"The fruit is Cherry,continue applied\")\n",
    "        continue\n",
    "    print(i)"
   ]
  },
  {
   "cell_type": "code",
   "execution_count": null,
   "id": "45d2e06b-f487-46f1-9ad1-13bf65ba2902",
   "metadata": {},
   "outputs": [],
   "source": []
  }
 ],
 "metadata": {
  "kernelspec": {
   "display_name": "Python 3 (ipykernel)",
   "language": "python",
   "name": "python3"
  },
  "language_info": {
   "codemirror_mode": {
    "name": "ipython",
    "version": 3
   },
   "file_extension": ".py",
   "mimetype": "text/x-python",
   "name": "python",
   "nbconvert_exporter": "python",
   "pygments_lexer": "ipython3",
   "version": "3.10.8"
  }
 },
 "nbformat": 4,
 "nbformat_minor": 5
}
