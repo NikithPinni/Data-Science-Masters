{
 "cells": [
  {
   "cell_type": "code",
   "execution_count": null,
   "id": "824f4866-9c10-4619-b672-e57376025843",
   "metadata": {},
   "outputs": [],
   "source": [
    "#OOPS"
   ]
  },
  {
   "cell_type": "code",
   "execution_count": 1,
   "id": "46cfecf2-c669-45be-8c88-b1552d98d3eb",
   "metadata": {},
   "outputs": [
    {
     "ename": "SyntaxError",
     "evalue": "incomplete input (3527747674.py, line 1)",
     "output_type": "error",
     "traceback": [
      "\u001b[0;36m  Cell \u001b[0;32mIn[1], line 1\u001b[0;36m\u001b[0m\n\u001b[0;31m    class test:\u001b[0m\n\u001b[0m               ^\u001b[0m\n\u001b[0;31mSyntaxError\u001b[0m\u001b[0;31m:\u001b[0m incomplete input\n"
     ]
    }
   ],
   "source": [
    "class test:"
   ]
  },
  {
   "cell_type": "code",
   "execution_count": 3,
   "id": "76c3419d-05c8-4865-afad-2ea8699b7f52",
   "metadata": {},
   "outputs": [],
   "source": [
    "class test:\n",
    "    pass\n",
    "#raises no error"
   ]
  },
  {
   "cell_type": "code",
   "execution_count": 4,
   "id": "7acf22e3-605b-4e2e-a5ca-f4038c6aa7d5",
   "metadata": {},
   "outputs": [],
   "source": [
    "a = test()"
   ]
  },
  {
   "cell_type": "code",
   "execution_count": 5,
   "id": "42924198-5eb3-4365-b29e-6d99710de8e5",
   "metadata": {},
   "outputs": [
    {
     "data": {
      "text/plain": [
       "__main__.test"
      ]
     },
     "execution_count": 5,
     "metadata": {},
     "output_type": "execute_result"
    }
   ],
   "source": [
    "type(a)\n",
    "#a variable belongs to type of class \"test\",check output\n",
    "# nothing but a is object,instance or variable of class test"
   ]
  },
  {
   "cell_type": "code",
   "execution_count": 6,
   "id": "d9728c4e-b5bf-43ac-b87a-23983747d0ac",
   "metadata": {},
   "outputs": [
    {
     "name": "stdout",
     "output_type": "stream",
     "text": [
      "<class '__main__.test'>\n"
     ]
    }
   ],
   "source": [
    "print(type(a))\n",
    "#a variable belongs to type of class \"test\",check output"
   ]
  },
  {
   "cell_type": "code",
   "execution_count": 10,
   "id": "91492799-ac5e-4ff3-ae08-3120b29a7b53",
   "metadata": {},
   "outputs": [],
   "source": [
    "class pwskills:\n",
    "    def welcome_msg():\n",
    "        print(\"Welcome to PWSkills\")\n",
    "    "
   ]
  },
  {
   "cell_type": "code",
   "execution_count": 11,
   "id": "294a6b85-a577-4055-8331-6c73b66e5764",
   "metadata": {},
   "outputs": [
    {
     "ename": "TypeError",
     "evalue": "pwskills.welcome_msg() takes 0 positional arguments but 1 was given",
     "output_type": "error",
     "traceback": [
      "\u001b[0;31m---------------------------------------------------------------------------\u001b[0m",
      "\u001b[0;31mTypeError\u001b[0m                                 Traceback (most recent call last)",
      "Cell \u001b[0;32mIn[11], line 2\u001b[0m\n\u001b[1;32m      1\u001b[0m rohan \u001b[38;5;241m=\u001b[39m pwskills()\n\u001b[0;32m----> 2\u001b[0m \u001b[43mrohan\u001b[49m\u001b[38;5;241;43m.\u001b[39;49m\u001b[43mwelcome_msg\u001b[49m\u001b[43m(\u001b[49m\u001b[43m)\u001b[49m\n",
      "\u001b[0;31mTypeError\u001b[0m: pwskills.welcome_msg() takes 0 positional arguments but 1 was given"
     ]
    }
   ],
   "source": [
    "rohan = pwskills()\n",
    "rohan.welcome_msg()\n",
    "\"\"\"why gives error,in python when ever you define function in the class ,you should pass 'self' keyword as \n",
    "argument so that ,that particular class will understand that the function belongs to it\"\"\""
   ]
  },
  {
   "cell_type": "code",
   "execution_count": 12,
   "id": "f095a2ef-ca88-49d1-a808-c7a26c082032",
   "metadata": {},
   "outputs": [],
   "source": [
    "class pwskills:\n",
    "    def welcome_msg(self):\n",
    "        print(\"Welcome to PWSkills\")\n",
    "    "
   ]
  },
  {
   "cell_type": "code",
   "execution_count": 13,
   "id": "355fcd71-f081-471a-a312-efe398b7542c",
   "metadata": {},
   "outputs": [
    {
     "name": "stdout",
     "output_type": "stream",
     "text": [
      "Welcome to PWSkills\n"
     ]
    }
   ],
   "source": [
    "rohan = pwskills()\n",
    "rohan.welcome_msg()"
   ]
  },
  {
   "cell_type": "code",
   "execution_count": 14,
   "id": "10b5c32f-1801-4d0b-8244-88a14cf4738f",
   "metadata": {},
   "outputs": [
    {
     "name": "stdout",
     "output_type": "stream",
     "text": [
      "Welcome to PWSkills\n"
     ]
    }
   ],
   "source": [
    "sohan = pwskills()\n",
    "sohan.welcome_msg()\n",
    "# rohan and sohan are objects of the class pwskills"
   ]
  },
  {
   "cell_type": "code",
   "execution_count": 29,
   "id": "3c995d05-0839-4719-bf5e-7a0cbd8920e2",
   "metadata": {},
   "outputs": [],
   "source": [
    "class pwskills1:\n",
    "    def __init__(self,phno,email,idno):\n",
    "        self.phno = phno\n",
    "        self.email = email\n",
    "        self.idno = idno\n",
    "        \n",
    "    def print_details(self):\n",
    "        return self.phno,self.email,self.idno\n",
    "    \n",
    "    # whenever you use datamembers of particular class in another method other than \n",
    "    # consructor you should acces them by self.data_member"
   ]
  },
  {
   "cell_type": "code",
   "execution_count": null,
   "id": "32eebd92-a935-4527-be90-06dffa187795",
   "metadata": {},
   "outputs": [],
   "source": [
    "#__init__ is the constructor in python"
   ]
  },
  {
   "cell_type": "code",
   "execution_count": 39,
   "id": "63f0c08c-e1b9-4334-819d-47fb4cc5eebc",
   "metadata": {},
   "outputs": [],
   "source": [
    "rohan = pwskills1(100,\"r@gmail.com\",1)"
   ]
  },
  {
   "cell_type": "code",
   "execution_count": 40,
   "id": "2996b83e-da71-452c-bb53-5b0d6daed76b",
   "metadata": {},
   "outputs": [
    {
     "data": {
      "text/plain": [
       "(100, 'r@gmail.com', 1)"
      ]
     },
     "execution_count": 40,
     "metadata": {},
     "output_type": "execute_result"
    }
   ],
   "source": [
    "rohan.print_details()"
   ]
  },
  {
   "cell_type": "code",
   "execution_count": 32,
   "id": "331cc383-c6d6-458b-b5cb-9d6e30691576",
   "metadata": {},
   "outputs": [],
   "source": [
    "sohan = pwskills1(101,\"s@gmail.com\",2)"
   ]
  },
  {
   "cell_type": "code",
   "execution_count": 33,
   "id": "18ae8c79-4fb8-40e2-956b-5f59a8cc4594",
   "metadata": {},
   "outputs": [
    {
     "data": {
      "text/plain": [
       "(101, 's@gmail.com', 2)"
      ]
     },
     "execution_count": 33,
     "metadata": {},
     "output_type": "execute_result"
    }
   ],
   "source": [
    "sohan.print_details()"
   ]
  },
  {
   "cell_type": "code",
   "execution_count": 42,
   "id": "0ab9d02d-dc4a-45ad-a384-6b8e19f5b4e9",
   "metadata": {},
   "outputs": [
    {
     "data": {
      "text/plain": [
       "101"
      ]
     },
     "execution_count": 42,
     "metadata": {},
     "output_type": "execute_result"
    }
   ],
   "source": [
    "sohan.phno"
   ]
  },
  {
   "cell_type": "code",
   "execution_count": 41,
   "id": "bcf0d418-cc64-4ad2-afe9-148daaaa0ccf",
   "metadata": {},
   "outputs": [
    {
     "data": {
      "text/plain": [
       "'r@gmail.com'"
      ]
     },
     "execution_count": 41,
     "metadata": {},
     "output_type": "execute_result"
    }
   ],
   "source": [
    "rohan.email"
   ]
  },
  {
   "cell_type": "code",
   "execution_count": null,
   "id": "2acff8a8-5675-488e-b727-810dadb4ccc5",
   "metadata": {},
   "outputs": [],
   "source": [
    "# multiple returning in the function of python will give output in the form of tuple\n",
    "# ***************IMP***************"
   ]
  },
  {
   "cell_type": "code",
   "execution_count": 44,
   "id": "9c583d75-b2a3-401c-971a-92aa9899ac50",
   "metadata": {},
   "outputs": [],
   "source": [
    "class pwskills2:\n",
    "    def __init__(nik,phno,email,idno):\n",
    "        nik.phno = phno\n",
    "        nik.email = email\n",
    "        nik.idno = idno\n",
    "        \n",
    "    def print_details(nik):\n",
    "        return nik.phno,nik.email,nik.idno\n",
    "    \n",
    "    # whenever you use datamembers of particular class in another method other than \n",
    "    # consructor you should acces them by self.data_member\n",
    "    # not only self you can  use any other word as well-->here I used nik as self"
   ]
  },
  {
   "cell_type": "code",
   "execution_count": 45,
   "id": "f219874d-acd5-49a1-ab95-9aae4aacbf33",
   "metadata": {},
   "outputs": [],
   "source": [
    "mohan = pwskills2(103,\"m@gmail.com\",3)"
   ]
  },
  {
   "cell_type": "code",
   "execution_count": 46,
   "id": "bc90c2c7-770a-4702-8ce0-756eeb9c2188",
   "metadata": {},
   "outputs": [
    {
     "data": {
      "text/plain": [
       "(103, 'm@gmail.com', 3)"
      ]
     },
     "execution_count": 46,
     "metadata": {},
     "output_type": "execute_result"
    }
   ],
   "source": [
    "mohan.print_details()"
   ]
  },
  {
   "cell_type": "code",
   "execution_count": 63,
   "id": "7fe6e6a3-1f4c-4331-af4b-9c2582a485f9",
   "metadata": {},
   "outputs": [],
   "source": [
    "class pwskills3:\n",
    "    \n",
    "    def __init__(sudh ,phone_number , email_id, student_id ):\n",
    "        \n",
    "        sudh.phone_number1 = phone_number\n",
    "        sudh.email_id = email_id\n",
    "        sudh.student_id = student_id\n",
    "        \n",
    "    \n",
    "    def print_detials(sudh):\n",
    "        return sudh.phone_number1, sudh.email_id , sudh.student_id"
   ]
  },
  {
   "cell_type": "code",
   "execution_count": 48,
   "id": "38eea93c-39de-4210-bf44-2c870602fa44",
   "metadata": {},
   "outputs": [],
   "source": [
    "kalan = pwskills3(104,\"k@gmail.com\",4)"
   ]
  },
  {
   "cell_type": "code",
   "execution_count": 59,
   "id": "7b7f4c08-8fa5-4193-82bb-58c9826acb58",
   "metadata": {},
   "outputs": [
    {
     "ename": "AttributeError",
     "evalue": "'pwskills3' object has no attribute 'phone_number'",
     "output_type": "error",
     "traceback": [
      "\u001b[0;31m---------------------------------------------------------------------------\u001b[0m",
      "\u001b[0;31mAttributeError\u001b[0m                            Traceback (most recent call last)",
      "Cell \u001b[0;32mIn[59], line 1\u001b[0m\n\u001b[0;32m----> 1\u001b[0m \u001b[43mkalan\u001b[49m\u001b[38;5;241;43m.\u001b[39;49m\u001b[43mphone_number\u001b[49m\n",
      "\u001b[0;31mAttributeError\u001b[0m: 'pwskills3' object has no attribute 'phone_number'"
     ]
    }
   ],
   "source": [
    "kalan.phone_number"
   ]
  },
  {
   "cell_type": "code",
   "execution_count": 60,
   "id": "b40d5caa-a59d-460e-97e8-c7553c03af47",
   "metadata": {},
   "outputs": [
    {
     "data": {
      "text/plain": [
       "104"
      ]
     },
     "execution_count": 60,
     "metadata": {},
     "output_type": "execute_result"
    }
   ],
   "source": [
    "kalan.phone_number1"
   ]
  },
  {
   "cell_type": "code",
   "execution_count": null,
   "id": "941eecc2-7058-43eb-94f3-b23f273134bb",
   "metadata": {},
   "outputs": [],
   "source": [
    "'''From the above code snippets it is understood that \n",
    "in the constructor the class can understand only LHS datamembers names but not RHS names'''"
   ]
  },
  {
   "cell_type": "code",
   "execution_count": 62,
   "id": "b72283ca-79ed-4d06-9fdb-e1902d75ce90",
   "metadata": {},
   "outputs": [
    {
     "data": {
      "text/plain": [
       "4"
      ]
     },
     "execution_count": 62,
     "metadata": {},
     "output_type": "execute_result"
    }
   ],
   "source": [
    "kalan.student_id"
   ]
  },
  {
   "cell_type": "code",
   "execution_count": 64,
   "id": "52c3237c-fd31-4d80-8dae-40e15d2a5ff3",
   "metadata": {},
   "outputs": [
    {
     "ename": "AttributeError",
     "evalue": "'pwskills3' object has no attribute 'print_detials'",
     "output_type": "error",
     "traceback": [
      "\u001b[0;31m---------------------------------------------------------------------------\u001b[0m",
      "\u001b[0;31mAttributeError\u001b[0m                            Traceback (most recent call last)",
      "Cell \u001b[0;32mIn[64], line 1\u001b[0m\n\u001b[0;32m----> 1\u001b[0m \u001b[43mkalan\u001b[49m\u001b[38;5;241;43m.\u001b[39;49m\u001b[43mprint_detials\u001b[49m()\n",
      "\u001b[0;31mAttributeError\u001b[0m: 'pwskills3' object has no attribute 'print_detials'"
     ]
    }
   ],
   "source": [
    "kalan.print_detials()\n",
    "'''gives error bcoz in the print_details() function,you used phone_number but not\n",
    "phone_number1,therefore it raises an error''' "
   ]
  },
  {
   "cell_type": "code",
   "execution_count": null,
   "id": "6662290a-6c60-4a30-af48-786bf6a3accb",
   "metadata": {},
   "outputs": [],
   "source": [
    "#Solution -->change phone_number to phone_number1 in the print_details() method"
   ]
  },
  {
   "cell_type": "code",
   "execution_count": 71,
   "id": "69facab7-9d7b-4b5a-ade7-17c294ac3c56",
   "metadata": {},
   "outputs": [],
   "source": [
    "class pwskills4:\n",
    "    \n",
    "    def __init__(sudh ,phone_number , email_id, student_id ):\n",
    "        \n",
    "        sudh.phone_number1 = phone_number\n",
    "        sudh.email_id = email_id\n",
    "        sudh.student_id = student_id\n",
    "        \n",
    "    \n",
    "    def print_detials(sudh):\n",
    "        return sudh.phone_number, sudh.email_id , sudh.student_id"
   ]
  },
  {
   "cell_type": "code",
   "execution_count": 68,
   "id": "aad2ebc1-6913-408b-a2cd-db43d7463853",
   "metadata": {},
   "outputs": [],
   "source": [
    "malan = pwskills4(105,\"m@gmail.com\",5)"
   ]
  },
  {
   "cell_type": "code",
   "execution_count": 69,
   "id": "8f012554-26d1-492d-a46f-12d4b6efc547",
   "metadata": {},
   "outputs": [
    {
     "data": {
      "text/plain": [
       "105"
      ]
     },
     "execution_count": 69,
     "metadata": {},
     "output_type": "execute_result"
    }
   ],
   "source": [
    "malan.phone_number1"
   ]
  },
  {
   "cell_type": "code",
   "execution_count": 72,
   "id": "22a5d7d8-b323-4cbe-8160-eb5eb92f7aae",
   "metadata": {},
   "outputs": [
    {
     "ename": "AttributeError",
     "evalue": "'pwskills4' object has no attribute 'print_details'",
     "output_type": "error",
     "traceback": [
      "\u001b[0;31m---------------------------------------------------------------------------\u001b[0m",
      "\u001b[0;31mAttributeError\u001b[0m                            Traceback (most recent call last)",
      "Cell \u001b[0;32mIn[72], line 1\u001b[0m\n\u001b[0;32m----> 1\u001b[0m \u001b[43mmalan\u001b[49m\u001b[38;5;241;43m.\u001b[39;49m\u001b[43mprint_details\u001b[49m()\n",
      "\u001b[0;31mAttributeError\u001b[0m: 'pwskills4' object has no attribute 'print_details'"
     ]
    }
   ],
   "source": [
    "malan.print_details()  #--->DOUBT<---#"
   ]
  },
  {
   "cell_type": "code",
   "execution_count": null,
   "id": "30de3b76-35fd-4053-a12a-055a9577970d",
   "metadata": {},
   "outputs": [],
   "source": []
  }
 ],
 "metadata": {
  "kernelspec": {
   "display_name": "Python 3 (ipykernel)",
   "language": "python",
   "name": "python3"
  },
  "language_info": {
   "codemirror_mode": {
    "name": "ipython",
    "version": 3
   },
   "file_extension": ".py",
   "mimetype": "text/x-python",
   "name": "python",
   "nbconvert_exporter": "python",
   "pygments_lexer": "ipython3",
   "version": "3.10.8"
  }
 },
 "nbformat": 4,
 "nbformat_minor": 5
}
